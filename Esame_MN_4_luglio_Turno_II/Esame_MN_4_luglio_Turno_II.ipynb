{
 "cells": [
  {
   "cell_type": "markdown",
   "id": "73aa0225-b2dd-4e47-8ded-3a61037a72c4",
   "metadata": {},
   "source": [
    "## Esame Metodi Numerici  4 Luglio 2024 - Turno II Ore 12,30"
   ]
  },
  {
   "cell_type": "markdown",
   "id": "18395123-3e72-4667-9f4c-5c98ddd3412d",
   "metadata": {},
   "source": [
    "# Esercizio 1\n",
    "\n",
    "Si considerino i due sistemi lineari:\n",
    "\n",
    "     A  x = b \n",
    "\n",
    "    A1 x1 = b1\n",
    "\n",
    "dove A, A1 sono le matrici dei coefficienti, b e b1 sono i termini noti, ed x ed x1 sono i vettori incogniti da determinare.\n",
    "I dati di questi due sistemi lineari sono contenuti nel file **testII.mat**.\n",
    "\n",
    "\n",
    "- Si risolva ciascuno dei sistemi lineari assegnati  utilizzando il metodo più adatto in base alle caratteristiche della matrice dei coefficienti, giustificando teoricamente le scelte effettuate.\n",
    "                                      **punti 6**\n",
    "\n",
    "Per il sistema A1 x1= b1, , aggiungere una perturbazione dello 0.1% sulla componente 1-esima del termine noto, e risolvere il sistema con termine noto perturbato. Calcolare quindi  l'errore relativo sulla soluzione e l'errore relativo sui dati e giustificare i risultati alla luce della teoria.\n",
    "                                      **punti 2**\n",
    "\n",
    "\n",
    "Per la lettura dei dati procedere nel seguente modo:\n",
    "\n",
    "``from scipy.io import loadmat``\n",
    "\n",
    "``import numpy as np``\n",
    "\n",
    "``dati = loadmat('testII')``\n",
    "\n",
    "``A=dati[\"A\"] ``\n",
    "\n",
    "``A=A.astype(float)``\n",
    "\n",
    "`` b=dati[\"b\"] ``\n",
    "\n",
    "`` b=b.astype(float)``\n",
    "\n",
    "``A1=dati[\"A1\"] ``\n",
    "\n",
    "``A1=A1.astype(float)``\n",
    "\n",
    "`` b1=dati[\"b1\"] ``\n",
    "\n",
    "`` b1=b1.astype(float)``"
   ]
  },
  {
   "cell_type": "code",
   "execution_count": 1,
   "id": "194af655-06b6-4feb-9ef9-1b89a2d3a2f0",
   "metadata": {},
   "outputs": [],
   "source": [
    "from scipy.io import loadmat\n",
    "\n",
    "import numpy as np\n",
    "import matplotlib.pyplot as plt\n",
    "import scipy.linalg as spLin\n",
    "from SolveTriangular import *\n",
    "\n",
    "dati = loadmat('testII')\n",
    "A=dati[\"A\"] \n",
    "A=A.astype(float)\n",
    "b=dati[\"b\"]\n",
    "b=b.astype(float)\n",
    "A1=dati[\"A1\"] \n",
    "A1=A1.astype(float)\n",
    "b1=dati[\"b1\"]\n",
    "b1=b1.astype(float)"
   ]
  },
  {
   "cell_type": "code",
   "execution_count": 2,
   "id": "4c76af75-13d3-4464-b7f3-dff188e184fe",
   "metadata": {},
   "outputs": [
    {
     "name": "stdout",
     "output_type": "stream",
     "text": [
      "Matrice quadrata, dim:  10\n",
      "Sparsità_  0.96\n"
     ]
    }
   ],
   "source": [
    "m,n = A.shape\n",
    "if m==n:\n",
    "    print(\"Matrice quadrata, dim: \", m)\n",
    "else: \n",
    "    print(\"matrice non quadrata\")\n",
    "\n",
    "sp=np.count_nonzero(A)/(m*n)\n",
    "print(\"Sparsità_ \", sp)"
   ]
  },
  {
   "cell_type": "code",
   "execution_count": 3,
   "id": "a0601cec-293f-427a-a928-a680771dbbb3",
   "metadata": {},
   "outputs": [
    {
     "data": {
      "text/plain": [
       "<matplotlib.image.AxesImage at 0x167ec59d0>"
      ]
     },
     "execution_count": 3,
     "metadata": {},
     "output_type": "execute_result"
    },
    {
     "data": {
      "image/png": "[encoded data removed]",
      "text/plain": [
       "<Figure size 640x480 with 1 Axes>"
      ]
     },
     "metadata": {},
     "output_type": "display_data"
    }
   ],
   "source": [
    "plt.spy(A)"
   ]
  },
  {
   "cell_type": "code",
   "execution_count": 4,
   "id": "84d6213f-065b-401c-b57b-43540354b135",
   "metadata": {},
   "outputs": [
    {
     "name": "stdout",
     "output_type": "stream",
     "text": [
      "matrice simmetrica\n"
     ]
    }
   ],
   "source": [
    "flagS = A.T==A\n",
    "if np.all(flagS==True):\n",
    "    print(\"matrice simmetrica\")\n",
    "else: \n",
    "    print(\"Matrice non simmetrica\")"
   ]
  },
  {
   "cell_type": "code",
   "execution_count": 5,
   "id": "4ab03703-7633-462c-8c8f-7746830e88f2",
   "metadata": {},
   "outputs": [
    {
     "name": "stdout",
     "output_type": "stream",
     "text": [
      "def pos\n"
     ]
    }
   ],
   "source": [
    "autovalori = np.linalg.eigvals(A)\n",
    "if np.all(autovalori>0):\n",
    "    print(\"def pos\")\n",
    "else:\n",
    "    print(\"Non def pos\")"
   ]
  },
  {
   "cell_type": "code",
   "execution_count": 6,
   "id": "7d25bd9d-765c-4806-8fe4-004a8e1cbca9",
   "metadata": {},
   "outputs": [
    {
     "name": "stdout",
     "output_type": "stream",
     "text": [
      "COndizionamento di A:  12.81454459956794\n"
     ]
    }
   ],
   "source": [
    "condA=np.linalg.cond(A)\n",
    "print(\"COndizionamento di A: \", condA)"
   ]
  },
  {
   "cell_type": "code",
   "execution_count": 7,
   "id": "b2ff64a7-dc99-4b74-aef6-9d68e4a5d2b0",
   "metadata": {},
   "outputs": [
    {
     "name": "stdout",
     "output_type": "stream",
     "text": [
      "X: [[1.]\n",
      " [1.]\n",
      " [1.]\n",
      " [1.]\n",
      " [1.]\n",
      " [1.]\n",
      " [1.]\n",
      " [1.]\n",
      " [1.]\n",
      " [1.]]\n"
     ]
    }
   ],
   "source": [
    "#la matrice è simmetrica e definita positiva quindi uso la fattorizzazione di Choleski\n",
    "\n",
    "L= spLin.cholesky(A, lower=True)\n",
    "y=np.linalg.solve(L, b)\n",
    "x=np.linalg.solve(L.T, y)\n",
    "\n",
    "print(\"X:\", x)"
   ]
  },
  {
   "cell_type": "code",
   "execution_count": 8,
   "id": "1f7bf9a4-e198-4527-9179-598e6bd83812",
   "metadata": {},
   "outputs": [
    {
     "name": "stdout",
     "output_type": "stream",
     "text": [
      "Matrice non quadrata, m:  20 n:  15\n"
     ]
    }
   ],
   "source": [
    "m1,n1=A1.shape\n",
    "if m1==n1:\n",
    "    print(\"Matrice quadrata: \", m1)\n",
    "else:\n",
    "    print(\"Matrice non quadrata, m: \", m1, \"n: \",n1)"
   ]
  },
  {
   "cell_type": "code",
   "execution_count": 9,
   "id": "4a8fe19b-3277-437a-8d62-e59c97291a13",
   "metadata": {},
   "outputs": [
    {
     "name": "stdout",
     "output_type": "stream",
     "text": [
      "Condizionamento A1:  5.4550631866614824e+16\n"
     ]
    }
   ],
   "source": [
    "condA1 = np.linalg.cond(A1)\n",
    "print(\"Condizionamento A1: \", condA1)"
   ]
  },
  {
   "cell_type": "code",
   "execution_count": 10,
   "id": "ef112451-2afe-4bdb-9fa1-691b7ba787d9",
   "metadata": {},
   "outputs": [
    {
     "name": "stdout",
     "output_type": "stream",
     "text": [
      "Non è a ragno massimo\n"
     ]
    }
   ],
   "source": [
    "rankA1= np.linalg.matrix_rank(A1)\n",
    "if rankA1 == min(A.shape):\n",
    "    print(\"matrice è a a rango massimo\")\n",
    "else:\n",
    "    print(\"Non è a ragno massimo\")"
   ]
  },
  {
   "cell_type": "code",
   "execution_count": 11,
   "id": "21d05dc3-d6ba-4e81-97ab-060211af60eb",
   "metadata": {},
   "outputs": [],
   "source": [
    "#Essendo la matrice molot mal condizionata e non a rango massimo uso il metodo SVDLS\n",
    "def SVDLS(A,b):\n",
    "    m,n=A.shape  #numero di righe e  numero di colonne di A\n",
    "    U,s,VT=spLin.svd(A)  \n",
    "    \n",
    "    V=VT.T\n",
    "    thresh=np.spacing(1)*m*s[0] ##Calcolo del rango della matrice, numero dei valori singolari maggiori di una soglia\n",
    "    k=np.count_nonzero(s>thresh)\n",
    "    \n",
    "    d=U.T@b \n",
    "    d1=d[:k].reshape(k,1) \n",
    "    s1=s[:k].reshape(k,1)\n",
    "    \n",
    "    c=d1/s1 \n",
    "    x=V[:,:k]@c \n",
    "    residuo=np.linalg.norm(d[k:])**2 \n",
    "    return x,residuo"
   ]
  },
  {
   "cell_type": "code",
   "execution_count": 19,
   "id": "bf2436d6-84c3-4f0c-b986-85dcde51a143",
   "metadata": {},
   "outputs": [
    {
     "name": "stdout",
     "output_type": "stream",
     "text": [
      "X:  [[0.5210993 ]\n",
      " [1.25827182]\n",
      " [1.27889527]\n",
      " [0.46087355]\n",
      " [0.89024294]\n",
      " [1.04762977]\n",
      " [0.29616227]\n",
      " [0.59585228]\n",
      " [1.13383321]\n",
      " [0.94430646]\n",
      " [1.32127485]\n",
      " [0.97301581]\n",
      " [0.15568769]\n",
      " [0.79644108]\n",
      " [1.09968922]]\n"
     ]
    },
    {
     "data": {
      "image/png": "[encoded data removed]",
      "text/plain": [
       "<Figure size 800x400 with 1 Axes>"
      ]
     },
     "metadata": {},
     "output_type": "display_data"
    }
   ],
   "source": [
    "xS, residuoS = SVDLS(A1, b1)\n",
    "print(\"X: \", xS)\n",
    "plt.figure(figsize=(8,4))\n",
    "plt.plot(range(len(xS)), xS.flatten(), color='skyblue')\n",
    "plt.title(\"Soluzione approssimata con SVDLS\")\n",
    "plt.xlabel(\"Indice\")\n",
    "plt.ylabel(\"Valore di x\")\n",
    "plt.grid(True)\n",
    "plt.show()"
   ]
  },
  {
   "cell_type": "code",
   "execution_count": 24,
   "id": "013267fe-9cbe-436d-a4d9-9dcfabd1b8aa",
   "metadata": {},
   "outputs": [
    {
     "name": "stdout",
     "output_type": "stream",
     "text": [
      "X:  [[0.57871682]\n",
      " [1.35873859]\n",
      " [1.3606347 ]\n",
      " [0.5246878 ]\n",
      " [0.90527175]\n",
      " [1.03716026]\n",
      " [0.27962787]\n",
      " [0.57025909]\n",
      " [1.1336439 ]\n",
      " [0.9538572 ]\n",
      " [1.14640487]\n",
      " [0.96020512]\n",
      " [0.10594365]\n",
      " [0.74210628]\n",
      " [1.06711618]]\n"
     ]
    },
    {
     "data": {
      "image/png": "[encoded data removed]",
      "text/plain": [
       "<Figure size 800x400 with 1 Axes>"
      ]
     },
     "metadata": {},
     "output_type": "display_data"
    }
   ],
   "source": [
    "b1_per= b1.copy()\n",
    "b1_per[1]=b1_per[1]+0.1\n",
    "x_per, residuo_per= SVDLS(A1, b1_per)\n",
    "print(\"X: \", x_per)\n",
    "plt.figure(figsize=(8,4))\n",
    "plt.plot(range(len(x_per)), x_per.flatten(), color='skyblue')\n",
    "plt.title(\"Soluzione approssimata con SVDLS\")\n",
    "plt.xlabel(\"Indice\")\n",
    "plt.ylabel(\"Valore di x\")\n",
    "plt.grid(True)\n",
    "plt.show()"
   ]
  },
  {
   "cell_type": "code",
   "execution_count": 23,
   "id": "7c1fe60b-db01-481f-bcb7-5387c3efdb41",
   "metadata": {},
   "outputs": [
    {
     "name": "stdout",
     "output_type": "stream",
     "text": [
      "Errore relativo sui dati:  0.005099162520487184\n",
      "Errore relativo sulla soluzione:  0.033523822474332256\n"
     ]
    }
   ],
   "source": [
    "err_rel_dati=np.linalg.norm(b1_per - b1)/np.linalg.norm(b1)\n",
    "err_rel_sol= np.linalg.norm(x_per-xS)/np.linalg.norm(xS)\n",
    "\n",
    "print(\"Errore relativo sui dati: \", err_rel_dati)\n",
    "print(\"Errore relativo sulla soluzione: \", err_rel_sol)"
   ]
  },
  {
   "cell_type": "markdown",
   "id": "83625f69-f268-4b7b-a57e-800d00f4057e",
   "metadata": {},
   "source": [
    "- Dato il sistema lineare \n",
    "A3 x3 = b3\n",
    "dove \n",
    "\n",
    "A3=np.array([[8.0,0,1,1],[0,0.8,1,0],[1,1,2,0],[1,0,0.0,2.0]])\n",
    "b3= np.array([10.0, 1.8,  4.0, 3.0])\n",
    "\n",
    "- Verificare senza calcolare il raggio spettrale della matrice di iterazione che il metodo di Gauss-Seidel converge, richiamando il teorema che garantisce la convergenza di Gauss-Seidel per classi particolari di \n",
    "matrici     **punti[1]**.\n",
    "- Implementare il metodo di Gauss-Seidel  e risolvere il sistema lineare A3 x3= b3  **punti[3]**.\n",
    "\n",
    "Totale **Punti 12**"
   ]
  },
  {
   "cell_type": "code",
   "execution_count": 26,
   "id": "ec9f6ee0-1bfe-48a8-849a-aae9776fac19",
   "metadata": {},
   "outputs": [
    {
     "name": "stdout",
     "output_type": "stream",
     "text": [
      "non converge\n"
     ]
    }
   ],
   "source": [
    "A3=np.array([[8.0,0,1,1],[0,0.8,1,0],[1,1,2,0],[1,0,0.0,2.0]]) \n",
    "b3= np.array([10.0, 1.8, 4.0, 3.0])\n",
    "#per fare in modo che il metodo di GaussSeidel converga ci sono due possibilità o calcolare il raggio sprettrale e controllare che sia minore di uno altrimenti\n",
    "#un teorema afferma che se la matrice è diagonale strettamente dominante allora il metodo converge, andiamo quindi a controllare che la matrice sia di questo tipo\n",
    "\n",
    "\n",
    "def is_strictly_diagonally_dominant(A):\n",
    "\n",
    "    n, m = A.shape\n",
    "    if n != m:\n",
    "        raise ValueError(\"La matrice deve essere quadrata\")\n",
    "\n",
    "    for i in range(n):\n",
    "        diag = abs(A[i, i])\n",
    "        off_diag_sum = np.sum(np.abs(A[i, :])) - diag\n",
    "        if diag <= off_diag_sum:\n",
    "            return False  # almeno una riga non soddisfa la condizione\n",
    "    return True\n",
    "\n",
    "if is_strictly_diagonally_dominant(A3):\n",
    "    print(\"Gauss-Seidel: converge\")\n",
    "else:\n",
    "    print(\"non converge\")"
   ]
  },
  {
   "cell_type": "code",
   "execution_count": 32,
   "id": "482d8062-236a-4934-b979-87dbb5ab5fda",
   "metadata": {},
   "outputs": [],
   "source": [
    "def gauss_seidel(A,b,x0,toll,it_max):\n",
    "    errore=1000\n",
    "    d=np.diag(A)\n",
    "    D=np.diag(d)\n",
    "    E=np.tril(A,-1)\n",
    "    F=np.triu(A,1)\n",
    "    M=D+E\n",
    "    N=-F \n",
    "    T=np.linalg.inv(M)@N\n",
    "    autovalori=np.linalg.eigvals(T)\n",
    "    raggiospettrale=np.max(np.abs(autovalori))\n",
    "    print(\"raggio spettrale Gauss-Seidel \",raggiospettrale)\n",
    "    it=0\n",
    "    er_vet=[]\n",
    "    while it<it_max and errore>=toll:\n",
    "        x,flag=Lsolve(M, b-F@x0)\n",
    "        errore=np.linalg.norm(x-x0)/np.linalg.norm(x) \n",
    "        er_vet.append(errore)\n",
    "        x0=x.copy()\n",
    "        it=it+1\n",
    "    return x,it,er_vet"
   ]
  },
  {
   "cell_type": "code",
   "execution_count": 33,
   "id": "8ea2ca04-5d4a-41c3-b3ee-7d169c760047",
   "metadata": {},
   "outputs": [
    {
     "name": "stdout",
     "output_type": "stream",
     "text": [
      "raggio spettrale Gauss-Seidel  0.6936887195995491\n"
     ]
    },
    {
     "ename": "ValueError",
     "evalue": "could not broadcast input array from shape (4,) into shape (1,)",
     "output_type": "error",
     "traceback": [
      "\u001b[0;31m---------------------------------------------------------------------------\u001b[0m",
      "\u001b[0;31mValueError\u001b[0m                                Traceback (most recent call last)",
      "Cell \u001b[0;32mIn[33], line 4\u001b[0m\n\u001b[1;32m      2\u001b[0m toll\u001b[38;5;241m=\u001b[39m\u001b[38;5;241m1e-6\u001b[39m\n\u001b[1;32m      3\u001b[0m it_max\u001b[38;5;241m=\u001b[39m\u001b[38;5;241m100\u001b[39m\n\u001b[0;32m----> 4\u001b[0m xG, itG, er_vetG \u001b[38;5;241m=\u001b[39m gauss_seidel(A3,b3,x0, toll, it_max)\n",
      "Cell \u001b[0;32mIn[32], line 16\u001b[0m, in \u001b[0;36mgauss_seidel\u001b[0;34m(A, b, x0, toll, it_max)\u001b[0m\n\u001b[1;32m     14\u001b[0m er_vet\u001b[38;5;241m=\u001b[39m[]\n\u001b[1;32m     15\u001b[0m \u001b[38;5;28;01mwhile\u001b[39;00m it\u001b[38;5;241m<\u001b[39mit_max \u001b[38;5;129;01mand\u001b[39;00m errore\u001b[38;5;241m>\u001b[39m\u001b[38;5;241m=\u001b[39mtoll:\n\u001b[0;32m---> 16\u001b[0m     x,flag\u001b[38;5;241m=\u001b[39mLsolve(M, b\u001b[38;5;241m-\u001b[39mF\u001b[38;5;129m@x0\u001b[39m)\n\u001b[1;32m     17\u001b[0m     errore\u001b[38;5;241m=\u001b[39mnp\u001b[38;5;241m.\u001b[39mlinalg\u001b[38;5;241m.\u001b[39mnorm(x\u001b[38;5;241m-\u001b[39mx0)\u001b[38;5;241m/\u001b[39mnp\u001b[38;5;241m.\u001b[39mlinalg\u001b[38;5;241m.\u001b[39mnorm(x) \n\u001b[1;32m     18\u001b[0m     er_vet\u001b[38;5;241m.\u001b[39mappend(errore)\n",
      "File \u001b[0;32m~/Desktop/UNI/secondoAnno/MetodiNumerici/lab/MetodiNumericiLab/Esame_MN_4_luglio_Turno_II/SolveTriangular.py:32\u001b[0m, in \u001b[0;36mLsolve\u001b[0;34m(L, b)\u001b[0m\n\u001b[1;32m     30\u001b[0m \u001b[38;5;28;01mfor\u001b[39;00m i \u001b[38;5;129;01min\u001b[39;00m \u001b[38;5;28mrange\u001b[39m(n):\n\u001b[1;32m     31\u001b[0m      s\u001b[38;5;241m=\u001b[39mnp\u001b[38;5;241m.\u001b[39mdot(L[i,:i],x[:i]) \u001b[38;5;66;03m#scalare=vettore riga * vettore colonna\u001b[39;00m\n\u001b[0;32m---> 32\u001b[0m      x[i]\u001b[38;5;241m=\u001b[39m(b[i]\u001b[38;5;241m-\u001b[39ms)\u001b[38;5;241m/\u001b[39mL[i,i]\n\u001b[1;32m     35\u001b[0m \u001b[38;5;28;01mreturn\u001b[39;00m x,flag\n",
      "\u001b[0;31mValueError\u001b[0m: could not broadcast input array from shape (4,) into shape (1,)"
     ]
    }
   ],
   "source": [
    "x0=np.zeros_like(b3)\n",
    "toll=1e-6\n",
    "it_max=100\n",
    "xG, itG, er_vetG = gauss_seidel(A3,b3,x0, toll, it_max)"
   ]
  },
  {
   "cell_type": "markdown",
   "id": "26e0b8fe-c204-4a42-9bbf-0b338fbdcf8c",
   "metadata": {},
   "source": [
    "## Esercizio 2\n",
    "\n",
    "Per ogni $k \\in N$ l'equazione di II grado $x^2+(4^{2k}-2^{-2k})x-4^{2k}2^{-2k}=0 $ ha come soluzioni esatte $x_1=-4^{2k}$,$x_2=2^{-2k}$,"
   ]
  },
  {
   "cell_type": "markdown",
   "id": "f2ba7174-2dcc-47fd-9aaf-a890de3a0dcd",
   "metadata": {},
   "source": [
    "Scrivere lo script python in cui\n",
    "- si implementa la formula risolutiva delle equazioni di II grado per calcolare le  due soluzioni per $k$ che  assume valori interi tra 4 e 12;  [**Punti 2**]\n",
    "- per entrambe le soluzioni, si calcola l'errore relativo commesso al variare di k che assume valori interi tra 4 e 12;   [**Punti 1**]\n",
    "- si rappresentano in un grafico gli andamenti dei due errori relativi calcolati nel punto precedente; [**Punti 1**]\n",
    "- osservando i grafici ottenuti, si dica se le formule utilizzate per calcolare le due soluzioni hanno dato luogo ad algoritmi stabili, motivando opportunamente la risposta alla luce della teoria.   [**Punti 4**]\n",
    "\n",
    "- proporre ed implementare un algoritmo alternativo stabile per il calcolo della soluzione per cui la formula risolutiva classica si è dimostrata non essere stabile. [**Punti 2**]"
   ]
  },
  {
   "cell_type": "markdown",
   "id": "828a3a5c-f225-4808-a221-785c0cee8df0",
   "metadata": {},
   "source": [
    "- Ricavavare la formula che quantifica l'indice di condizionamento del problema di valutare una funzione $f:R \\rightarrow R$ in un punto $x \\in R$ [**punti 3**]"
   ]
  },
  {
   "cell_type": "markdown",
   "id": "b1e3945c-db1a-4b49-b80b-cc12c5330e68",
   "metadata": {},
   "source": [
    "## Domande Intelligenza Artificiale\n",
    "**NB: Ogni risposta esatta:  +0.5 punti, ogni risposta errata: -0.5 punti. La mancanza di risposta:  0 punti**"
   ]
  },
  {
   "cell_type": "markdown",
   "id": "aa9e415e-dc1f-42b0-aa27-cb4a046582c5",
   "metadata": {},
   "source": [
    "Domande a risposta multipla"
   ]
  },
  {
   "cell_type": "markdown",
   "id": "b5e2df13-7d65-4214-9195-fc5942a98a21",
   "metadata": {},
   "source": [
    "**1** \n",
    "Quale delle seguenti affermazioni è FALSA riguardo alle reti MLP (Multilayer Perceptron)?\n",
    "\n",
    "- Le reti MLP sono composte da uno o più strati nascosti di neuroni.\n",
    "- Le reti MLP utilizzano una funzione di attivazione non lineare per introdurre una non linearità nel modello.\n",
    "\n",
    "- Le reti MLP sono in grado di apprendere solo relazioni lineari tra i dati di input e output.\n",
    "\n",
    "- Le reti MLP possono essere utilizzate per risolvere una vasta gamma di problemi di apprendimento automatico, tra cui la classificazione e la regressione."
   ]
  },
  {
   "cell_type": "markdown",
   "id": "5474e22e-e367-4289-8a1c-ed104eb111c6",
   "metadata": {},
   "source": [
    "**2.**  Quale delle seguenti affermazioni è la definizione CORRETTA di learning rate nel training di una rete neurale?\n",
    "\n",
    "A) Il numero di volte in cui l'intero set di dati viene utilizzato durante il training.\n",
    "\n",
    "B) Un parametro che controlla la velocità con cui i pesi della rete vengono aggiornati durante il training.\n",
    "\n",
    "C) Il numero di neuroni presenti nello strato di output della rete.\n",
    "\n",
    "D) La funzione di attivazione utilizzata dai neuroni della rete.ressione"
   ]
  },
  {
   "cell_type": "markdown",
   "id": "328706ff-0d3c-4b99-97f3-d2eea5158c0c",
   "metadata": {},
   "source": [
    "**3.**  \n",
    "Quale tra le seguenti affermazioni descrive meglio il compito della funzione di attivazione nel training di una rete neurale?\n",
    "\n",
    "- Trasformare i dati di input in un formato compatibile con la rete neurale\n",
    "\n",
    "- Introdurre una non linearità nel flusso di informazioni della rete\n",
    "\n",
    "- Calcolare l'errore tra l'output previsto e quello effettivo\n",
    "\n",
    "- Aggiornare i pesi delle connessioni tra i neuroni softmax\n"
   ]
  },
  {
   "cell_type": "markdown",
   "id": "248323f7-7a5a-478b-b446-71db7d2ff490",
   "metadata": {},
   "source": [
    "**4.** Quale delle seguenti definizioni descrive meglio un'epoca nel training di una rete neurale?\n",
    "- Il numero di volte in cui viene aggiornato un singolo peso nella rete\n",
    "- Il tempo impiegato per completare un ciclo di forward pass e backward propagation\n",
    "- Il numero di volte in cui l'intero set di dati di training viene esposto alla rete\n",
    "- Una misura della complessità del modello di rete neurale\n"
   ]
  },
  {
   "cell_type": "markdown",
   "id": "0ab76c03-ab08-49b8-a688-688ca2aa7cbe",
   "metadata": {},
   "source": [
    "**5.** Quale tra le seguenti affermazioni è FALSA riguardo alla suddivisione del dataset in un contesto di machine learning?\n",
    "\n",
    "- La suddivisione del dataset in set di training, validation e test è fondamentale per valutare correttamente le prestazioni di un modello di machine learning.\n",
    "- Il set di training viene utilizzato per addestrare il modello sui dati.\n",
    "- Il set di validation viene utilizzato per trovare le etichette dei dati di input\n",
    "- Il set di test viene utilizzato per valutare le prestazioni finali del modello su dati che non sono stati utilizzati per il training o la validation.\n"
   ]
  },
  {
   "cell_type": "markdown",
   "id": "b18ecaab-5021-450a-90d5-720082587ddb",
   "metadata": {},
   "source": [
    "**Domande aperte**"
   ]
  },
  {
   "cell_type": "markdown",
   "id": "9d9bcf40-f194-4892-ad65-a2055d694430",
   "metadata": {},
   "source": [
    "**6. Descrivi in cosa consiste la fase di forward-propagation e back-propagation nell'ambito del training di una rete neurale, soffermandoti sull'importanza dell'algoritmo di backpropagation** per il calcolo delle derivate parziali della funzione costo rispetto ai pesi di tutti i layer **[punti 1.5]**\n",
    "\n",
    "**7** Ricavare la formula di aggiornamento dei pesi mediante algoritmo di backpropagation nel caso di una rete MLP formata da un nodo di input, 2 layer nascosti ciascuno dei quali costituito da un solo neurone ed un nodo di output.   **[punti: 3]**"
   ]
  },
  {
   "cell_type": "markdown",
   "id": "b24fca09-a7e4-4fc2-9dcb-f052a31248e4",
   "metadata": {},
   "source": []
  }
 ],
 "metadata": {
  "kernelspec": {
   "display_name": "Python 3 (ipykernel)",
   "language": "python",
   "name": "python3"
  },
  "language_info": {
   "codemirror_mode": {
    "name": "ipython",
    "version": 3
   },
   "file_extension": ".py",
   "mimetype": "text/x-python",
   "name": "python",
   "nbconvert_exporter": "python",
   "pygments_lexer": "ipython3",
   "version": "3.12.7"
  }
 },
 "nbformat": 4,
 "nbformat_minor": 5
}
