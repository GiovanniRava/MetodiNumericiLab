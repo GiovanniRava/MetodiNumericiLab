{
 "cells": [
  {
   "cell_type": "markdown",
   "id": "1038908a-96c6-4d62-9f92-a83abf6dd805",
   "metadata": {},
   "source": [
    "## Esercitazione 1 Aprile 2025"
   ]
  },
  {
   "cell_type": "markdown",
   "id": "e89c081d-1fba-460b-b794-1f729e96ba01",
   "metadata": {
    "tags": []
   },
   "source": [
    " # Implementare le function corde, secanti, Newton per il calcolo degli zeri di equazioni non lineari."
   ]
  },
  {
   "cell_type": "code",
   "execution_count": null,
   "id": "c56897bc-af3b-4a14-bc48-90813f6ce29a",
   "metadata": {},
   "outputs": [],
   "source": [
    "## Esercizio 1 \n",
    "\n",
    " Confrontare tutti i metodi implementati (bisezione, falsa posizione, corde, secanti, Newton) nei casi seguenti:\n",
    "- f(x) = $x^3-6x^2-4x+24$ in [-3,8], tolx = 1.e − 12, tolf = 1.e − 12, (soluzione esatta alfa=-2,2,6);\n",
    "- f(x) = exp(−x) − (x + 1) in [−1, 2]  tolx = 1.e − 12, tolf = 1.e − 12, (soluzione esatta alfa=0);\n",
    "- f(x) = log2(x + 3) − 2 in [−1, 2]  tolx = 1.e − 12, tolf = 1.e − 12, (soluzione esatta alfa=1);\n",
    "- f(x) =sqrt(x)-(x^2)/4 in [1, 3]  tolx = 1.e − 12, tolf =1.e − 12, (soluzione esatta alfa=2**(4/3))\n",
    "\n",
    "Mostrare in un grafico in scala semilogaritmica sulle ordinate (comando semilogy) l’andamento di ek = |xk − α|, k = 1, ..., nit, sapendo che α = 0, 1, 2**(4/3) nei casi 2-4.\n",
    "\n",
    "Calcolare l'ordine di ciascun metodo.\n"
   ]
  },
  {
   "cell_type": "markdown",
   "id": "2ce8bd1f-9813-40d9-a374-261bc9e16ed8",
   "metadata": {},
   "source": [
    "Calcolare gli zeri della funzione $f(x)=x^4-9x^2+4x+12$ definita sul'intervallo [-4,4] usando i metodi di Newton, corde e secandi, scegliendo opportunamente l'iterato iniziale per ogni metodo."
   ]
  },
  {
   "cell_type": "code",
   "execution_count": 10,
   "id": "a507204a-d70e-45e0-9aa2-09a6e3869b14",
   "metadata": {},
   "outputs": [],
   "source": [
    "import sympy as sym\n",
    "import numpy as np\n",
    "import matplotlib.pyplot as plt"
   ]
  },
  {
   "cell_type": "code",
   "execution_count": 52,
   "id": "1c704aa9-bcad-4488-afb2-c8335c8901db",
   "metadata": {},
   "outputs": [],
   "source": [
    "def corde (fname,coeff_ang, x0, tolx, tolf, nmax):\n",
    "    xk=[]\n",
    "    it = 0\n",
    "    errorex = 1 + tolx\n",
    "    erroref = 1 + tolf\n",
    "\n",
    "    while it<nmax and erroref >= tolf and errorex >= tolx :\n",
    "        fx0 = fname(x0)\n",
    "        d = fx0/coeff_ang\n",
    "        x1 = x0 - d\n",
    "        fx1=fname(x1)\n",
    "        erroref = abs(fx1)\n",
    "        if x1 != 0:\n",
    "            errorex = abs(d)/abs(x1)\n",
    "        else: \n",
    "            errorex=abs(d)\n",
    "        x0=x1\n",
    "        it=it+1\n",
    "        xk.append(x1)\n",
    "    if it==nmax:\n",
    "        print(\"Corde: raggiunto il numero massimo di iterazioni \\n\")\n",
    "    return x1, it, xk"
   ]
  },
  {
   "cell_type": "code",
   "execution_count": 56,
   "id": "5ba16538-518e-4371-a5db-8664f5c3a480",
   "metadata": {},
   "outputs": [
    {
     "data": {
      "image/png": "[encoded data removed]",
      "text/plain": [
       "<Figure size 640x480 with 1 Axes>"
      ]
     },
     "metadata": {},
     "output_type": "display_data"
    },
    {
     "name": "stdout",
     "output_type": "stream",
     "text": [
      "zero corde  3.8360249906498615e-13 iterazioni corde 11\n"
     ]
    },
    {
     "data": {
      "text/plain": [
       "[<matplotlib.lines.Line2D at 0x1dd141dc620>]"
      ]
     },
     "execution_count": 56,
     "metadata": {},
     "output_type": "execute_result"
    },
    {
     "data": {
      "image/png": "[encoded data removed]",
      "text/plain": [
       "<Figure size 640x480 with 1 Axes>"
      ]
     },
     "metadata": {},
     "output_type": "display_data"
    }
   ],
   "source": [
    "from sympy import lambdify\n",
    "x= sym.symbols('x')\n",
    "fs = sym.exp(-x) -(x+1)\n",
    "dfs = sym.diff(fs, x, 1)\n",
    "f_n = lambdify(x, fs,np)\n",
    "df_n = lambdify(x,dfs,np)\n",
    "a = -1.0\n",
    "b = 2.0\n",
    "tolx =1e-12\n",
    "tolf=1e-12\n",
    "nmax=100\n",
    "alpha = 0.0\n",
    "xx=np.linspace(a,b,100)\n",
    "plt.plot(xx, f_n(xx), xx, np.zeros_like(xx))\n",
    "plt.show()\n",
    "x0 = -0.5\n",
    "coeff_ang = (f_n(b) -f_n(a))/(b-a)\n",
    "x1_c, it_c, xk_c = corde(f_n, coeff_ang, x0, tolx, tolf, nmax)\n",
    "print(\"zero corde \", x1_c, \"iterazioni corde\" , it_c)\n",
    "e_c=np.abs(np.array(xk_c)-alpha)\n",
    "plt.semilogy(range(it_c), e_c, 'ro')"
   ]
  },
  {
   "cell_type": "code",
   "execution_count": 58,
   "id": "e07229fe-d5aa-46c6-9ea3-12e99a839dcc",
   "metadata": {},
   "outputs": [],
   "source": [
    "def Newton (fname,coeff_ang, x0, tolx, tolf, nmax):\n",
    "    xk=[]\n",
    "    it = 0\n",
    "    errorex = 1 + tolx\n",
    "    erroref = 1 + tolf\n",
    "\n",
    "    while it<nmax and erroref >= tolf and errorex >= tolx :\n",
    "        fx0 = fname(x0)\n",
    "        d = fx0/fpname(x0)\n",
    "        x1 = x0 - d\n",
    "        erroref = abs(fx1)\n",
    "        if x1 != 0:\n",
    "            errorex = abs(d)/abs(x1)\n",
    "        else: \n",
    "            errorex=abs(d)\n",
    "        x0=x1\n",
    "        it=it+1\n",
    "        xk.append(x1)\n",
    "    if it==nmax:\n",
    "        print(\"Corde: raggiunto il numero massimo di iterazioni \\n\")\n",
    "    return x1, it, xk"
   ]
  },
  {
   "cell_type": "code",
   "execution_count": null,
   "id": "0f2001b3-834d-4be8-8abf-9520d0fc542b",
   "metadata": {},
   "outputs": [],
   "source": [
    "from sympy import lambdify\n",
    "x= sym.symbols('x')\n",
    "fs = sym.exp(-x) -(x+1)\n",
    "dfs = sym.diff(fs, x, 1)\n",
    "f_n = lambdify(x, fs,np)\n",
    "df_n = lambdify(x,dfs,np)\n",
    "a = -1.0\n",
    "b = 2.0\n",
    "tolx =1e-12\n",
    "tolf=1e-12\n",
    "nmax=100\n",
    "alpha = 0.0\n",
    "xx=np.linspace(a,b,100)\n",
    "plt.plot(xx, f_n(xx), xx, np.zeros_like(xx))\n",
    "plt.show()\n",
    "x0 = -0.5\n",
    "coeff_ang = (f_n(b) -f_n(a))/(b-a)\n",
    "x1_c, it_c, xk_c = corde(f_n, coeff_ang, x0, tolx, tolf, nmax)\n",
    "print(\"zero corde \", x1_c, \"iterazioni corde\" , it_c)\n",
    "e_c=np.abs(np.array(xk_c)-alpha)\n",
    "plt.semilogy(range(it_c), e_c, 'ro')"
   ]
  },
  {
   "cell_type": "markdown",
   "id": "527ca94b-45f3-41e0-80ed-6cc71b1b32cb",
   "metadata": {},
   "source": [
    "# Scrivere la function `NewtonRaphson.py`, che implementa il metodo di Newton-Raphson\n",
    "per il calcolo della soluzione di un sistema di equazioni non lineari. \n",
    "\n",
    "Tale function\n",
    "deve assumere come dati in input:\n",
    "- fname: nome della funzione vettoriale di cui calcolare lo zero;\n",
    "- JacName: nome della funzione che calcola lo J acobiano della funzione vettoriale;\n",
    "- X0: vettore contenente le componenti dell'iterato iniziale);\n",
    "- tolx tolleranza  per il test d'arresto sull'incremento\n",
    "        ||X_{k+1}-X_k||/||X_{k}||<= tolx\n",
    "- tolf tolleranza per il test del residuo\n",
    "        ||F(Xk+1)|| <= tolf;\n",
    "- NMAX numero massimo di iterazioni.\n",
    "\n",
    "In output devono essere restituiti il vettore contenente l'approssimazione dello zero x, un vettore contenente l'errore relativo tra due iterati successivi, il numero di iterazioni effettuate, nit.\n",
    "\n",
    "\n",
    "Implementare in altre due function `NewtonRaphson_Corde.py` e `NewtonRaphson_Sham.py` le varianti Corde e la variante di  Shamanskii\n"
   ]
  },
  {
   "cell_type": "markdown",
   "id": "90b411e0-a9ba-499b-b589-ca887f7d2aea",
   "metadata": {},
   "source": [
    "## Esercizio 1\n",
    "\n",
    "Risolvere i seguenti cinque sistemi non lineari con tutti e tre i metodi e confrontare in scala logaritmica l'errore relativo tra due iterati successivi\n",
    "\n",
    "    1) \n",
    "    2x0-cos(x1)=0\n",
    "\n",
    "    sin(x0)+2x1=0\n",
    "\n",
    "    2) \n",
    "    x0^2+x1^2-4=0\n",
    "\n",
    "    x0^2-x1*2-1=0\n",
    "\n",
    "    3) \n",
    "    x0^2+x1^2-2=0\n",
    "\n",
    "    exp(x0-1)+x1^3-3\n",
    "    \n",
    "    4) \n",
    "    4x0^2+x_1^2^-4=0\n",
    "\n",
    "    x0+x1-sin(x0-x1)=0\n",
    "\n",
    "    5)\n",
    "\n",
    "    x0+x1-3=0\n",
    "\n",
    "    x0^2+x1^2-9=0\n",
    "    \n",
    "    \n",
    "Per determinare l'iterato iniziale X 0 , servirsi del metodo grafico per individuare un \n",
    "iterato iniziale nell'intorno della soluzione che si vuole approssimare. Visualizzare le \n",
    "curve di livello corrisponenti a z=O delle due superfici z = fi (x1 ,x2 ) e z = h(x1 , x 2 ) e \n",
    "definire come iterato iniziale un vettore X 0 oppurtuno le cui componenti stanno in un \n",
    "intorno della soluzione (punti di intersezione tra le curve di livello delle due superfici) "
   ]
  },
  {
   "cell_type": "code",
   "execution_count": null,
   "id": "74812baf-17bb-466b-a512-e69809f590c6",
   "metadata": {
    "tags": []
   },
   "outputs": [],
   "source": [
    "import numpy as np\n",
    "import matplotlib.pyplot as plt\n",
    "from mpl_toolkits.mplot3d import Axes3D\n",
    "import sympy as sym\n",
    "\n",
    "\n",
    "# Definizione variabili simboliche\n",
    "x_sym, y_sym = symbols('x_sym y_sym')\n",
    "\n",
    "# Definizione funzioni simboliche usando variabili simboliche \n",
    "       \n",
    "f1_sym = lambda x_sym,y_sym: x_sym+y_sym-3   #[-1,1]\n",
    "f2_sym= lambda x_sym,y_sym: x_sym**2+y_sym**2-9\n",
    "\n",
    "\n",
    "\n",
    "def F_sym(f1_sym,f2_sym):\n",
    "    return Matrix([[f1_sym(x_sym,y_sym)], [f2_sym(x_sym,y_sym)]])   \n",
    "\n",
    "# Calcolo della matrice Jacobiana simbolicamente\n",
    "J_sym = F_sym(f1_sym,f2_sym).jacobian(Matrix([x_sym, y_sym]))\n",
    "\n",
    "# Converte la matrice jacobiana Simbolica in una funzione che può essere valutata numericamente mediante lambdify\n",
    "J_numerical = lambdify([x_sym, y_sym], J_sym, np)\n",
    "\n",
    "# Converte il vettore di funzioni Simbolico in una funzione che può essere valutata numericamente mediante lambdify\n",
    "F_numerical = lambdify([x_sym, y_sym], F_sym(f1_sym,f2_sym), np)\n"
   ]
  },
  {
   "cell_type": "code",
   "execution_count": 2,
   "id": "abed3c76-bb77-461a-aec2-f688591b293b",
   "metadata": {},
   "outputs": [
    {
     "name": "stdout",
     "output_type": "stream",
     "text": [
      "ciao"
     ]
    }
   ],
   "source": [
    "print(\"ciao\")"
   ]
  },
  {
   "cell_type": "code",
   "execution_count": 60,
   "id": "2ef52d07-fcae-4a23-8e3c-8f09981da284",
   "metadata": {
    "tags": []
   },
   "outputs": [
    {
     "ename": "NameError",
     "evalue": "name 'F_numerical' is not defined",
     "output_type": "error",
     "traceback": [
      "\u001b[1;31m---------------------------------------------------------------------------\u001b[0m",
      "\u001b[1;31mNameError\u001b[0m                                 Traceback (most recent call last)",
      "Cell \u001b[1;32mIn[60], line 5\u001b[0m\n\u001b[0;32m      3\u001b[0m X, Y \u001b[38;5;241m=\u001b[39m np\u001b[38;5;241m.\u001b[39mmeshgrid(x, y)\n\u001b[0;32m      4\u001b[0m Z\u001b[38;5;241m=\u001b[39mnp\u001b[38;5;241m.\u001b[39mzeros_like(X)\n\u001b[1;32m----> 5\u001b[0m superfici\u001b[38;5;241m=\u001b[39mF_numerical(X,Y)\u001b[38;5;241m.\u001b[39msqueeze()\n\u001b[0;32m      7\u001b[0m \u001b[38;5;66;03m# Plotta la superficie direttamente\u001b[39;00m\n\u001b[0;32m      8\u001b[0m fig \u001b[38;5;241m=\u001b[39m plt\u001b[38;5;241m.\u001b[39mfigure()\n",
      "\u001b[1;31mNameError\u001b[0m: name 'F_numerical' is not defined"
     ]
    }
   ],
   "source": [
    "\n",
    "x = np.arange(-4, 4, 0.1)\n",
    "y = np.arange(-4, 4, 0.1)\n",
    "X, Y = np.meshgrid(x, y)\n",
    "Z=np.zeros_like(X)\n",
    "superfici=F_numerical(X,Y).squeeze()\n",
    " \n",
    "# Plotta la superficie direttamente\n",
    "fig = plt.figure()\n",
    "ax = fig.add_subplot(111, projection='3d')\n",
    "# Plotta la superficie\n",
    "ax.plot_surface(X, Y, superfici[0,:,:], cmap='viridis',alpha=0.5)\n",
    "# Plotta la superficie\n",
    "ax.plot_surface(X, Y, superfici[1,:,:], cmap='Reds',alpha=0.5)\n",
    "ax.plot_surface(X, Y, Z, cmap='gray',alpha=0.5)\n",
    "plt.contour(X, Y,superfici[0,:,:], levels=[0], colors='black')\n",
    "plt.contour(X, Y,superfici[1,:,:], levels=[0], colors='red')\n",
    " \n",
    "plt.show()\n"
   ]
  },
  {
   "cell_type": "code",
   "execution_count": null,
   "id": "a17ace7f-ef67-4593-8173-61dae8873663",
   "metadata": {
    "tags": []
   },
   "outputs": [],
   "source": []
  },
  {
   "cell_type": "markdown",
   "id": "11ec629d-67fa-41b9-8478-94196d33e376",
   "metadata": {
    "tags": []
   },
   "source": [
    "# Implementare il metodo di Newton Raphson per il calcolo del minimo assoluto (relativo) di una funzione non lineare.\n",
    "\n",
    "Calcolare il punto di minimo delle seguenti tre funzioni \n",
    "   $$\\frac{1}{2}(0.001(x-1)^2+(x^2-y)^2)$$\n",
    "   $$ (x - 2)^4 + (x - 2)^2 y^2+(y+1)^2$$\n",
    "   $$x^4+(x+y)^2y^2+(exp(x)-1)^2$$\n",
    "   $$100(y-x^2)^2+(1-x_sym)^2$$"
   ]
  },
  {
   "cell_type": "code",
   "execution_count": null,
   "id": "c6e74031-2cb4-4593-b97c-d11d531b8c53",
   "metadata": {},
   "outputs": [],
   "source": []
  },
  {
   "cell_type": "code",
   "execution_count": null,
   "id": "a0b1488c-2151-47a5-8908-79225eecb31a",
   "metadata": {},
   "outputs": [],
   "source": []
  },
  {
   "cell_type": "code",
   "execution_count": null,
   "id": "83fd013b-6d23-4630-83ff-0c4a5ef223fc",
   "metadata": {},
   "outputs": [],
   "source": []
  }
 ],
 "metadata": {
  "kernelspec": {
   "display_name": "Python [conda env:base] *",
   "language": "python",
   "name": "conda-base-py"
  },
  "language_info": {
   "codemirror_mode": {
    "name": "ipython",
    "version": 3
   },
   "file_extension": ".py",
   "mimetype": "text/x-python",
   "name": "python",
   "nbconvert_exporter": "python",
   "pygments_lexer": "ipython3",
   "version": "3.12.4"
  }
 },
 "nbformat": 4,
 "nbformat_minor": 5
}
