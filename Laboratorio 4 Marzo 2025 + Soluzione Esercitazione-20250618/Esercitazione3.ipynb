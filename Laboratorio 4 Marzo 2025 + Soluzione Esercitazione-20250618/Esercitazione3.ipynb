{
 "cells": [
  {
   "cell_type": "markdown",
   "id": "2f16cd51-b728-47c0-b39e-f22777b738f3",
   "metadata": {},
   "source": [
    "# Esercitazione 4 Marzo 2025"
   ]
  },
  {
   "cell_type": "markdown",
   "id": "cea7be83-908f-4132-b3df-6eb9633855a9",
   "metadata": {},
   "source": [
    "## Esercizio 1\n",
    "- Costruire due array numpy-array 2d di dimensione 5000x5000 i cui valori sono campionati da una distribuzione gaussiana con media 0 e varianza 1.\n",
    "- Effetuare la somma tra le due matrici con due metodi:\n",
    "\n",
    "\n",
    "        -  utilizzando le operazioni vettoriali \n",
    "        -  considerando due cicli espliciti annidati, su righe e colonne\n",
    "- Confrontare le prestazioni in termini di tempo di esecuzione.\n",
    "        \n"
   ]
  },
  {
   "cell_type": "code",
   "execution_count": 2,
   "id": "f15ac0e2-e62f-41d1-8911-9557335e3f8a",
   "metadata": {},
   "outputs": [],
   "source": [
    "import numpy as np \n",
    "import time "
   ]
  },
  {
   "cell_type": "code",
   "execution_count": 4,
   "id": "e2c7e3b0-23d6-4329-bc48-b9e5709522e2",
   "metadata": {},
   "outputs": [
    {
     "name": "stdout",
     "output_type": "stream",
     "text": [
      "Tempo C=A+B:  0.05369866598630324\n"
     ]
    }
   ],
   "source": [
    "#Somma tra due matrici utilizzando le operazioni vettoriali\n",
    "A=np.random.randn(5000,5000)\n",
    "B=np.random.randn(5000,5000)\n",
    "start=time.perf_counter()\n",
    "C=A+B\n",
    "end=time.perf_counter()\n",
    "print(\"Tempo C=A+B: \", end-start)"
   ]
  },
  {
   "cell_type": "code",
   "execution_count": 7,
   "id": "d122d44f-459c-4d2e-b54c-f8a8dcea3100",
   "metadata": {},
   "outputs": [
    {
     "name": "stdout",
     "output_type": "stream",
     "text": [
      "Tempo con i cicli:  6.899331374996109\n"
     ]
    }
   ],
   "source": [
    "#Somma tra due matrici considerando due cicli espliciti annidati su righe e colonne\n",
    "start = time.perf_counter()\n",
    "F=np.zeros_like(A)\n",
    "for i in range(5000):\n",
    "    for j in range (5000):\n",
    "        F[i,j] = A[i,j]+B[i,j]\n",
    "\n",
    "end = time.perf_counter()\n",
    "print(\"Tempo con i cicli: \", end-start)"
   ]
  },
  {
   "cell_type": "markdown",
   "id": "2cc104af-5376-4b18-9945-9316885a30ed",
   "metadata": {},
   "source": [
    "## Esercizio 2\n",
    "-      Costruire il numpy array  s  formato da 40 valori equidistanti in  [0,20],\n",
    "-      considerarne il reshape in un array 2d che ha 4 righe con un numero opportuno di colonne e dire se il reshape crea una vista o una copia"
   ]
  },
  {
   "cell_type": "code",
   "execution_count": 14,
   "id": "2adc980f-980e-4642-bf9c-4ba77a3328d9",
   "metadata": {},
   "outputs": [
    {
     "name": "stdout",
     "output_type": "stream",
     "text": [
      "S:\n",
      " [ 0.          0.51282051  1.02564103  1.53846154  2.05128205  2.56410256\n",
      "  3.07692308  3.58974359  4.1025641   4.61538462  5.12820513  5.64102564\n",
      "  6.15384615  6.66666667  7.17948718  7.69230769  8.20512821  8.71794872\n",
      "  9.23076923  9.74358974 10.25641026 10.76923077 11.28205128 11.79487179\n",
      " 12.30769231 12.82051282 13.33333333 13.84615385 14.35897436 14.87179487\n",
      " 15.38461538 15.8974359  16.41025641 16.92307692 17.43589744 17.94871795\n",
      " 18.46153846 18.97435897 19.48717949 20.        ]\n",
      "b:\n",
      " [ 0.          0.51282051  1.02564103  1.53846154  2.05128205  2.56410256\n",
      "  3.07692308  3.58974359  4.1025641   4.61538462  5.12820513  5.64102564\n",
      "  6.15384615  6.66666667  7.17948718  7.69230769  8.20512821  8.71794872\n",
      "  9.23076923  9.74358974 10.25641026 10.76923077 11.28205128 11.79487179\n",
      " 12.30769231 12.82051282 13.33333333 13.84615385 14.35897436 14.87179487\n",
      " 15.38461538 15.8974359  16.41025641 16.92307692 17.43589744 17.94871795\n",
      " 18.46153846 18.97435897 19.48717949 20.        ]\n",
      "False\n"
     ]
    }
   ],
   "source": [
    "s = np.linspace(0,20,40)\n",
    "b = s.reshape(4,-1)#il -1 serve per calcolare automaticamente questa dimensione in base al numero \n",
    "#totale di elementi\n",
    "print(\"S:\\n\",s)\n",
    "print(\"b:\\n\",b.base)\n",
    "print(b.base is s)\n",
    "#il metodo .reshape() restituisce una \n",
    "#vista dell'array originale con una nuova forma, \n",
    "#senza creare una copia dei dati dell'array, \n",
    "#ma condividendoli con l'array originale.(infatti l'attributo base punta ai valori di s)"
   ]
  },
  {
   "cell_type": "markdown",
   "id": "8984c411-28fa-4590-9942-3d6d5bc5c665",
   "metadata": {},
   "source": [
    "## Esercizio 3\n",
    "-     Costruire il numpy array t formato da 100 valori equidistanti in  [0,4]\n",
    "-     considerarne il reshape in un array 2d che ha 4 colonne con un numero opportuno di righe"
   ]
  },
  {
   "cell_type": "code",
   "execution_count": 16,
   "id": "bd6d66ad-1935-4e41-ba46-815fa53c81e1",
   "metadata": {},
   "outputs": [
    {
     "name": "stdout",
     "output_type": "stream",
     "text": [
      "[[0.         0.04040404 0.08080808 0.12121212]\n",
      " [0.16161616 0.2020202  0.24242424 0.28282828]\n",
      " [0.32323232 0.36363636 0.4040404  0.44444444]\n",
      " [0.48484848 0.52525253 0.56565657 0.60606061]\n",
      " [0.64646465 0.68686869 0.72727273 0.76767677]\n",
      " [0.80808081 0.84848485 0.88888889 0.92929293]\n",
      " [0.96969697 1.01010101 1.05050505 1.09090909]\n",
      " [1.13131313 1.17171717 1.21212121 1.25252525]\n",
      " [1.29292929 1.33333333 1.37373737 1.41414141]\n",
      " [1.45454545 1.49494949 1.53535354 1.57575758]\n",
      " [1.61616162 1.65656566 1.6969697  1.73737374]\n",
      " [1.77777778 1.81818182 1.85858586 1.8989899 ]\n",
      " [1.93939394 1.97979798 2.02020202 2.06060606]\n",
      " [2.1010101  2.14141414 2.18181818 2.22222222]\n",
      " [2.26262626 2.3030303  2.34343434 2.38383838]\n",
      " [2.42424242 2.46464646 2.50505051 2.54545455]\n",
      " [2.58585859 2.62626263 2.66666667 2.70707071]\n",
      " [2.74747475 2.78787879 2.82828283 2.86868687]\n",
      " [2.90909091 2.94949495 2.98989899 3.03030303]\n",
      " [3.07070707 3.11111111 3.15151515 3.19191919]\n",
      " [3.23232323 3.27272727 3.31313131 3.35353535]\n",
      " [3.39393939 3.43434343 3.47474747 3.51515152]\n",
      " [3.55555556 3.5959596  3.63636364 3.67676768]\n",
      " [3.71717172 3.75757576 3.7979798  3.83838384]\n",
      " [3.87878788 3.91919192 3.95959596 4.        ]]\n"
     ]
    }
   ],
   "source": [
    "arr = np.linspace(0,4, 100)\n",
    "arr_reshaped = arr.reshape(-1,4)\n",
    "print(arr_reshaped)"
   ]
  },
  {
   "cell_type": "markdown",
   "id": "497ccc48-1ab8-4247-8e36-0c61e43c643c",
   "metadata": {},
   "source": [
    "## Esercizio 4\n",
    "Costruire il numpy array 1d C  di valori che variano tra 15 e 41 con step 2\n",
    "\n",
    "-     Trasformarlo in un numpy array 2d con shape(7,2) usando il metodo . resize(7,2)  che lavora in-place,  (cioè  modifica l'array esistente).  "
   ]
  },
  {
   "cell_type": "code",
   "execution_count": 22,
   "id": "5736cc89-dcf8-47a3-9801-8a395739398c",
   "metadata": {},
   "outputs": [
    {
     "name": "stdout",
     "output_type": "stream",
     "text": [
      "(7, 2)\n"
     ]
    }
   ],
   "source": [
    "a = np.arange(15,42,2)\n",
    "a.resize((7,2))\n",
    "print(a.shape)"
   ]
  },
  {
   "cell_type": "markdown",
   "id": "222a582d-184b-47b9-804b-72673a42102e",
   "metadata": {},
   "source": [
    " ## Esercizio 5\n",
    " Creare un array NumPy di 10 numeri interi casuali tra 1 e 100.\n",
    " "
   ]
  },
  {
   "cell_type": "code",
   "execution_count": 24,
   "id": "3fc5eeb7-45cf-4c26-8b10-fa9d4df5ef90",
   "metadata": {},
   "outputs": [
    {
     "name": "stdout",
     "output_type": "stream",
     "text": [
      "[87 79  5 86 49 61 74 10  7 88]\n"
     ]
    }
   ],
   "source": [
    "g= np.random.randint(1,100,10)\n",
    "print(g)"
   ]
  },
  {
   "cell_type": "markdown",
   "id": "26b0aef0-fa88-4ec5-923f-8fa9d0664044",
   "metadata": {},
   "source": [
    " ## Esercizio 6\n",
    " Eseguire uno shuffle degli elementi di un numpy-array di 30 numeri interi casuali tra 100 e 200.\n"
   ]
  },
  {
   "cell_type": "code",
   "execution_count": 25,
   "id": "64609c44-6baa-41f5-9fd2-1b03072cbda9",
   "metadata": {},
   "outputs": [
    {
     "name": "stdout",
     "output_type": "stream",
     "text": [
      "[130 174 104 188 101 157 139 182 174 113 152 140 135 116 189 194 184 101\n",
      " 174 109 131 169 127 156 109 153 157 151 152 141]\n",
      "[109 153 127 151 169 109 101 130 157 135 104 174 157 141 174 116 152 152\n",
      " 174 188 189 113 139 140 101 131 182 194 156 184]\n"
     ]
    }
   ],
   "source": [
    "arr_int=np.random.randint(100,200,30)\n",
    "print(arr_int)\n",
    "np.random.shuffle(arr_int)\n",
    "print(arr_int)\n"
   ]
  },
  {
   "cell_type": "markdown",
   "id": "9e1c800f-6ae8-41cc-94c0-c36445e2ea55",
   "metadata": {},
   "source": [
    "  ## Esercizio 7\n",
    " Creare una permutazione casuale degli elementi di un numpy-array di 20 valori campionati da una distribuzione  gaussiana con media zero e varianza 1, senza modificarlo."
   ]
  },
  {
   "cell_type": "code",
   "execution_count": 26,
   "id": "6a0e6bcd-551a-4cb2-8613-97a86715cb1b",
   "metadata": {},
   "outputs": [
    {
     "name": "stdout",
     "output_type": "stream",
     "text": [
      "[196 166 178 162 193 197 153 105 191 184 109 161 165 198 115 138 194 132\n",
      " 139 195 179 119 114 130 151 112 107 106 178 113]\n",
      "[105 114 115 193 165 196 198 197 179 107 112 130 138 184 119 106 162 113\n",
      " 151 109 191 194 161 139 132 178 195 153 178 166]\n"
     ]
    }
   ],
   "source": [
    "arr_int=np.random.randint(100,200,30)\n",
    "arr_perm= np.random.permutation(arr_int)\n",
    "print(arr_int)\n",
    "print(arr_perm)"
   ]
  },
  {
   "cell_type": "markdown",
   "id": "8c253459-73dd-4166-9518-0f4032cd1a78",
   "metadata": {},
   "source": [
    " ## Esercizio 8\n",
    "-     Scrivere il numpy  array 2d, A, [[10,11,12],[13,14,15],[16,17,18]] \n",
    "-     trasformarlo in un numpy array 1d usando il metodo .ravel()  \n",
    "-     Si tratta di una copia o di una vista?"
   ]
  },
  {
   "cell_type": "code",
   "execution_count": 28,
   "id": "81b04296-4053-40ee-8486-7faa70970264",
   "metadata": {},
   "outputs": [
    {
     "name": "stdout",
     "output_type": "stream",
     "text": [
      "[[10 11 12]\n",
      " [13 14 15]\n",
      " [16 17 18]]\n",
      "[10 11 12 13 14 15 16 17 18]\n"
     ]
    }
   ],
   "source": [
    "A =np.array([[10,11,12],[13,14,15],[16,17,18]])\n",
    "a=A.ravel()#crea una vista\n",
    "print(A)\n",
    "print(a)"
   ]
  },
  {
   "cell_type": "markdown",
   "id": "0d3158a1-acab-4db3-be1b-3a721b553b6a",
   "metadata": {},
   "source": [
    "## Esercizio 9\n",
    "-     Scrivere il numpy  array 2d, A, [[10,11,12],[13,14,15],[16,17,18]] \n",
    "-     trasformarlo in un numpy array 1d usando il metodo  .flatten().\n",
    "-     Si tratta di una copia o di una vista?"
   ]
  },
  {
   "cell_type": "code",
   "execution_count": 30,
   "id": "5c8adf24-9864-4211-b626-fcb3d4653696",
   "metadata": {},
   "outputs": [
    {
     "name": "stdout",
     "output_type": "stream",
     "text": [
      "[[10 11 12]\n",
      " [13 14 15]\n",
      " [16 17 18]]\n",
      "[10 11 12 13 14 15 16 17 18]\n",
      "None\n"
     ]
    }
   ],
   "source": [
    "A = np.array([[10,11,12],[13,14,15],[16,17,18]])\n",
    "a = A.flatten()\n",
    "print(A)\n",
    "print(a)\n",
    "print(a.base)#restituisce un puntatore al vettore"
   ]
  },
  {
   "cell_type": "markdown",
   "id": "a0b881a4-1836-4e2a-83aa-e03f4398feb5",
   "metadata": {},
   "source": [
    " ## Esercizio 10\n",
    "-     creare i due  numpy array 1d\n",
    "        f1= [ 0  1  2  3  4  5  6  7  8  9 10 11 12 13 14 15]  \n",
    "        f2= [16 17 18 19 20 21 22 23 24 25 26 27 28 29 30 31]\n",
    "-     \"vederli\" come matrici  4x4 ed effettuarne il prodotto scalare, memorizzando in f3 la matrice che nasce dal loro prodotto."
   ]
  },
  {
   "cell_type": "code",
   "execution_count": 31,
   "id": "aa9bb681-992a-48a2-87de-e1fff4ec3dd4",
   "metadata": {},
   "outputs": [
    {
     "name": "stdout",
     "output_type": "stream",
     "text": [
      "[[ 152  158  164  170]\n",
      " [ 504  526  548  570]\n",
      " [ 856  894  932  970]\n",
      " [1208 1262 1316 1370]]\n"
     ]
    }
   ],
   "source": [
    "f1=np.arange(16)\n",
    "f2=np.arange(16,32)\n",
    "c=f1.reshape(4,4)@f2.reshape(4,4)\n",
    "print(c)"
   ]
  },
  {
   "cell_type": "markdown",
   "id": "681aca16-584c-451f-b9da-cba4b11faa5e",
   "metadata": {},
   "source": [
    "## Esercizio 11\n",
    "Costruire:\n",
    " -     Numpy Array A di shape (2,10) : array di valori random campionati da una distribuzione gaussiana con media 0 e varianza 1.\n",
    " -     Numpy array 1D B di shape (20,) formato dagli interi da 0 a 19.\n",
    " \n",
    " \"Vedere\" A come un array 1D di 20 elementi ed effettuare la somma di A+B\n"
   ]
  },
  {
   "cell_type": "code",
   "execution_count": 33,
   "id": "65f3ee71-bdab-4c1d-9c33-8db966268a61",
   "metadata": {},
   "outputs": [
    {
     "name": "stdout",
     "output_type": "stream",
     "text": [
      "C:  [-1.17239754  2.1155147   2.55093119  4.86641043  3.63262704  5.00751228\n",
      "  4.8226977   7.31740215  8.68314163  8.93874847  9.78062264 11.51249943\n",
      " 11.67500116 11.90903622 14.58978913 14.30660884 15.12681966 16.81542786\n",
      " 18.60745995 18.63532776]\n"
     ]
    }
   ],
   "source": [
    "A = np.random.randn(2,10)\n",
    "B = np.arange(0,20)\n",
    "C = A.ravel() + B\n",
    "print(\"C: \",C)"
   ]
  },
  {
   "cell_type": "markdown",
   "id": "020920a7-7554-4815-b6a6-c9579d0b566c",
   "metadata": {},
   "source": [
    "## Esercizio 12\n",
    "-     Costruire f, un numpy array 1D , di shape (10,) costituito da 10 valori equidistanti nell'intervallo [0,1]\n",
    "-     aumentarne la dimensionalità, in maniera tale che abbia shape (10,1)"
   ]
  },
  {
   "cell_type": "code",
   "execution_count": 34,
   "id": "a9e9026a-eb86-4358-b810-08ea7d434ad3",
   "metadata": {},
   "outputs": [
    {
     "name": "stdout",
     "output_type": "stream",
     "text": [
      "[[0.        ]\n",
      " [0.11111111]\n",
      " [0.22222222]\n",
      " [0.33333333]\n",
      " [0.44444444]\n",
      " [0.55555556]\n",
      " [0.66666667]\n",
      " [0.77777778]\n",
      " [0.88888889]\n",
      " [1.        ]]\n"
     ]
    }
   ],
   "source": [
    "f = np.linspace(0,1,10)\n",
    "f1=f.reshape(10,1)\n",
    "print(f1)"
   ]
  },
  {
   "cell_type": "markdown",
   "id": "2aba2876-6f88-4d00-8ed3-b501a7bf7f6c",
   "metadata": {},
   "source": [
    "## Esercizio 13\n",
    "-     Costruire i seguenti numpy array\n",
    "      a= np.array([14,13,12,11])\n",
    "      b=np.array([[4,3,2,1],[9,10,11,12]])\n",
    "\n",
    "  Costruire il numpy array che si ottiene concatenando a e b per righe"
   ]
  },
  {
   "cell_type": "code",
   "execution_count": 37,
   "id": "001cc391-4bbc-4de1-887e-f045efb56a57",
   "metadata": {},
   "outputs": [
    {
     "name": "stdout",
     "output_type": "stream",
     "text": [
      "[[14 13 12 11]\n",
      " [ 4  3  2  1]\n",
      " [ 9 10 11 12]]\n"
     ]
    }
   ],
   "source": [
    "a= np.array([14,13,12,11])\n",
    "b=np.array([[4,3,2,1],[9,10,11,12]])\n",
    "c = np.concatenate((a.reshape(1,4),b), axis=0)#E' necessario aggiungere una dimensione ad a \n",
    "# deve essre un 2d array con 1 riga e 4 colonne\n",
    "print(c)"
   ]
  },
  {
   "cell_type": "markdown",
   "id": "67f822cd-7472-4817-9528-ece25e68b6ce",
   "metadata": {},
   "source": [
    "## Esercizio 14\n",
    "-     Costruire i seguenti numpy array\n",
    "      a= np.array([14,13,12,11])\n",
    "      b=np.array([[4,3,2,1],[9,10,11,12],[4,3,2,1],[9,10,11,12]])\n",
    "\n",
    "-\n",
    "- Costruire il numpy array che si ottiene concatenando a e b per colonne"
   ]
  },
  {
   "cell_type": "code",
   "execution_count": 41,
   "id": "53de6091-7cfd-4979-91e8-82c83650aae5",
   "metadata": {},
   "outputs": [
    {
     "name": "stdout",
     "output_type": "stream",
     "text": [
      "[[14  4  3  2  1]\n",
      " [13  9 10 11 12]\n",
      " [12  4  3  2  1]\n",
      " [11  9 10 11 12]]\n"
     ]
    }
   ],
   "source": [
    "a= np.array([14,13,12,11])\n",
    "b=np.array([[4,3,2,1],[9,10,11,12],[4,3,2,1],[9,10,11,12]])\n",
    "c = np.concatenate((a.reshape(4,1), b),axis=1)\n",
    "print(c)"
   ]
  },
  {
   "cell_type": "markdown",
   "id": "0cd10bd7-8d9e-4e99-827e-83cf83393782",
   "metadata": {},
   "source": [
    "## Esercizio 15\n",
    "Costruire, facendo uso di una sola riga di codice, la matrice A di ordine 10, che ha gli unici elementi diversi da zero, sulla diagonale principale, sulla codiagonale inferiore e sulla codiagonale superiore:\n",
    "\n",
    "elementi diagonali $A_{i,i}=10 \\quad$, i=1,20\n",
    "\n",
    "elementi nella codiagonale inferiore $A_{i-1,i}=-12, \\quad$ i=2,..,20, \n",
    "\n",
    "elementi nella codiagonale superiore $A_{i,i+1}=-2 \\quad$ i=1,..,19"
   ]
  },
  {
   "cell_type": "code",
   "execution_count": 45,
   "id": "0b30b80d-a3dd-461b-8a00-6796db7894b0",
   "metadata": {},
   "outputs": [
    {
     "name": "stdout",
     "output_type": "stream",
     "text": [
      "[[ 10.  -2.   0.   0.   0.   0.   0.   0.   0.   0.   0.   0.   0.   0.\n",
      "    0.   0.   0.   0.   0.   0.]\n",
      " [-12.  10.  -2.   0.   0.   0.   0.   0.   0.   0.   0.   0.   0.   0.\n",
      "    0.   0.   0.   0.   0.   0.]\n",
      " [  0. -12.  10.  -2.   0.   0.   0.   0.   0.   0.   0.   0.   0.   0.\n",
      "    0.   0.   0.   0.   0.   0.]\n",
      " [  0.   0. -12.  10.  -2.   0.   0.   0.   0.   0.   0.   0.   0.   0.\n",
      "    0.   0.   0.   0.   0.   0.]\n",
      " [  0.   0.   0. -12.  10.  -2.   0.   0.   0.   0.   0.   0.   0.   0.\n",
      "    0.   0.   0.   0.   0.   0.]\n",
      " [  0.   0.   0.   0. -12.  10.  -2.   0.   0.   0.   0.   0.   0.   0.\n",
      "    0.   0.   0.   0.   0.   0.]\n",
      " [  0.   0.   0.   0.   0. -12.  10.  -2.   0.   0.   0.   0.   0.   0.\n",
      "    0.   0.   0.   0.   0.   0.]\n",
      " [  0.   0.   0.   0.   0.   0. -12.  10.  -2.   0.   0.   0.   0.   0.\n",
      "    0.   0.   0.   0.   0.   0.]\n",
      " [  0.   0.   0.   0.   0.   0.   0. -12.  10.  -2.   0.   0.   0.   0.\n",
      "    0.   0.   0.   0.   0.   0.]\n",
      " [  0.   0.   0.   0.   0.   0.   0.   0. -12.  10.  -2.   0.   0.   0.\n",
      "    0.   0.   0.   0.   0.   0.]\n",
      " [  0.   0.   0.   0.   0.   0.   0.   0.   0. -12.  10.  -2.   0.   0.\n",
      "    0.   0.   0.   0.   0.   0.]\n",
      " [  0.   0.   0.   0.   0.   0.   0.   0.   0.   0. -12.  10.  -2.   0.\n",
      "    0.   0.   0.   0.   0.   0.]\n",
      " [  0.   0.   0.   0.   0.   0.   0.   0.   0.   0.   0. -12.  10.  -2.\n",
      "    0.   0.   0.   0.   0.   0.]\n",
      " [  0.   0.   0.   0.   0.   0.   0.   0.   0.   0.   0.   0. -12.  10.\n",
      "   -2.   0.   0.   0.   0.   0.]\n",
      " [  0.   0.   0.   0.   0.   0.   0.   0.   0.   0.   0.   0.   0. -12.\n",
      "   10.  -2.   0.   0.   0.   0.]\n",
      " [  0.   0.   0.   0.   0.   0.   0.   0.   0.   0.   0.   0.   0.   0.\n",
      "  -12.  10.  -2.   0.   0.   0.]\n",
      " [  0.   0.   0.   0.   0.   0.   0.   0.   0.   0.   0.   0.   0.   0.\n",
      "    0. -12.  10.  -2.   0.   0.]\n",
      " [  0.   0.   0.   0.   0.   0.   0.   0.   0.   0.   0.   0.   0.   0.\n",
      "    0.   0. -12.  10.  -2.   0.]\n",
      " [  0.   0.   0.   0.   0.   0.   0.   0.   0.   0.   0.   0.   0.   0.\n",
      "    0.   0.   0. -12.  10.  -2.]\n",
      " [  0.   0.   0.   0.   0.   0.   0.   0.   0.   0.   0.   0.   0.   0.\n",
      "    0.   0.   0.   0. -12.  10.]]\n"
     ]
    }
   ],
   "source": [
    "A=np.diag(np.ones((20,))*10)+np.diag(np.ones((19,))*(-12),-1)+np.diag(np.ones((19,))*(-2),1)\n",
    "print(A)"
   ]
  },
  {
   "cell_type": "markdown",
   "id": "53d3ad23-63ab-4719-b2d2-f2b1cb942063",
   "metadata": {},
   "source": [
    "## Esercizio 16\n",
    "Costruire la matrice identità, denominata *I*,  della stessa dimensione di *A*"
   ]
  },
  {
   "cell_type": "code",
   "execution_count": 44,
   "id": "a51b5e90-ba9b-41e0-8ce7-d6b7e361619b",
   "metadata": {},
   "outputs": [
    {
     "name": "stdout",
     "output_type": "stream",
     "text": [
      "[[1. 0. 0. 0. 0. 0. 0. 0. 0. 0. 0. 0. 0. 0. 0. 0. 0. 0. 0. 0.]\n",
      " [0. 1. 0. 0. 0. 0. 0. 0. 0. 0. 0. 0. 0. 0. 0. 0. 0. 0. 0. 0.]\n",
      " [0. 0. 1. 0. 0. 0. 0. 0. 0. 0. 0. 0. 0. 0. 0. 0. 0. 0. 0. 0.]\n",
      " [0. 0. 0. 1. 0. 0. 0. 0. 0. 0. 0. 0. 0. 0. 0. 0. 0. 0. 0. 0.]\n",
      " [0. 0. 0. 0. 1. 0. 0. 0. 0. 0. 0. 0. 0. 0. 0. 0. 0. 0. 0. 0.]\n",
      " [0. 0. 0. 0. 0. 1. 0. 0. 0. 0. 0. 0. 0. 0. 0. 0. 0. 0. 0. 0.]\n",
      " [0. 0. 0. 0. 0. 0. 1. 0. 0. 0. 0. 0. 0. 0. 0. 0. 0. 0. 0. 0.]\n",
      " [0. 0. 0. 0. 0. 0. 0. 1. 0. 0. 0. 0. 0. 0. 0. 0. 0. 0. 0. 0.]\n",
      " [0. 0. 0. 0. 0. 0. 0. 0. 1. 0. 0. 0. 0. 0. 0. 0. 0. 0. 0. 0.]\n",
      " [0. 0. 0. 0. 0. 0. 0. 0. 0. 1. 0. 0. 0. 0. 0. 0. 0. 0. 0. 0.]\n",
      " [0. 0. 0. 0. 0. 0. 0. 0. 0. 0. 1. 0. 0. 0. 0. 0. 0. 0. 0. 0.]\n",
      " [0. 0. 0. 0. 0. 0. 0. 0. 0. 0. 0. 1. 0. 0. 0. 0. 0. 0. 0. 0.]\n",
      " [0. 0. 0. 0. 0. 0. 0. 0. 0. 0. 0. 0. 1. 0. 0. 0. 0. 0. 0. 0.]\n",
      " [0. 0. 0. 0. 0. 0. 0. 0. 0. 0. 0. 0. 0. 1. 0. 0. 0. 0. 0. 0.]\n",
      " [0. 0. 0. 0. 0. 0. 0. 0. 0. 0. 0. 0. 0. 0. 1. 0. 0. 0. 0. 0.]\n",
      " [0. 0. 0. 0. 0. 0. 0. 0. 0. 0. 0. 0. 0. 0. 0. 1. 0. 0. 0. 0.]\n",
      " [0. 0. 0. 0. 0. 0. 0. 0. 0. 0. 0. 0. 0. 0. 0. 0. 1. 0. 0. 0.]\n",
      " [0. 0. 0. 0. 0. 0. 0. 0. 0. 0. 0. 0. 0. 0. 0. 0. 0. 1. 0. 0.]\n",
      " [0. 0. 0. 0. 0. 0. 0. 0. 0. 0. 0. 0. 0. 0. 0. 0. 0. 0. 1. 0.]\n",
      " [0. 0. 0. 0. 0. 0. 0. 0. 0. 0. 0. 0. 0. 0. 0. 0. 0. 0. 0. 1.]]\n"
     ]
    }
   ],
   "source": [
    "Id = np.diag(np.ones((20,)))\n",
    "print(Id)"
   ]
  },
  {
   "cell_type": "code",
   "execution_count": null,
   "id": "22fe1fd3-4958-4f75-982c-6fec3f134ce2",
   "metadata": {},
   "outputs": [],
   "source": []
  },
  {
   "cell_type": "code",
   "execution_count": null,
   "id": "ef6bf95f-1f4e-464c-a0da-2b24cc60d373",
   "metadata": {},
   "outputs": [],
   "source": []
  },
  {
   "cell_type": "markdown",
   "id": "b5257ffc-b9c9-4d22-a3b4-427b03f2e8dc",
   "metadata": {},
   "source": [
    "## Esercizio 17\n",
    "Facendo uso dell'operatore slicing *:* ,costruire la matrice AA selezionando dalla matrice A le righe che vanno dalla 2 alla 9 con step 2 e le colonne che vanno dalla 3 alla 6 con step 2.\n",
    "La matrice AA è una vista o una copia?"
   ]
  },
  {
   "cell_type": "code",
   "execution_count": null,
   "id": "e9c24862-85f4-4003-99d4-766e3cb63549",
   "metadata": {},
   "outputs": [],
   "source": [
    "A1=A[2:10:10,3:7:2]\n",
    "print(A1)\n",
    "print(A1.base)"
   ]
  },
  {
   "cell_type": "markdown",
   "id": "090aeaa9-fb12-44bc-9560-5b11a0e6f503",
   "metadata": {},
   "source": [
    "## Esercizio 18\n",
    "Facendo uso dell'operatore slicing *:*, costruire la matrice A1 selezionando dalla matrice A le colonne che vanno dalla 1 alla 5 con step 2.  Trasforma la matrice A1 in una copia."
   ]
  },
  {
   "cell_type": "code",
   "execution_count": 47,
   "id": "86ce5880-84a1-4e25-b50b-4dfc95f75df6",
   "metadata": {},
   "outputs": [
    {
     "name": "stdout",
     "output_type": "stream",
     "text": [
      "[[ -2.   0.   0.]\n",
      " [ 10.   0.   0.]\n",
      " [-12.  -2.   0.]\n",
      " [  0.  10.   0.]\n",
      " [  0. -12.  -2.]\n",
      " [  0.   0.  10.]\n",
      " [  0.   0. -12.]\n",
      " [  0.   0.   0.]\n",
      " [  0.   0.   0.]\n",
      " [  0.   0.   0.]\n",
      " [  0.   0.   0.]\n",
      " [  0.   0.   0.]\n",
      " [  0.   0.   0.]\n",
      " [  0.   0.   0.]\n",
      " [  0.   0.   0.]\n",
      " [  0.   0.   0.]\n",
      " [  0.   0.   0.]\n",
      " [  0.   0.   0.]\n",
      " [  0.   0.   0.]\n",
      " [  0.   0.   0.]]\n",
      "[[ 10.  -2.   0.   0.   0.   0.   0.   0.   0.   0.   0.   0.   0.   0.\n",
      "    0.   0.   0.   0.   0.   0.]\n",
      " [-12.  10.  -2.   0.   0.   0.   0.   0.   0.   0.   0.   0.   0.   0.\n",
      "    0.   0.   0.   0.   0.   0.]\n",
      " [  0. -12.  10.  -2.   0.   0.   0.   0.   0.   0.   0.   0.   0.   0.\n",
      "    0.   0.   0.   0.   0.   0.]\n",
      " [  0.   0. -12.  10.  -2.   0.   0.   0.   0.   0.   0.   0.   0.   0.\n",
      "    0.   0.   0.   0.   0.   0.]\n",
      " [  0.   0.   0. -12.  10.  -2.   0.   0.   0.   0.   0.   0.   0.   0.\n",
      "    0.   0.   0.   0.   0.   0.]\n",
      " [  0.   0.   0.   0. -12.  10.  -2.   0.   0.   0.   0.   0.   0.   0.\n",
      "    0.   0.   0.   0.   0.   0.]\n",
      " [  0.   0.   0.   0.   0. -12.  10.  -2.   0.   0.   0.   0.   0.   0.\n",
      "    0.   0.   0.   0.   0.   0.]\n",
      " [  0.   0.   0.   0.   0.   0. -12.  10.  -2.   0.   0.   0.   0.   0.\n",
      "    0.   0.   0.   0.   0.   0.]\n",
      " [  0.   0.   0.   0.   0.   0.   0. -12.  10.  -2.   0.   0.   0.   0.\n",
      "    0.   0.   0.   0.   0.   0.]\n",
      " [  0.   0.   0.   0.   0.   0.   0.   0. -12.  10.  -2.   0.   0.   0.\n",
      "    0.   0.   0.   0.   0.   0.]\n",
      " [  0.   0.   0.   0.   0.   0.   0.   0.   0. -12.  10.  -2.   0.   0.\n",
      "    0.   0.   0.   0.   0.   0.]\n",
      " [  0.   0.   0.   0.   0.   0.   0.   0.   0.   0. -12.  10.  -2.   0.\n",
      "    0.   0.   0.   0.   0.   0.]\n",
      " [  0.   0.   0.   0.   0.   0.   0.   0.   0.   0.   0. -12.  10.  -2.\n",
      "    0.   0.   0.   0.   0.   0.]\n",
      " [  0.   0.   0.   0.   0.   0.   0.   0.   0.   0.   0.   0. -12.  10.\n",
      "   -2.   0.   0.   0.   0.   0.]\n",
      " [  0.   0.   0.   0.   0.   0.   0.   0.   0.   0.   0.   0.   0. -12.\n",
      "   10.  -2.   0.   0.   0.   0.]\n",
      " [  0.   0.   0.   0.   0.   0.   0.   0.   0.   0.   0.   0.   0.   0.\n",
      "  -12.  10.  -2.   0.   0.   0.]\n",
      " [  0.   0.   0.   0.   0.   0.   0.   0.   0.   0.   0.   0.   0.   0.\n",
      "    0. -12.  10.  -2.   0.   0.]\n",
      " [  0.   0.   0.   0.   0.   0.   0.   0.   0.   0.   0.   0.   0.   0.\n",
      "    0.   0. -12.  10.  -2.   0.]\n",
      " [  0.   0.   0.   0.   0.   0.   0.   0.   0.   0.   0.   0.   0.   0.\n",
      "    0.   0.   0. -12.  10.  -2.]\n",
      " [  0.   0.   0.   0.   0.   0.   0.   0.   0.   0.   0.   0.   0.   0.\n",
      "    0.   0.   0.   0. -12.  10.]]\n"
     ]
    }
   ],
   "source": [
    "AA= A[:,1:6:2]\n",
    "print(AA)\n",
    "print(AA.base)"
   ]
  },
  {
   "cell_type": "markdown",
   "id": "a5449d1f-1232-4ba0-a2d6-4d2e2d9c7a36",
   "metadata": {},
   "source": [
    "## Esercizio 19\n",
    "\n",
    "Costruisci due numpy array A e B di shape (5,5) \n",
    "   - A formata da numeri interi casuali  nell'intervallo [1,20]\n",
    "   - B formata da numeri interi casuali  nell'intervallo [1,6]\n",
    " \n",
    "  Costruisci con una sola riga di codice le seguenti matrici\n",
    "  \n",
    "  C=A+B   dove  $\\quad c_{ij}=a_{ij}+b_{ij} \\quad i=0,..,n, \\quad j=0,...,n$\n",
    "  \n",
    "  D=A-B   dove  $\\quad d_{ij}=a_{ij}-b_{ij} \\quad i=0,..,n, \\quad j=0,...,n$\n",
    "  \n",
    "  E=A*B   dove  $\\quad e_{ij}=a_{ij}*b_{ij} \\quad i=0,..,n, \\quad j=0,...,n$\n",
    "  \n",
    "  F=A/B   dove  $\\quad f_{ij}=a_{ij}/b_{ij} \\quad i=0,..,n, \\quad j=0,...,n$"
   ]
  },
  {
   "cell_type": "markdown",
   "id": "5a4ad10c-ccfa-45ce-b6ba-b7ddab44db3d",
   "metadata": {},
   "source": [
    "## Esercizio 20\n",
    "Dato array NumPy che rappresenta le vendite giornaliere di un negozio per un mese,\n",
    "vendite = np.random.randint(50, 200, 30) \n",
    "\n",
    "        Trova tutti i giorni in cui le vendite sono state superiori a 150.\n",
    "\n",
    "        Calcola la media delle vendite solo per i giorni in cui sono state superiori a 150.\n",
    "\n",
    "        Imposta le vendite a 0 per tutti i giorni in cui sono state inferiori a 100.\n"
   ]
  },
  {
   "cell_type": "markdown",
   "id": "d90da717-8cd5-425f-937e-588d6ccb045a",
   "metadata": {
    "tags": []
   },
   "source": [
    "## Esercizio 21\n",
    "Costruisci A, un numpy array 2d di shape (3,3) e b,  un numpy array 2d di shape (3,1)\n",
    "e somma b ad ogni colonna di A b\n"
   ]
  },
  {
   "cell_type": "markdown",
   "id": "ece2f514-aea7-4883-9b5f-8671d698c761",
   "metadata": {},
   "source": [
    "# Esercizio 22\n",
    "dato il numpy array 2d G=np.linspace(0,10,20).reshape(-1,4), scambia in G la seconda riga con la quarta riga"
   ]
  },
  {
   "cell_type": "markdown",
   "id": "a2c733be-fc9f-4a0a-80e0-fa1570468da3",
   "metadata": {},
   "source": [
    "## Esercizio 23\n",
    "Visualizzare il grafico della funzione $f(x)=sin^2(x)/x$ in 200 punti equidistanti nell'intervallo $[0.1,2\\pi]$"
   ]
  },
  {
   "cell_type": "code",
   "execution_count": null,
   "id": "3ab9c28b-db40-4090-8040-98345e5de777",
   "metadata": {},
   "outputs": [],
   "source": []
  },
  {
   "cell_type": "code",
   "execution_count": 50,
   "id": "6f0cbd10-e628-459b-928c-7f23ecbdf6db",
   "metadata": {},
   "outputs": [
    {
     "data": {
      "text/plain": [
       "[<matplotlib.lines.Line2D at 0x130d9a150>]"
      ]
     },
     "execution_count": 50,
     "metadata": {},
     "output_type": "execute_result"
    },
    {
     "data": {
      "image/png": "[encoded data removed]",
      "text/plain": [
       "<Figure size 640x480 with 1 Axes>"
      ]
     },
     "metadata": {},
     "output_type": "display_data"
    }
   ],
   "source": [
    "import matplotlib.pyplot as plt\n",
    "x = np.linspace(0.1,2*np.pi, 100)\n",
    "f = lambda x: np.sin(x)**2/x\n",
    "plt.plot(x,f(x))"
   ]
  },
  {
   "cell_type": "markdown",
   "id": "32f6ae8b-ccce-47f1-b196-820a96c325fd",
   "metadata": {},
   "source": [
    "## Esercizio 24\n",
    "\n",
    "Data il numpy arra2d ottenuto facendo un reshape a (4,4) di un numpy array 1d di 16 valori equidistanti nell'intervallo [0,4]\n",
    "ed un numpy array 1d di 4 valori  interi casuali nell'intervallo [10,60], costruire il prodotto scalare A per b,\n",
    "usando A@b, e vettorizzando solo il ciclo interno.\n"
   ]
  },
  {
   "cell_type": "markdown",
   "id": "fb626777-c3f2-423b-a01b-c9e80032e308",
   "metadata": {},
   "source": [
    "## Esercizio 25\n",
    "Dato g un numpy array 2d, estendilo di una riga in alto ed di una riga in basso, di una colonna a sinistra ed di una colonna a destra, usa la funzione g_est= np.pad(g,(1,1),mode='reflect'). Visualizza 'g_est' e commenta cosa vedi."
   ]
  },
  {
   "cell_type": "markdown",
   "id": "958c2100-787e-438b-a162-0aa08465f476",
   "metadata": {},
   "source": [
    "## Esercizio 26\n",
    "Scrivi un programma Python che esegua l'elaborazione di un'immagine utilizzando un filtro di media. \n",
    "\n",
    "Utilizza il padding per gestire i pixel del bordo durante l'applicazione del filtro.\n",
    "\n",
    "Il programma deve seguire questi passaggi:\n",
    "\n",
    "- Carica l'immagine: Carica l'immagine 'cameraman.png' utilizzando la libreria Matplotlib.**image=plt.imread('cameraman.png')**\n",
    "- Visualizza l'immagine originale **plt.imshow(image,cmap='gray')**\n",
    "- definisce la dimensione del filtro, dim_filtro\n",
    "- Applica il padding: Applica un padding costante di dim_filtro//2 pixel a tutti i bordi dell'immagine (utilizzando il metodo di numpy **image_bordered=np.pad(image,(dim_filtro//2,dim_filtro//2),, mode='reflect')**\n",
    "- Crea il filtro di media: Crea un filtro di media di dimensioni *dim_filtroxdim_filtro*, dove tutti gli elementi sono pari a 1/(dim_filtroxdim_filtro)\n",
    "- Applica il filtro: Scorri ogni pixel dell'immagine con padding (escludendo i bordi aggiunti) e applica il filtro di media.\n",
    "\n",
    "   *Per ogni pixel, calcola la somma dei prodotti tra i pixel della sottomatrice dim_filtroxdim_filtro centrata sul pixel corrente e il filtro.*\n",
    "   \n",
    "- Crea l'immagine filtrata: Crea un nuovo array NumPy che rappresenta l'immagine filtrata, dove ogni pixel contiene il risultato dell'applicazione del filtro.\n",
    "- Visualizza l'immagine filtrata: Visualizza l'immagine filtrata utilizzando Matplotlib con la mappa di colori 'gray'.\n",
    "- Aggiungi una colorbar per visualizzare la scala dei valori dell'immagine filtrata.\n",
    "- Mostra l'immagine filtrata con Matplotlib.\n",
    "\n",
    "\n",
    "Requisiti:\n",
    "\n",
    "-  Utilizzare la libreria Matplotlib per caricare e visualizzare l'immagine.\n",
    "-  Utilizzare la libreria NumPy per la manipolazione degli array e per il padding."
   ]
  }
 ],
 "metadata": {
  "kernelspec": {
   "display_name": "Python 3 (ipykernel)",
   "language": "python",
   "name": "python3"
  },
  "language_info": {
   "codemirror_mode": {
    "name": "ipython",
    "version": 3
   },
   "file_extension": ".py",
   "mimetype": "text/x-python",
   "name": "python",
   "nbconvert_exporter": "python",
   "pygments_lexer": "ipython3",
   "version": "3.12.7"
  }
 },
 "nbformat": 4,
 "nbformat_minor": 5
}
