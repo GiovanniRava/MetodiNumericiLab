{
 "cells": [
  {
   "cell_type": "markdown",
   "id": "60ff1e86-85a2-45b1-9295-5d8e1897c7bc",
   "metadata": {},
   "source": [
    "## Esame Metodi Numerici  10 gennaio 2025 - Ore 14\n",
    "\n",
    "Si considerino i due sistemi lineari:\n",
    "\n",
    "     A  x = b \n",
    "\n",
    "    A1 x1 = b1\n",
    "\n",
    "dove A, A1 sono le matrici dei coefficienti, b e b1 sono i termini noti, ed x ed x1 sono i vettori incogniti da determinare.\n",
    "I dati di questi due sistemi lineari sono contenuti nel file **test.mat**.\n",
    "\n",
    "\n",
    "- Si risolva ciascuno dei sistemi lineari assegnati  utilizzato il metodo più adatto in base alle caratteristiche della matrice dei coefficienti, giustificando teoricamente le scelte effettuate.\n",
    "                                      **punti 5**\n",
    "\n",
    "Per il primo sistema lineare A x= b,  aggiungere una perturbazione dell' 1% sulla componente b[0]  del termine noto, e risolvere il sistema con termine noto perturbato. Calcolare quindi  l'errore relativo sulla soluzione e l'errore relativo sui dati e giustificare i risultati alla luce della teoria, richiamando il teorema relativo.\n",
    "                                      **punti 3**\n",
    "\n",
    "\n",
    "Per la lettura dei dati procedere nel seguente modo:\n",
    "\n",
    "``from scipy.io import loadmat``\n",
    "\n",
    "``import numpy as np``\n",
    "\n",
    "``dati = loadmat('test')``\n",
    "\n",
    "``A=dati[\"A\"] ``\n",
    "\n",
    "``A=A.astype(float)``\n",
    "\n",
    "`` b=dati[\"b\"] ``\n",
    "\n",
    "`` b=b.astype(float)``\n",
    "\n",
    "``A1=dati[\"A1\"] ``\n",
    "\n",
    "``A1=A1.astype(float)``\n",
    "\n",
    "`` b1=dati[\"b1\"] ``\n",
    "\n",
    "`` b1=b1.astype(float)``\n",
    "\n",
    " "
   ]
  },
  {
   "cell_type": "code",
   "execution_count": 7,
   "id": "bc7e7cdf-8e22-4143-8550-873f371eec46",
   "metadata": {},
   "outputs": [],
   "source": [
    "from scipy.io import loadmat\n",
    "import numpy as np\n",
    "import matplotlib.pyplot as plt\n",
    "import scipy as sp\n",
    "#from SolveTriangular import *\n",
    "\n",
    "dati = loadmat('test')\n",
    "A=dati[\"A\"] \n",
    "A=A.astype(float)\n",
    "b=dati[\"b\"]\n",
    "b=b.astype(float)\n",
    "A1=dati[\"A1\"] \n",
    "A1=A1.astype(float)\n",
    "b1=dati[\"b1\"]\n",
    "b1=b1.astype(float)\n"
   ]
  },
  {
   "cell_type": "code",
   "execution_count": 8,
   "id": "150e4a30-0094-49f1-a3f5-a0600c81eef0",
   "metadata": {},
   "outputs": [
    {
     "name": "stdout",
     "output_type": "stream",
     "text": [
      "Matrice quadrata n:  20 m:  20\n",
      "Spacing:  0.08\n",
      "condizionamento della matrice A:  9999.999999997151\n",
      "Matrice simmetrica\n",
      "matrice def pos\n"
     ]
    },
    {
     "data": {
      "image/png": "[encoded data removed]",
      "text/plain": [
       "<Figure size 640x480 with 1 Axes>"
      ]
     },
     "metadata": {},
     "output_type": "display_data"
    }
   ],
   "source": [
    "m,n = A.shape\n",
    "if n!=m:\n",
    "    print(\"Matrice non quadrata n: \", n, \"m: \", m)\n",
    "else: \n",
    "    print(\"Matrice quadrata n: \", n, \"m: \", m)\n",
    "sp = np.count_nonzero(A)/(m*n)\n",
    "print(\"Spacing: \", sp)\n",
    "plt.spy(A)\n",
    "condA= np.linalg.cond(A)\n",
    "print(\"condizionamento della matrice A: \", condA)\n",
    "\n",
    "#verifichiamo se la matrice è simmetrica\n",
    "flagS = A.T==A\n",
    "if np.all(flagS == True):\n",
    "    print(\"Matrice simmetrica\")\n",
    "else:\n",
    "    print(\"matrice non simmetrica\")\n",
    "\n",
    "#verifichiamo sia definita positiva\n",
    "eigvals= np.linalg.eigvals(A)\n",
    "if np.all(eigvals)>0:\n",
    "    print(\"matrice def pos\")\n",
    "else:\n",
    "    print(\"Matrice non def pos\")"
   ]
  },
  {
   "cell_type": "code",
   "execution_count": 9,
   "id": "9f20cdd5-bbda-4271-bff5-5bdb2155cd1d",
   "metadata": {},
   "outputs": [
    {
     "name": "stdout",
     "output_type": "stream",
     "text": [
      "Matrice quadrata n:  20 m:  20\n",
      "Spacing:  0.08\n",
      "condizionamento della matrice A:  9999.999999997151\n",
      "Matrice simmetrica\n",
      "matrice def pos\n"
     ]
    },
    {
     "data": {
      "image/png": "[encoded data removed]",
      "text/plain": [
       "<Figure size 640x480 with 1 Axes>"
      ]
     },
     "metadata": {},
     "output_type": "display_data"
    }
   ],
   "source": [
    "m,n = A.shape\n",
    "if n!=m:\n",
    "    print(\"Matrice non quadrata n: \", n, \"m: \", m)\n",
    "else: \n",
    "    print(\"Matrice quadrata n: \", n, \"m: \", m)\n",
    "sp = np.count_nonzero(A)/(m*n)\n",
    "print(\"Spacing: \", sp)\n",
    "plt.spy(A)\n",
    "condA= np.linalg.cond(A)\n",
    "print(\"condizionamento della matrice A: \", condA)\n",
    "\n",
    "#verifichiamo se la matrice è simmetrica\n",
    "flagS = A.T==A\n",
    "if np.all(flagS == True):\n",
    "    print(\"Matrice simmetrica\")\n",
    "else:\n",
    "    print(\"matrice non simmetrica\")\n",
    "\n",
    "#verifichiamo sia definita positiva\n",
    "eigvals= np.linalg.eigvals(A)\n",
    "if np.all(eigvals)>0:\n",
    "    print(\"matrice def pos\")\n",
    "else:\n",
    "    print(\"Matrice non def pos\")"
   ]
  },
  {
   "cell_type": "code",
   "execution_count": 10,
   "id": "3166ad54-e304-4d7b-b300-7cb515cdc40d",
   "metadata": {},
   "outputs": [
    {
     "ename": "AttributeError",
     "evalue": "'float' object has no attribute 'linalg'",
     "output_type": "error",
     "traceback": [
      "\u001b[0;31m---------------------------------------------------------------------------\u001b[0m",
      "\u001b[0;31mAttributeError\u001b[0m                            Traceback (most recent call last)",
      "Cell \u001b[0;32mIn[10], line 3\u001b[0m\n\u001b[1;32m      1\u001b[0m \u001b[38;5;66;03m#Per risolvere sistemi con matrici con piccole dimensioni, simmetriche e\u001b[39;00m\n\u001b[1;32m      2\u001b[0m \u001b[38;5;66;03m#definite positive uso la fattorizzazione di cholesky\u001b[39;00m\n\u001b[0;32m----> 3\u001b[0m L\u001b[38;5;241m=\u001b[39msp\u001b[38;5;241m.\u001b[39mlinalg\u001b[38;5;241m.\u001b[39mcholesky(A, lower\u001b[38;5;241m=\u001b[39m\u001b[38;5;28;01mTrue\u001b[39;00m)\n\u001b[1;32m      4\u001b[0m LT \u001b[38;5;241m=\u001b[39m L\u001b[38;5;241m.\u001b[39mT\n\u001b[1;32m      5\u001b[0m y,flag\u001b[38;5;241m=\u001b[39m SolveTriangular\u001b[38;5;241m.\u001b[39mLsolve(L,b)\n",
      "\u001b[0;31mAttributeError\u001b[0m: 'float' object has no attribute 'linalg'"
     ]
    }
   ],
   "source": [
    "#Per risolvere sistemi con matrici con piccole dimensioni, simmetriche e\n",
    "#definite positive uso la fattorizzazione di cholesky\n",
    "L=sp.linalg.cholesky(A, lower=True)\n",
    "LT = L.T\n",
    "y,flag= SolveTriangular.Lsolve(L,b)\n",
    "x,flag = SolveTrinagular.Usolve(LT,y)\n",
    "print(\"Soluzione x: \", x)"
   ]
  },
  {
   "cell_type": "code",
   "execution_count": 18,
   "id": "973637e5-cd2f-4bd4-a5fe-6f73244ac736",
   "metadata": {},
   "outputs": [
    {
     "name": "stdout",
     "output_type": "stream",
     "text": [
      "Matrice non quadrata\n",
      "sistema lineare sovradeterminato\n",
      "condizionamento matrice A1:  5.4550631866614824e+16\n",
      "matrice non a rango massimo\n"
     ]
    }
   ],
   "source": [
    "m1,n1 = A1.shape\n",
    "if n1!=m1:\n",
    "    print(\"Matrice non quadrata\")\n",
    "    if m1>n1:\n",
    "        print(\"sistema lineare sovradeterminato\")\n",
    "else: \n",
    "    print(\"Matrice quadrata n: \", n1, \"m: \", m1)\n",
    "\n",
    "condA1=np.linalg.cond(A1)\n",
    "print(\"condizionamento matrice A1: \", condA1)\n",
    "\n",
    "rangoA1=np.linalg.matrix_rank(A1)\n",
    "dimensione=np.min(A.shape)\n",
    "if rangoA1==dimensione:\n",
    "    print(\"matrice rango massimo\")\n",
    "else: \n",
    "    print(\"matrice non a rango massimo\")"
   ]
  },
  {
   "cell_type": "code",
   "execution_count": 23,
   "id": "d8fee4ea-6ae0-4eb8-a9bd-7e5a9acbd343",
   "metadata": {},
   "outputs": [],
   "source": [
    "#essendo la matrice molto mal condizionata e non a\n",
    "#a rango massimo uso SVDLS\n",
    "import scipy.linalg as spLin\n",
    "def SVDLS(A,b):\n",
    "    m,n=A.shape  #numero di righe e  numero di colonne di A\n",
    "    U,s,VT=spLin.svd(A)  \n",
    "    \n",
    "    V=VT.T\n",
    "    thresh=np.spacing(1)*m*s[0] ##Calcolo del rango della matrice, numero dei valori singolari maggiori di una soglia\n",
    "    k=np.count_nonzero(s>thresh)\n",
    "    \n",
    "    d=U.T@b \n",
    "    d1=d[:k].reshape(k,1)\n",
    "    s1=s[:k].reshape(k,1)\n",
    "    \n",
    "    c=d1/s1\n",
    "    x=V[:,:k]@c\n",
    "    residuo=np.linalg.norm(d[k])**2 \n",
    "    return x,residuo"
   ]
  },
  {
   "cell_type": "code",
   "execution_count": 25,
   "id": "eae90bbe-4ee0-4b31-85ab-226eb3309016",
   "metadata": {},
   "outputs": [
    {
     "name": "stdout",
     "output_type": "stream",
     "text": [
      "X1:  [[0.5210993 ]\n",
      " [1.25827182]\n",
      " [1.27889527]\n",
      " [0.46087355]\n",
      " [0.89024294]\n",
      " [1.04762977]\n",
      " [0.29616227]\n",
      " [0.59585228]\n",
      " [1.13383321]\n",
      " [0.94430646]\n",
      " [1.32127485]\n",
      " [0.97301581]\n",
      " [0.15568769]\n",
      " [0.79644108]\n",
      " [1.09968922]]\n",
      "Residuo:  1.9721522630525295e-31\n"
     ]
    }
   ],
   "source": [
    "x1, residuo1 = SVDLS(A1, b1)\n",
    "print(\"X1: \", x1)\n",
    "print(\"Residuo: \", residuo1)"
   ]
  },
  {
   "cell_type": "markdown",
   "id": "720cdc8a-f858-45aa-84f5-274e7c96a1eb",
   "metadata": {},
   "source": [
    "\n",
    "- Dato il sistema lineare \n",
    "A3 x3 = b3\n",
    "dove \n",
    "\n",
    "A3=np.array([[8,0,1],[0,12,2],[1,2,-14.0]])\n",
    "b3= np.array([9.0, 14.0,  -11.0])\n",
    "\n",
    "- Verificare senza calcolare il raggio spettrale della matrice di iterazione che il metodo di Gauss-Seidel converge, richiamando il teorema che garantisce la convergenza di Gauss-Seidel per classi particolari di \n",
    "matrici     **punti[1]**.\n",
    "- Implementare il metodo di Gauss-Seidel  e risolvere il sistema lineare A3 x3= b3 con  **punti[3]**.\n",
    "\n",
    "Totale **Punti 12**"
   ]
  },
  {
   "cell_type": "code",
   "execution_count": 33,
   "id": "088bd0b8-451f-4ccb-81c7-a1559251f864",
   "metadata": {},
   "outputs": [
    {
     "name": "stdout",
     "output_type": "stream",
     "text": [
      "Matrice quadrata n:  3 m:  3\n",
      "Il metodo converge perchè A3 è simmetrice e definita positiva\n"
     ]
    }
   ],
   "source": [
    "A3=np.array([[8,0,1],[0,12,2],[1,2,-14.0]]) \n",
    "b3= np.array([9.0, 14.0, -11.0])\n",
    "m3,n3 = A3.shape\n",
    "if n3!=m3:\n",
    "    print(\"Matrice non quadrata\")\n",
    "    if m3>n3:\n",
    "        print(\"sistema lineare sovradeterminato\")\n",
    "else: \n",
    "    print(\"Matrice quadrata n: \", n3, \"m: \", m3)\n",
    "flagS3 = A.T==A\n",
    "sim = False\n",
    "defpos= False\n",
    "if np.all(flagS3==True):\n",
    "    simm = True\n",
    "eigvals3= np.linalg.eigvals(A3)\n",
    "if np.all(eigavals3)>0:\n",
    "    defpos = True\n",
    "if defpos and simm:\n",
    "    print(\"Il metodo converge perchè A3 è simmetrice e definita positiva\")\n",
    "else:\n",
    "    print(\"matrice non simm e def pos\")"
   ]
  },
  {
   "cell_type": "code",
   "execution_count": null,
   "id": "11f509d6-013f-4a9a-8620-0accf7b8a949",
   "metadata": {},
   "outputs": [],
   "source": []
  },
  {
   "cell_type": "code",
   "execution_count": 41,
   "id": "a5585d5f-fca1-4403-97a3-efc7f322201a",
   "metadata": {},
   "outputs": [
    {
     "ename": "ModuleNotFoundError",
     "evalue": "No module named 'SolveTriangular'",
     "output_type": "error",
     "traceback": [
      "\u001b[0;31m---------------------------------------------------------------------------\u001b[0m",
      "\u001b[0;31mModuleNotFoundError\u001b[0m                       Traceback (most recent call last)",
      "Cell \u001b[0;32mIn[41], line 1\u001b[0m\n\u001b[0;32m----> 1\u001b[0m \u001b[38;5;28;01mfrom\u001b[39;00m \u001b[38;5;21;01mSolveTriangular\u001b[39;00m \u001b[38;5;28;01mimport\u001b[39;00m \u001b[38;5;241m*\u001b[39m\n\u001b[1;32m      2\u001b[0m \u001b[38;5;28;01mdef\u001b[39;00m \u001b[38;5;21mgauss_seidel\u001b[39m(A,b,x0,toll,it_max):\n\u001b[1;32m      3\u001b[0m     errore\u001b[38;5;241m=\u001b[39m\u001b[38;5;241m1000\u001b[39m\n",
      "\u001b[0;31mModuleNotFoundError\u001b[0m: No module named 'SolveTriangular'"
     ]
    }
   ],
   "source": [
    "from SolveTriangular import *\n",
    "def gauss_seidel(A,b,x0,toll,it_max):\n",
    "    errore=1000\n",
    "    d=np.diag(A)\n",
    "    D=np.diag(d)\n",
    "    E=np.tril(A,-1)\n",
    "    F=np.triu(A,1)\n",
    "    M=D+E\n",
    "    N=-F \n",
    "    T=np.linalg.inv(M)@N\n",
    "    autovalori=np.linalg.eigvals(T)\n",
    "    raggiospettrale=np.max(np.abs(autovalori))\n",
    "    print(\"raggio spettrale Gauss-Seidel \",raggiospettrale)\n",
    "    it=0\n",
    "    er_vet=[]\n",
    "    while it<=it_max and errore >= toll:\n",
    "        x,flag=Lsolve(M, b-F@x0) \n",
    "        errore=np.linalg.norm(x-x0)/np.linalg.norm(x)\n",
    "        er_vet.append(errore)\n",
    "        x0=x.copy()\n",
    "        it=it+1\n",
    "    return x,it,er_vet"
   ]
  },
  {
   "cell_type": "code",
   "execution_count": null,
   "id": "759f1f85-78fb-406d-bb27-c2ed07de6a57",
   "metadata": {},
   "outputs": [],
   "source": []
  },
  {
   "cell_type": "code",
   "execution_count": 38,
   "id": "58fab6bb-373b-40da-8185-9e55a5e25b50",
   "metadata": {},
   "outputs": [
    {
     "name": "stdout",
     "output_type": "stream",
     "text": [
      "raggio spettrale Gauss-Seidel  0.03273809523809523\n"
     ]
    },
    {
     "ename": "NameError",
     "evalue": "name 'Lsolve' is not defined",
     "output_type": "error",
     "traceback": [
      "\u001b[0;31m---------------------------------------------------------------------------\u001b[0m",
      "\u001b[0;31mNameError\u001b[0m                                 Traceback (most recent call last)",
      "Cell \u001b[0;32mIn[38], line 5\u001b[0m\n\u001b[1;32m      2\u001b[0m it_max\u001b[38;5;241m=\u001b[39m\u001b[38;5;241m1000\u001b[39m\n\u001b[1;32m      3\u001b[0m x0\u001b[38;5;241m=\u001b[39mnp\u001b[38;5;241m.\u001b[39mzeros_like(b)\n\u001b[0;32m----> 5\u001b[0m x3,it3, er_vet3 \u001b[38;5;241m=\u001b[39m gauss_seidel(A3, b3, x0, toll, it_max)\n\u001b[1;32m      6\u001b[0m \u001b[38;5;28mprint\u001b[39m(\u001b[38;5;124m\"\u001b[39m\u001b[38;5;124mIT: \u001b[39m\u001b[38;5;124m\"\u001b[39m, it)\n\u001b[1;32m      7\u001b[0m \u001b[38;5;28mprint\u001b[39m(x\u001b[38;5;241m.\u001b[39mshape)\n",
      "Cell \u001b[0;32mIn[37], line 16\u001b[0m, in \u001b[0;36mgauss_seidel\u001b[0;34m(A, b, x0, toll, it_max)\u001b[0m\n\u001b[1;32m     14\u001b[0m er_vet\u001b[38;5;241m=\u001b[39m[]\n\u001b[1;32m     15\u001b[0m \u001b[38;5;28;01mwhile\u001b[39;00m it\u001b[38;5;241m<\u001b[39m\u001b[38;5;241m=\u001b[39mit_max \u001b[38;5;129;01mand\u001b[39;00m errore \u001b[38;5;241m>\u001b[39m\u001b[38;5;241m=\u001b[39m toll:\n\u001b[0;32m---> 16\u001b[0m     x,flag\u001b[38;5;241m=\u001b[39mLsolve(M, b\u001b[38;5;241m-\u001b[39mF\u001b[38;5;129m@x0\u001b[39m) \n\u001b[1;32m     17\u001b[0m     errore\u001b[38;5;241m=\u001b[39mnp\u001b[38;5;241m.\u001b[39mlinalg\u001b[38;5;241m.\u001b[39mnorm(x\u001b[38;5;241m-\u001b[39mx0)\u001b[38;5;241m/\u001b[39mnp\u001b[38;5;241m.\u001b[39mlinalg\u001b[38;5;241m.\u001b[39mnorm(x)\n\u001b[1;32m     18\u001b[0m     er_vet\u001b[38;5;241m.\u001b[39mappend(errore)\n",
      "\u001b[0;31mNameError\u001b[0m: name 'Lsolve' is not defined"
     ]
    }
   ],
   "source": [
    "toll = 1e-6\n",
    "it_max=1000\n",
    "x0=np.zeros_like(b)\n",
    "\n",
    "x3,it3, er_vet3 = gauss_seidel(A3, b3, x0, toll, it_max)\n",
    "print(\"IT: \", it)\n",
    "print(x.shape)\n",
    "\n",
    "plt.semilogy(range(len(er_vet3)),er_vet3)"
   ]
  },
  {
   "cell_type": "markdown",
   "id": "f543c936-6f8e-4115-b920-d5087ffc2a09",
   "metadata": {},
   "source": [
    "# Esercizio 2"
   ]
  },
  {
   "cell_type": "markdown",
   "id": "d9f3e0cd-b8bb-4e1d-9f41-c77e4d6be284",
   "metadata": {},
   "source": [
    "Implementare le function necessarie per costruire il polinomio interpolante di Lagrange. \n",
    "                                       **[4 punti]**\n",
    "                                                         "
   ]
  },
  {
   "cell_type": "markdown",
   "id": "f17cc9f6-e704-4482-8267-081ed315deb3",
   "metadata": {},
   "source": [
    "Sia assegnata la funzione $f(x)=cos(\\pi x)+sin(\\pi x)$, $ x \\in [0,2]$,\n",
    "facendo uso delle functions implementate precedentemente, si determini il polinomio p che interpola f nei nodi  x0 = 1, x1 = 1.5, x2 = 1.75 e si rappresenti in uno stesso grafico la funzione f, il polinomio p e i punti di interpolazione assegnati;\n",
    "                                          **[2 punti]**"
   ]
  },
  {
   "cell_type": "markdown",
   "id": "0e8e47f4-5420-4522-a62a-acccc880f6bb",
   "metadata": {},
   "source": [
    " si calcoli il valore assunto dalla funzione errore E(x) := |f(x) − p(x)| nel punto $x^∗$ = 0.75 e si definisca teoricamente da cosa dipende l'errore che si compie quando al posto del polinomio interpolatore si considera la funzione che ha generato i dati, commentando opportunamente la formula \n",
    "                                                             **[3 punti]**"
   ]
  },
  {
   "cell_type": "markdown",
   "id": "d3928581-2fbd-47a2-98bd-4ae41a427372",
   "metadata": {},
   "source": [
    "si stabilisca qual è il polinomio interpolatore per f passante per i nodi $x^*$ \n",
    ", x0, x1 e x2.   **[1 punto]**"
   ]
  },
  {
   "cell_type": "markdown",
   "id": "3f8c549a-d714-47e4-a3c7-5e4c98a827f7",
   "metadata": {},
   "source": [
    "Si calcoli la costante di Lebesgue per il problema di interpolazione in esame  e si dica che ruolo svolge nell'ambito dell'interpolazione polinomiale\n",
    "                               **[3 punti]**"
   ]
  },
  {
   "cell_type": "markdown",
   "id": "a57c0b42-c718-4663-a13c-40b35c01199d",
   "metadata": {},
   "source": [
    "Totale **Punti 13**"
   ]
  },
  {
   "cell_type": "markdown",
   "id": "2e317e55-6983-4f36-9f54-91ab25ee6e3e",
   "metadata": {},
   "source": [
    "## Domande Intelligenza Artificiale\n",
    "**NB: Ogni risposta esatta:  +0.5 punti, ogni risposta errata: -0.5 punti. La mancanza di risposta:  0 punti**"
   ]
  },
  {
   "cell_type": "markdown",
   "id": "11eacd04-c27a-44de-9d44-47c0431c9275",
   "metadata": {},
   "source": [
    "**Risolvere un problema mediante Machine Learning significa**:\n",
    "- Fornire alla macchina i dati affinchè impari da sola a risolvere il problema\n",
    "- Fornire alla macchina solo dati etichettati affinchè impari da sola a risolvere il problema\n",
    "- Fornire alla macchina solo dati non etichettati affinchè impari da sola a risolvere il problema\n",
    "- Fornire alla macchina le esatte istruzioni per risolvere il problema\n",
    "edizione"
   ]
  },
  {
   "cell_type": "markdown",
   "id": "52b1e385-3ea5-4137-88f0-4661d5e23745",
   "metadata": {},
   "source": [
    "**2  A cosa serve il validation set?**\n",
    "\n",
    "-  A trovare i migliori iperparametri del modello\n",
    "\n",
    "-  Ad addestrare il modello\n",
    "\n",
    "-  A testare il modello\n",
    "\n",
    "-  A trovare le etichette dei dati di input"
   ]
  },
  {
   "cell_type": "markdown",
   "id": "aeccbc74-c0d5-46ca-9e99-646df20e8f84",
   "metadata": {},
   "source": [
    "**3  Una classica rete CNN è solitamente composta da:**\n",
    "\n",
    "· Layer convolutivi seguiti da layer di pooling, flatten layer e neuroni completamente connessi\n",
    "\n",
    "· Layer di pooling seguiti da layer convolutivi, flatten layer e neuroni completamente connessi\n",
    "\n",
    "· Layer convolutivi seguiti da layer di pooling, flatten layer e softmax\n",
    "\n",
    "· Layer di pooling seguiti da layer convolutivi, flatten layer e softmax"
   ]
  },
  {
   "cell_type": "markdown",
   "id": "4ab0b3aa-6477-4cba-b2ce-cdb4d34ecdfb",
   "metadata": {},
   "source": [
    "**4 Il livello softmax**\n",
    "- Trasforma i digits della rete in probabilità\n",
    "- Trasforma le probabilità della rete in digits\n",
    "- Normalizza i valori di input della rete\n",
    "- È indispensabile nel task di regressione\n",
    "lla rete"
   ]
  },
  {
   "cell_type": "markdown",
   "id": "0e870471-00c9-44d6-8668-b173ca092cfb",
   "metadata": {},
   "source": [
    "**5 Per una rete neurale, l’apprendimento è legato a:**\n",
    "- \tMinimizzare la funzione obiettivo\n",
    "- Minimizzare la funzione di attivazione\n",
    "- \tMassimizzare il valore dei pesi tramite l’algoritmo di back-propagation\n",
    "- Massimizzare il valore della funzione di training\n"
   ]
  },
  {
   "cell_type": "markdown",
   "id": "db908255-e5db-445d-a7d3-0ade6c91ff8a",
   "metadata": {},
   "source": [
    "**Domande Aperte**"
   ]
  },
  {
   "cell_type": "markdown",
   "id": "033c25a0-67eb-43bd-9c08-021c7b22dbd4",
   "metadata": {},
   "source": [
    "**6. Spiega in modo dettagliato come il learning rate influenza la convergenza di una rete neurale durante il training. Quali sono le conseguenze di un learning rate troppo alto o troppo basso nel training di una rete neurale. Descrivi le principali strategie di  aggiornamentodel  learning rate durante il training di una rete neurale.** [punti 1.5]"
   ]
  },
  {
   "cell_type": "markdown",
   "id": "a36b5eec-ff7b-46f9-a3ad-dedd55fe1c66",
   "metadata": {},
   "source": [
    "**7. Descrivi in dettaglio l'algoritmo di discesa del gradiente con momento. Quali sono le motivazioni che hanno portato alla sua introduzione rispetto alla discesa del gradiente standard? Fornisci la formula matematica dell'aggiornamento dei pesi in questo algoritmo e spiega il ruolo del termine di momento** [punti 3]"
   ]
  },
  {
   "cell_type": "code",
   "execution_count": null,
   "id": "8722083f-dd2e-4c0c-a3a6-472f328d6d65",
   "metadata": {},
   "outputs": [],
   "source": []
  }
 ],
 "metadata": {
  "kernelspec": {
   "display_name": "Python 3 (ipykernel)",
   "language": "python",
   "name": "python3"
  },
  "language_info": {
   "codemirror_mode": {
    "name": "ipython",
    "version": 3
   },
   "file_extension": ".py",
   "mimetype": "text/x-python",
   "name": "python",
   "nbconvert_exporter": "python",
   "pygments_lexer": "ipython3",
   "version": "3.12.7"
  }
 },
 "nbformat": 4,
 "nbformat_minor": 5
}
