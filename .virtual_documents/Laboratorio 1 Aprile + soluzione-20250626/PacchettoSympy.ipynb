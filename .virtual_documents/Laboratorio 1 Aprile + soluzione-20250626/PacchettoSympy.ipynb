





import sympy as sym
import numpy as np
import matplotlib.pyplot as plt





x=sym.symbols('x')





f=x**2+sym.sqrt(x+2)





df=sym.diff(f,x,1)


print(df)





from sympy import lambdify


df_numerica=lambdify(x,df,np)  #l'ultimo argomento np (nickaname di numpy) serve per specificare che la lambda function 
#può prendere come argomento un numpy array ed eseguire l'operazione su tutte le sue componenti.
f_numerica=lambdify(x,f,np)


t=np.linspace(0,2,200)
plt.plot(t,df_numerica(t),'r-',t,f_numerica(t),'g:')
plt.show()





x=sym.symbols('x')
fs =  sym.exp(-x)-(x+1)
dfs=sym.diff(f,x,1)
print(df)

fp=lambdify(x,dfs,np)  #l'ultimo argomento np (nickaname di numpy) serve per specificare che la lambda function 
#può prendere come argomento un numpy array ed eseguire l'operazione su tutte le sue componenti.
f=lambdify(x,fs,np)





valore=fs.subs(x,4).evalf()
print(valore)



