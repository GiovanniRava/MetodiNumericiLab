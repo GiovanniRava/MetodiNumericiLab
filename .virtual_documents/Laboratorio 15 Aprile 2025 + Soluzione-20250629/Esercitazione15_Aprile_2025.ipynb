





import numpy as np
import scipy as sp
import matplotlib.pyplot as plt
from SolveTriangular import *





def jacobi(A, b, x0, toll, it_max):
    d=np.diag(A)
    E=np.tril(A,-1)
    F=np.triu(A,1)
    N=-(E+F)
    invM=np.diag(1/d)
    T = np.dot(invM,N)
    autovalori = np.linalg.eigvals(T)
    raggiospettrale = np.max(np.abs(autovalori))
    print("raggio spettrale jacobi: ", raggiospettrale)
    
    it=0
    errore=1000
    err_vet=[]
    while it<it_max and errore >= toll:
        x = (b+N@x0)/d.reshape(n,1)
        errore= np.linalg.norm(x-x0)/np.linalg.norm(x)
        err_vet.append(errore)
        x0=x.copy()
        it+=1
    return x, it, err_vet
        





def gauss_seidel(A,b,x0,toll,it_max):
    errore=1000
    d=np.diag(A)
    D=np.diag(d)
    E=np.tril(A, -1)
    F=np.triu(A,1)
    M=E+D
    N=-F 
    invM=np.linalg.inv(M)
    T= invM@N
    autovalori=np.linalg.eigvals(T)
    raggiospettrale=np.max(np.abs(autovalori)) 
    print("raggio spettrale Gauss-Seidel ",raggiospettrale)
    it=0
    er_vet=[]
    while it<=it_max and errore>=toll: 
        temp =b-F@x0
        x,flag=Lsolve(M, temp)
        errore=np.linalg.norm(x-x0)/np.linalg.norm(x)
        er_vet.append(errore)
        x0=x.copy()
        it=it+1
    return x,it,er_vet





A=np.array([[8,1,3],[3,5,1],[1,1,17]])
print(A)
toll=1e-8
it_max=100
n=A.shape[0]
x0=np.zeros(A.shape[0]).reshape(n,1)
b=np.sum(A,axis=1).reshape(n,1)
sol1, it1, er_vet1= jacobi(A, b, x0,toll, it_max)
plt.semilogy(np.arange(it1), er_vet1)
print("JACOBI\nsol: ", sol1, "it: ", it1)

sol2, it2, er_vet2= gauss_seidel(A, b, x0,toll, it_max)
print("GAUSS\nsol: ", sol2, "it: ", it2)
plt.semilogy(np.arange(it2),er_vet2)
plt.legend(["Jacobi", "Gauss-Seidel"])
plt.show()





def gauss_seidel_sor(A,b,x0,toll,it_max,omega):
    errore=1000
    d=np.diag(A)
    D=np.diag(d)
    Dinv= np.diag(1/d)
    E=np.tril(A,-1)
    F=np.triu(A,1)
    Momega=D+omega*E
    Nomega=(1-omega)*D-omega*F
    T=np.dot(np.linalg.inv(Momega), Nomega)
    autovalori=np.linalg.eigvals(T)
    raggiospettrale=np.max(np.abs(autovalori))
    print("raggio spettrale Gauss-Seidel SOR ", raggiospettrale)
    
    M=D+E
    N=-F
    it=0
    xold=x0.copy()
    xnew=x0.copy()
    er_vet=[]
    while it<=it_max and errore>=toll:
        temp=b-np.dot(F, xold)
        xtilde,flag=Lsolve(M, temp)
        xnew=(1-omega)*xold +omega*xtilde
        errore= np.linalg.norm(xnew-xold)/np.linalg.norm(xnew)
        er_vet.append(errore)
        xold=xnew.copy()
        it=it+1
    return xnew,it,er_vet






def creaPoisson(n):
    #costruire una matrice di Poisson
    d=np.ones((n))*4
    e=-np.ones((n-1,))
    f=-np.ones((n-3,))
    A=np.diag(d)+np.diag(e,-1)+np.diag(e,1)+np.diag(f,-3)+np.diag(f,3)
    return A
    


A=creaPoisson(10)
b=np.sum(A,axis=1)
toll=1e-10
it_max=1000
n=A.shape[0]
x0=np.zeros(A.shape[0]).reshape(n,1)
b=np.sum(A,axis=1).reshape(n,1)
sol_jac,it_jac,err_vet_jac=jacobi(A,b,x0,toll,it_max)
plt.semilogy(np.arange(it_jac),err_vet_jac)
#print("sol=",sol_jac,"it ",it_jac)
solgs,itgs,err_vet_gs=gauss_seidel(A,b,x0,toll,it_max)
#print("solgs=",solgs,"it ",itgs)
plt.semilogy(np.arange(itgs),err_vet_gs)
 
omega=1.4
solgs_sor,itgs_sor,err_vet_gs_sor=gauss_seidel_sor(A,b,x0,toll,it_max,omega)
#print("solgs_sor=",solgs_sor,"it ",itgs_sor)
plt.semilogy(np.arange(itgs_sor),err_vet_gs_sor)
plt.legend(['Jacobi','Gauss Seidel','Gauss Seidel Sor'])
plt.show()

#Si nota come a raggio spettrale più piccolo, corrisponde una maggiore velocità (minor numero di iterazioni)



