








import numpy as np


def jacobi(A,b,x0,toll,it_max):
    errore=1000
    d=np.diag(A)
    n=A.shape[0]
    invM=np.diag(1/d)
    E=np.tril(A,-1)
    F=np.triu(A,1)
    N=-(E+F)
    T=np.dot(invM,N)
    autovalori=np.linalg.eigvals(T)
    raggiospettrale=np.max(np.abs(autovalori))
    print("raggio spettrale jacobi", raggiospettrale)
    it=0
    
    er_vet=[]
    while it<=it_max and errore>=toll:
        x=(b+N@x0)/d.reshape(n,1)
        errore=np.linalg.norm(x-x0)/np.linalg.norm(x)
        er_vet.append(errore)
        x0=x.copy()
        it=it+1
    return x,it,er_vet





def gauss_seidel(A,b,x0,toll,it_max):
    errore=1000
    d=np.diag(A)
    D=np.diag(d)
    E=np.tril(A,-1)
    F=np.triu(A,1)
    M=D+E
    N=-F
    invM=np.linalg.inv(M)
    T=invM@N
    autovalori=np.linalg.eigvals(T)
    raggiospettrale=np.max(np.abs(autovalori))
    print("raggio spettrale Gauss-Seidel ",raggiospettrale)
    it=0
    er_vet=[]
    while it<=it_max and errore>=toll:
        temp=b-F@x0
        x,flag=Lsolve(M,temp)  #Calcolare la soluzione al passo k equivale a calcolare la soluzione del sistema triangolare con matrice M=D+E
                               # e termine noto b-F@x0
        errore=np.linalg.norm(x-x0)/np.linalg.norm(x)
        er_vet.append(errore)
        x0=x.copy()
        it=it+1
    return x,it,er_vet





import matplotlib.pyplot as plt
from SolveTriangular import *
#A=np.array([[1,3,2],[7,8,3],[14,3,10]],dtype=float)
A=np.array([[8,1,3],[3,1,1],[1,1,17]])
print(A)
#A=np.array([[3,0, 4],[7, 4, 3],[-1, -1 ,-2]])
#A=np.array([[5, 0, -1, 2],[ -2, 4, 1, 0],[0, -1, 4, -1],[ 2, 0, 0, 3]])
toll=1e-8
it_max=100
n=A.shape[0]
x0=np.zeros(A.shape[0]).reshape(n,1)
b=np.sum(A,axis=1).reshape(n,1)
sol,it,err_vet=jacobi(A,b,x0,toll,it_max)
plt.semilogy(np.arange(it),err_vet)
print("sol=\n ",sol,"\n it ",it)

solgs,itgs,err_vet_gs=gauss_seidel(A,b,x0,toll,it_max)
print("solgs= \n",sol,"\n it ",itgs)
plt.semilogy(np.arange(itgs),err_vet_gs)
plt.legend(["Jacobi ", "Gauss Seidel"])
plt.show()

#Il raggio spettrale del metodo di Gauss-Seidel è più piccolo del raggio spettrale del metodo di Jacobi, questo giustifica il fatto che 
# il metodo di Gauss-Seidel è + più veloce





def gauss_seidel_sor(A,b,x0,toll,it_max,omega):
    errore=1000
    d=np.diag(A)
    D=np.diag(d)
    Dinv=np.diag(1/d)
    E=np.tril(A,-1)
    F=np.triu(A,1)
    Momega=D+omega*E
    Nomega=(1-omega)*D-omega*F
    T=np.dot(np.linalg.inv(Momega),Nomega)
    autovalori=np.linalg.eigvals(T)
    raggiospettrale=np.max(np.abs(autovalori))
    print("raggio spettrale Gauss-Seidel SOR ", raggiospettrale)
    
    M=D+E
    N=-F
    it=0
    xold=x0.copy()
    xnew=x0.copy()
    er_vet=[]
    while it<=it_max and errore>=toll:
        temp=b-np.dot(F,xold)
        xtilde,flag=Lsolve(M,temp)
        xnew=(1-omega)*xold+omega*xtilde
        errore=np.linalg.norm(xnew-xold)/np.linalg.norm(xnew)
        er_vet.append(errore)
        xold=xnew.copy()
        it=it+1
    return xnew,it,er_vet





def creaPoisson(n):
    #costruire una matrice di Poisson
    d=np.ones((n))*4
    e=-np.ones((n-1,))
    f=-np.ones((n-3,))
    A=np.diag(d)+np.diag(e,-1)+np.diag(e,1)+np.diag(f,-3)+np.diag(f,3)
    return A
    


A=creaPoisson(10)
b=np.sum(A,axis=1)
toll=1e-10
it_max=1000
n=A.shape[0]
x0=np.zeros(A.shape[0]).reshape(n,1)
b=np.sum(A,axis=1).reshape(n,1)
sol_jac,it_jac,err_vet_jac=jacobi(A,b,x0,toll,it_max)
plt.semilogy(np.arange(it_jac),err_vet_jac)
#print("sol=",sol_jac,"it ",it_jac)
solgs,itgs,err_vet_gs=gauss_seidel(A,b,x0,toll,it_max)
#print("solgs=",solgs,"it ",itgs)
plt.semilogy(np.arange(itgs),err_vet_gs)
 
omega=1.4
solgs_sor,itgs_sor,err_vet_gs_sor=gauss_seidel_sor(A,b,x0,toll,it_max,omega)
#print("solgs_sor=",solgs_sor,"it ",itgs_sor)
plt.semilogy(np.arange(itgs_sor),err_vet_gs_sor)
plt.legend(['Jacobi','Gauss Seidel','Gauss Seidel Sor'])
plt.show()

#Si nota come a raggio spettrale più piccolo, corrisponde una maggiore velocità (minor numero di iterazioni)









