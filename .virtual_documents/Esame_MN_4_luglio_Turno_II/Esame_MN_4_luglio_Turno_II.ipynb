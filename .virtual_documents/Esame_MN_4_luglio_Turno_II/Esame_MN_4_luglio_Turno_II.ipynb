





from scipy.io import loadmat

import numpy as np
import matplotlib.pyplot as plt
import scipy.linalg as spLin
from SolveTriangular import *

dati = loadmat('testII')
A=dati["A"] 
A=A.astype(float)
b=dati["b"]
b=b.astype(float)
A1=dati["A1"] 
A1=A1.astype(float)
b1=dati["b1"]
b1=b1.astype(float)


m,n = A.shape
if m==n:
    print("Matrice quadrata, dim: ", m)
else: 
    print("matrice non quadrata")

sp=np.count_nonzero(A)/(m*n)
print("Sparsità_ ", sp)


plt.spy(A)


flagS = A.T==A
if np.all(flagS==True):
    print("matrice simmetrica")
else: 
    print("Matrice non simmetrica")


autovalori = np.linalg.eigvals(A)
if np.all(autovalori>0):
    print("def pos")
else:
    print("Non def pos")


condA=np.linalg.cond(A)
print("COndizionamento di A: ", condA)


#la matrice è simmetrica e definita positiva quindi uso la fattorizzazione di Choleski

L= spLin.cholesky(A, lower=True)
y=np.linalg.solve(L, b)
x=np.linalg.solve(L.T, y)

print("X:", x)


m1,n1=A1.shape
if m1==n1:
    print("Matrice quadrata: ", m1)
else:
    print("Matrice non quadrata, m: ", m1, "n: ",n1)


condA1 = np.linalg.cond(A1)
print("Condizionamento A1: ", condA1)


rankA1= np.linalg.matrix_rank(A1)
if rankA1 == min(A.shape):
    print("matrice è a a rango massimo")
else:
    print("Non è a ragno massimo")


#Essendo la matrice molot mal condizionata e non a rango massimo uso il metodo SVDLS
def SVDLS(A,b):
    m,n=A.shape  #numero di righe e  numero di colonne di A
    U,s,VT=spLin.svd(A)  
    
    V=VT.T
    thresh=np.spacing(1)*m*s[0] ##Calcolo del rango della matrice, numero dei valori singolari maggiori di una soglia
    k=np.count_nonzero(s>thresh)
    
    d=U.T@b 
    d1=d[:k].reshape(k,1) 
    s1=s[:k].reshape(k,1)
    
    c=d1/s1 
    x=V[:,:k]@c 
    residuo=np.linalg.norm(d[k:])**2 
    return x,residuo


xS, residuoS = SVDLS(A1, b1)
print("X: ", xS)
plt.figure(figsize=(8,4))
plt.plot(range(len(xS)), xS.flatten(), color='skyblue')
plt.title("Soluzione approssimata con SVDLS")
plt.xlabel("Indice")
plt.ylabel("Valore di x")
plt.grid(True)
plt.show()


b1_per= b1.copy()
b1_per[1]=b1_per[1]+0.1
x_per, residuo_per= SVDLS(A1, b1_per)
print("X: ", x_per)
plt.figure(figsize=(8,4))
plt.plot(range(len(x_per)), x_per.flatten(), color='skyblue')
plt.title("Soluzione approssimata con SVDLS")
plt.xlabel("Indice")
plt.ylabel("Valore di x")
plt.grid(True)
plt.show()


err_rel_dati=np.linalg.norm(b1_per - b1)/np.linalg.norm(b1)
err_rel_sol= np.linalg.norm(x_per-xS)/np.linalg.norm(xS)

print("Errore relativo sui dati: ", err_rel_dati)
print("Errore relativo sulla soluzione: ", err_rel_sol)





A3=np.array([[8.0,0,1,1],[0,0.8,1,0],[1,1,2,0],[1,0,0.0,2.0]]) 
b3= np.array([10.0, 1.8, 4.0, 3.0])
#per fare in modo che il metodo di GaussSeidel converga ci sono due possibilità o calcolare il raggio sprettrale e controllare che sia minore di uno altrimenti
#un teorema afferma che se la matrice è diagonale strettamente dominante allora il metodo converge, andiamo quindi a controllare che la matrice sia di questo tipo


def is_strictly_diagonally_dominant(A):

    n, m = A.shape
    if n != m:
        raise ValueError("La matrice deve essere quadrata")

    for i in range(n):
        diag = abs(A[i, i])
        off_diag_sum = np.sum(np.abs(A[i, :])) - diag
        if diag <= off_diag_sum:
            return False  # almeno una riga non soddisfa la condizione
    return True

if is_strictly_diagonally_dominant(A3):
    print("Gauss-Seidel: converge")
else:
    print("non converge")


def gauss_seidel(A,b,x0,toll,it_max):
    errore=1000
    d=np.diag(A)
    D=np.diag(d)
    E=np.tril(A,-1)
    F=np.triu(A,1)
    M=D+E
    N=-F 
    T=np.linalg.inv(M)@N
    autovalori=np.linalg.eigvals(T)
    raggiospettrale=np.max(np.abs(autovalori))
    print("raggio spettrale Gauss-Seidel ",raggiospettrale)
    it=0
    er_vet=[]
    while it<it_max and errore>=toll:
        x,flag=Lsolve(M, b-F@x0)
        errore=np.linalg.norm(x-x0)/np.linalg.norm(x) 
        er_vet.append(errore)
        x0=x.copy()
        it=it+1
    return x,it,er_vet


x0=np.zeros_like(b3)
toll=1e-6
it_max=100
xG, itG, er_vetG = gauss_seidel(A3,b3,x0, toll, it_max)











def formula_quadratica(a,b,c):
    delta_sqrt = np.sqrt(b**2-4*a*c)
    den = 2*a
    x1=-b+delta_sqrt/den
    x2=-b-delta_sqrt/den

    return x1,x2

print("{:<5} {:<20} {:<20} {:<20} {:<20}".format("k", "x1 num", "x1 esatto", "x2 num", "x2 esatto"))
vet_x1=[]
vet_x2=[]
err_vet_num1=[]
err_vet_num2=[]
for k in range(4,13):
    a = 1
    b=(4**(2*k))-(2**(-2*k))
    c = (4**(2*k))*(2**(-2*k))
    x1_num, x2_num= formula_quadratica(a,b,c)
    vet_x1.append(x1_num)
    vet_x2.append(x2_num)
    x1_esatto= -4**(2*k)
    x2_esatto=2**(-2*k)
    err_rel1=np.linalg.norm(x1_num-x1_esatto)/np.linalg.norm(x1_esatto)
    err_vet_num1.append(err_rel1)
    err_rel2=np.linalg.norm(x2_num-x2_esatto)/np.linalg.norm(x2_esatto)
    err_vet_num2.append(err_rel2)
    print(f"{k:<5} {x1_num:<20.5e} {x1_esatto:<20.5e} {x2_num:<20.5e} {x2_esatto:<20.5e}")

plt.semilogy(range(4,13), err_vet_num1, 'r-', range(4,13), err_vet_num2, 'b--')
print(err_vet_num1)
print(err_vet_num2)





#Per risolvere questo problema possiamo trovare x2 da x1 x2=c/a*x1

def formula_stabile(a, b, c):
    delta = b**2 - 4*a*c
    sqrt_delta = np.sqrt(delta)

    if b >= 0:
        x1 = (-b - sqrt_delta) / (2*a)
    else:
        x1 = (-b + sqrt_delta) / (2*a)

    x2 = c / (a * x1)
    return x1, x2


arr=[]
arr1=[]
num=[]
num1=[]
for k in range(4,13):
    a = 1
    b=(4**(2*k))-(2**(-2*k))
    c = (4**(2*k))*(2**(-2*k))
    x1_num, x2_num= formula_stabile(a,b,c)
    num.append(x1_num)
    num1.append(x2_num)
    x1_esatto= -4**(2*k)
    x2_esatto=2**(-2*k)
    err_rel1=np.linalg.norm(x1_num-x1_esatto)/np.linalg.norm(x1_esatto)
    arr.append(err_rel1)
    err_rel2=np.linalg.norm(x2_num-x2_esatto)/np.linalg.norm(x2_esatto)
    arr1.append(err_rel2)
    print(f"{k:<5} {x1_num:<20.5e} {x1_esatto:<20.5e} {x2_num:<20.5e} {x2_esatto:<20.5e}")

plt.plot(range(4,13), arr, 'r-', range(4,13), arr1, 'b--')
print(err_vet_num1)
print(err_vet_num2)






























