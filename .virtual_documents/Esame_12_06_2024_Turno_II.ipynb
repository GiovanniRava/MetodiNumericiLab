


from scipy.io import loadmat

import numpy as np
import matplotlib.pyplot as plt
import scipy.linalg as spLin
import SolveTriangular as St
dati = loadmat('testII')
A=dati["A"] 
A=A.astype(float)
b=dati["b"]
b=b.astype(float)
A1=dati["A1"] 
A1=A1.astype(float)
b1=dati["b1"]
b1=b1.astype(float)


m,n = A.shape
if m==n:
    print("matrice quadrata: ", m)
else:
    print("matrice non quadrata")


#La matrice è quadrata e di grandi dimensioni, calcoliamo la sparsità
sp=np.spacing(1)/(m*n)
print("Sparsità: ", sp)
plt.spy(A)


flagS = A.T@A
if np.all(flagS== True):
    print("La matrice è simmetrica")
else:
    print("La matrice non è simmetrica")


#La matrice non è simmetrica quindi come metodi Usiamo Jacobi e Gauss-Seidel
def jacobi(A,b,x0,toll,it_max):
    errore=1000
    d=np.diag(A)
    n=A.shape[0]
    invM=np.diag(1/d)
    E=np.tril(A,-1)
    F=np.triu(A,1)
    N=-(E+F)
    T=invM@N 
    autovalori=np.linalg.eigvals(T)
    raggiospettrale=np.max(np.abs(autovalori))
    print("raggio spettrale jacobi", raggiospettrale)
    it=0
    
    er_vet=[]
    while it<=it_max and errore>=toll:
        x=(b+N@x0)/d.reshape(n,1)
        errore=np.linalg.norm(x-x0)/np.linalg.norm(x)
        er_vet.append(errore)
        x0=x.copy()
        it=it+1
    return x,it,er_vet


def gauss_seidel(A,b,x0,toll,it_max):
    errore=1000
    d=np.diag(A)
    D=np.diag(d)
    E=np.tril(A,-1)
    F=np.triu(A,1)
    M=D+E
    N=-F 
    T=np.linalg.inv(M)@N 
    autovalori=np.linalg.eigvals(T)
    raggiospettrale=np.max(np.abs(autovalori))
    print("raggio spettrale Gauss-Seidel ",raggiospettrale)
    it=0
    er_vet=[]
    while it<=it_max and errore >=toll:
        x,flag=St.Lsolve(M, b-F@x0)
        errore=np.linalg.norm(x-x0)/np.linalg.norm(x)
        er_vet.append(errore)
        x0=x.copy()
        it=it+1
    return x,it,er_vet



x0 = np.zeros_like(b)
toll=1e-6
it_max=100
xJ, itJ, er_vetJ= jacobi(A, b, x0, toll, it_max)
print("JACOBI\n")
#print("X: ",xJ)
print("It: ", itJ)
plt.semilogy(np.arange(itJ),er_vetJ, 'b-')
plt.show()


x0 = np.zeros_like(b)
toll=1e-6
it_max=100
xGS, itGS, er_vetGS= gauss_seidel(A, b, x0, toll, it_max)
print(" GAUSSSEIDEL\n")
#print("X: ",xJ)
print("It: ", itGS)
plt.semilogy(np.arange(itGS),er_vetGS, 'b-')
plt.show()


m1,n1 = A1.shape
if m1==n1:
    print("matrice quadrata: ", m1)
else:
    print("matrice non quadrata")


sp1=np.spacing(1)/(m1*n1)
print("sparsità: ", sp1)
plt.spy(A1)


flagS1 = A1.T==A1
if np.all(flagS1==True):
    print("Matrice simmetrica")
else: 
    print("matrice non simmetrica")


eigvals = np.linalg.eigvals(A1)
if np.all(eigvals)>0:
    print("matrice def pos")
else: 
    print("Matrice non def pos")



#essendo simmetrica e definita positiva per risolvere usiamo il Gauss-Seidel che abbiamo gia scritto sopra, GS SOR, e il metoodo del gradient
#coniugato
def gauss_seidel_sor(A,b,x0,toll,it_max,omega):
    errore=1000
    d=np.diag(A)
    D=np.diag(d)
    E=np.tril(A,-1)
    F=np.triu(A,1) 
    Momega=D+omega*E
    Nomega=(1-omega)*D-omega*F
    T=np.linalg.inv(Momega)@Nomega
    autovalori=np.linalg.eigvals(T)
    raggiospettrale=np.max(np.abs(autovalori))
    print("raggio spettrale Gauss-Seidel SOR ", raggiospettrale)
    
    M=D+E
    N=-F 
    it=0
    xold=x0.copy()
    xnew=x0.copy()
    er_vet=[]
    while it<=it_max and errore>=toll:
        
        xtilde,flag=St.Lsolve(M, b-F@xold) 
        xnew=(1-omega)*xold+omega*xtilde
        errore=np.linalg.norm(xnew-xold)/np.linalg.norm(xnew)
        er_vet.append(errore)
        xold=xnew.copy()
        it=it+1
    return xnew,it,er_vet



def steepestdescent(A,b,x0,itmax,tol):
 
    n,m=A.shape
    if n!=m:
        print("Matrice non quadrata")
        return [],[]
    
    
   # inizializzare le variabili necessarie
    x = x0

     
    r = A@x-b
    p = -r 
    it = 0
    nb=np.linalg.norm(b)
    errore=np.linalg.norm(r)/nb
    vec_sol=[]
    vec_sol.append(x.copy())
    vet_r=[]
    vet_r.append(errore)
     
# utilizzare il metodo del gradiente per trovare la soluzione
    while it<itmax and errore>=tol:
        it=it+1
        Ap=A@p
       
        alpha = -(r.T@p)/(p.T@Ap)
                
        x = x+alpha*p
        
         
        vec_sol.append(x.copy())
        r=r+alpha*Ap
        errore=np.linalg.norm(r)/nb
        vet_r.append(errore)
        p =-r
        
    iterates_array = np.vstack([arr.T for arr in vec_sol])
    return x,vet_r,iterates_array,it


def conjugate_gradient(A,b,x0,itmax,tol):
    n,m=A.shape
    if n!=m:
        print("Matrice non quadrata")
        return [],[]
    
    
   # inizializzare le variabili necessarie
    x = x0
    
    r = A@x-b 
    p = -r 
    it = 0
    nb=np.linalg.norm(b)
    errore=np.linalg.norm(r)/nb
    vec_sol=[]
    vec_sol.append(x0.copy())
    vet_r=[]
    vet_r.append(errore)
# utilizzare il metodo del gradiente coniugato per calcolare la soluzione
    while it<=itmax and errore>=tol:
        it=it+1
        Ap=A@p
        alpha = -(r.T@p)/(p.T@Ap)
        x = x+alpha*p
        vec_sol.append(x.copy())
        rtr_old=r.T@r
        r= r+alpha*Ap
        gamma=(r.T@r)/rtr_old 
        errore=np.linalg.norm(r)/nb
        vet_r.append(errore)
        p = -r*gamma*p
   
    iterates_array = np.vstack([arr.T for arr in vec_sol])
    return x,vet_r,iterates_array,it




x01=np.zeros_like(b1)
tol=1e-6
it_max=1000
omega = 1.2

xnewSOR,itSOR,er_vetSOR=gauss_seidel_sor(A,b,x0,toll,it_max,omega)
print("GS SOR\n")
print("It: ", itSOR)
plt.plot(np.arange(itSOR),er_vetSOR)
plt.show()


x01=np.zeros_like(b1)
tol=1e-6
it_max=1000
omega = 1.2

xSD,vet_rSD,iterates_arraySD,itSD=steepestdescent(A,b,x0,it_max,tol)
print("STEEPEST DESCENT\n")
print("It: ", itSD)
plt.plot(np.arange(itSD+1),vet_rSD)
plt.show()


x01=np.zeros_like(b1)
tol=1e-6
it_max=1000
omega = 1.2

xG,vet_rG,iterates_arrayG,itG=conjugate_gradient(A,b,x0,it_max,tol)
print("Gradient\n")
print("It: ", itG)
plt.semilogy(np.arange(itG+1),vet_rG)
plt.show()





f = lambda x: 2*x**4 -(7/2)*x**3 + (3/4)*x**2+x-1/4
x=np.linspace(-1,2,1000)
y=f(x)
plt.plot(x,y,'r-')
plt.axhline(0, color='gray', linestyle='--')


def newton(fname,fpname,x0,tolx,tolf,nmax):
  
        xk=[]
       
        it=0
        errorex=1+tolx
        erroref=1+tolf
        while it<=nmax and erroref >= tolf and errorex >= tolx:
           
           fx0=fname(x0)
           if abs(fpname(x0))<=np.spacing(1):
                print(" derivata prima nulla in x0")
                return None, None,None
           d=fx0/fpname(x0)

           x1=x0-d
           fx1=fname(x1)
           erroref=np.abs(fx1)
           if x1!=0:
                errore=np.linalg.norm(d)/np.linalg.norm(x0)
           else:
                errore=np.linalg.norm(d)

           it=it+1
           x0=x1
           xk.append(x1)
          
        if it==nmax:
            print('Newton: raggiunto massimo numero di iterazioni \n')
            
        
        return x1,it,xk


fp=lambda x: 8*x**3 -(21/2)*x**2 +(3/2)*x +1
x0=0.1
tolx=1e-8
tolf=1e-8
itmax=1000
x1N, itN, xkN = newton(f,fp, x0, tolx, tolf, it_max)



def stima_ordine(xk,iterazioni):
     #Vedi dispensa allegata per la spiegazione

      k=iterazioni-4
      p=np.log(abs(xk[k+2]-xk[k+3])/abs(xk[k+1]-xk[k+2]))/np.log(abs(xk[k+1]-xk[k+2])/abs(xk[k]-xk[k+1]));
     
      ordine=p
      return ordine



plt.plot(x1N, itN, '*')
plt.semilogy(np.arange(len(xkN)), xkN, 'r-')
print("IT: ", itN)
print("x: ", x1N)
print("sol: ", f(x1N))
print("Ordine ricavato con stima_ordine: ", stima_ordine(xkN, itN))





import math 
def sign(x):
  return math.copysign(1,x)


def metodo_bisezione(fname, a, b, tolx):
 
 fa=fname(a)
 fb=fname(b)
 if sign(fa)*sign(fb)>=0:
     print("Non è possibile applicare il metodo di bisezione \n")
     return None, None,None

 it = 0
 v_xk = []

 
 
 while abs(b-a)>tolx:
    xk = a-(b-a)/2
    v_xk.append(xk)
    it += 1
    fxk=fname(xk)
    if fxk==0:
      return xk, it, v_xk

    if sign(fa)*sign(fxk)>0:
      a = xk
      fa= fxk 
    elif sign(fb)*sign(fxk)>0:
      b = xk
      fb= fxk

 
 return xk, it, v_xk


fp=lambda x: 8*x**3 -(21/2)*x**2 +(3/2)*x +1
x0=0.1
tolx=1e-8
tolf=1e-8
itmax=1000
a=0.2
b=0.5
xkB, itB, v_xkB=metodo_bisezione(f, a, b, tolx)
print("XB: ", xkB)



























**
