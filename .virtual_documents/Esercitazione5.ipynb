


import numpy as np
import matplotlib.pyplot as plt
import math






p= 10**5

#f1_q = 1/2*np.sqrt(p**(2) +q)
space = np.spacing(p**2)
print("SPACING = ", space)
for i in range(11):
    q = 10 **(-i)
    f_q = -p + np.sqrt(p**(2) +q)
    
    print ("f_q", f_q)
    #K= np.abs((p+np.sqrt(p**(2)+q))/(2*np.sqrt(p**(2) +q)))
    #print("K = ", K)
    






for i in range(0, 21):
    x = 10 ** (-i)
    f_x = ((1+x) - 1)/ x
    print(f_x)
#stabile da 1 a 16











n = 45

b = np.zeros(n)
s = np.zeros(n)
p = np.zeros(n)
errRel = np.zeros(n)
b[0]=2
s[0]=1

for i in range(1,n):

    p[i]=b[i-1]*s[i-1]
    b[i]=2*b[i-1]
    s[i]=np.sqrt((1.0-np.sqrt(1-s[i-1]**2))/2.0)
    errRel[i] = np.abs((p[i] - np.pi) / np.pi) 


plt.plot(range(1, n+1), p, marker = "o")
plt.grid(True)
plt.xlabel("range")
plt.ylabel("pi")
plt.title("PIGRECO")
plt.show()

plt.plot(range(1, n+1), errRel,'ro-')
plt.grid(True)
plt.xlabel("range")
plt.ylabel("pi")
plt.title("errore relativo")
plt.show()





# Intervallo x da -10 a 10
x_values = np.arange(-10, 11)
N = 100  # Numero di termini della serie

# Funzione per calcolare l'approssimazione tramite serie di Taylor
def taylor_exp(x, N):
    result = 0.0
    term = 1.0  # x^0 / 0!
    for k in range(N):
        if k > 0:
            term *= x / k
        result += term
    return result

# Approssimazione con serie di Taylor (senza stabilizzazione)
approx_values = np.array([taylor_exp(x, N) for x in x_values])

# Valori esatti con numpy
true_values = np.exp(x_values)

# Errore relativo
relative_error = np.abs(approx_values - true_values) / np.abs(true_values)

# Grafico dell'errore relativo
plt.figure(figsize=(8,6))
plt.semilogy(x_values, relative_error, marker='o', linestyle='-', label="Errore relativo (diretto)")
plt.xlabel("x")
plt.ylabel("Errore relativo")
plt.title("Errore relativo nell'approssimazione di exp(x) con serie di Taylor (N=100)")
plt.grid(True, which="both", linestyle="--", linewidth=0.5)
plt.legend()
plt.show()




























