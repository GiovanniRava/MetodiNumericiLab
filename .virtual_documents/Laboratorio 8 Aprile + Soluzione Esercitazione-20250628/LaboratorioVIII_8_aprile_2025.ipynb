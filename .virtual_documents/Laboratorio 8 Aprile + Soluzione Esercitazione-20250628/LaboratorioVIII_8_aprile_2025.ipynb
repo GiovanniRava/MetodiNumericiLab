





import numpy as np
import math 
import matplotlib.pyplot as plt 
import scipy.linalg as spl





#Calcolo della norma infinito
def mynorma_inf(B):
    c=np.sum(np.abs(B),axis=1)  #equivale a sommare gli elementi di tutte le colonne
    #(che equivale a fare la somma degli elementi di ogni riga)
    n_inf=np.max(c)
    return n_inf


x = np.linspace(1.0, 6.0, 6)
print(x)
A = np.vander(x,increasing= True)
print(A)
print(A.shape)
cond = mynorma_inf(A)*mynorma_inf(np.linalg.inv(A))
print("condizionamento: ", format(cond))
print("condizionamento con numpy: ", format(np.linalg.cond(A, np.inf)))
xesatta = np.ones(6) 
b=np.sum(A,axis=1).reshape(6,1)
print("B: ",b)


bp=b.copy()
bp[0]= bp[0]+0.25
xp = spl.solve(A, bp)
errore_relativo = np.linalg.norm(bp-b, np.inf)/np.linalg.norm(b, np.inf)
print(errore_relativo)


print("Soluzione esatta sistema senza perturbazione \n ",xesatta)
print("Soluzione sistema con termine noto perturbato\n ",xp)
errore_soluzione= np.linalg.norm(xp-xesatta, np.inf)/np.linalg.norm(xesatta, np.inf)
print("errore della soluzione: ", errore_soluzione)





A =np.array([[6, 63, 662.2],[63,662.2,6967.8],[662.2, 6967.8, 73393.5664]])
b = np.array([1.1,2.33,1.7])
print("KA {:e} ". format(np.linalg.cond(A, np.inf)))
x = spl.solve(A, b)
A1 = A.copy()
A1[0,0] = A1[0,0]+0.01
errore_dati = np.linalg.norm(A-A1, np.inf)/np.linalg.norm(A, np.inf)
x1= spl.solve(A1, b)
errore_soluzione = np.linalg.norm(x1-x, np.inf)/np.linalg.norm(x,np.inf)
print("errore soluzione: ", errore_soluzione)
print("errore dati: ", errore_dati)





A =spl.hilbert(4)
print(np.linalg.cond(A, np.inf))
b = np.ones(4)
bt = b.T
x = spl.solve(A,bt)
print(x)
b1 = bt.copy()
b1[0]=b1[0]+0.01
b1[1]=b1[1]-0.01
b1[2]=b1[2]+0.01
b1[3]=b1[3]-0.01
xp = spl.solve(A, b1)
errore_dati = np.linalg.norm(bp-b, 2)/np.linalg.norm(b, 2)
errore_soluzione = np.linalg.norm(x-xp, np.inf)/np.linalg.norm(x,np.inf)
print("errore soluzione: ", errore_soluzione)
print("errore dati: ", errore_dati)








import numpy as np
import scipy as sp
from scipy.linalg import lu
A=np.array([[2,1],[3,4]])
PT,L,U=lu(A)  #Restituisce in output la trasposta della matrice di Permutazione
P=PT.copy()   #P è la matrice di permutazione
print("A=",A)
print("L=",L)
print("U=",U)
print("P=",P)
#LU è la fattorizzazione di P*A (terorema 2)
A1=P@A # equivale al prodotto matrice x matrice np.dot(P,A)
A1Fatt=L@U # equivale a np.dot(L,U)
print("Matrice P*A \n", A1)
print("Matrice ottenuta moltipicando Le ed U \n",A1Fatt)






from scipy.linalg import cholesky
A=np.array([[2,1,3],[1,5,7],[3,7,12]])
print(A)


L=cholesky(A,lower=True)
print(L)
A1=L@L.T
print("A1=\n",A1)





from scipy.linalg import qr
A=np.array([[2,1,3],[1,5,7],[3,7,12]])
Q,R=qr(A)
print("Q=",Q)
print("R=",R)
A1=Q@R
print(A1)





def LUsolve(P,A,L,U,b):
    pb =np.dot(P,b)
    y,flag = Lsolve(L,pb)
    if flag == 0 :
        x,flag = Usolve(U,y)
    else: 
        return [],flag
    
    return x, flag

from SolveTriangular import *
from scipy.linalg import lu 

A = np.array([[2, 5, 8, 7], [5, 2, 2, 8], [7, 5, 6, 6], [5, 4, 4, 8]])
print("A: ", A)
b = np.sum(A, axis=1).reshape(4,1)
print("b: ",b)
PT, L, U = lu(A)
P = PT.T.copy()
print("P: ", P)
print("L:\n", L)
print("U:\n", P)
x,flag=LUsolve(P,A,L,U,b)
print("Flag: ", flag, "X: ",x)














def solve_nsis(A,B):
    #test dimensione
    m,n = A.shape
    flag = 0;
    if n!=m:
        print("Matrice non quadrata")
        return 

    X = np.zeros((n,n))
    PT, L, U =lu(A)
    P=PT.T.copy()
    if flag == 0:
        for i in range (n):
            y,flag = Lsolve(L, P@B[:,i])
            x,flag = Usolve(U,y)
            X[:,i]=x.reshape(n,)

    else: 
        print("elemento diagonale nullo")
        X =[]

    return X





A1 = np.array([[3,5,7], [2,3,4],[5,9,11]])
m,n = A1.shape
B =np.eye(m)
X = solve_nsis(A1, B)
print("My inversa \n", X)
print("Inversa cn linalg \n ", np.linalg.inv(A1))





A2=np.array([[1, 2, 3, 4], [2, -4, 6, 8],[-1, -2, -3, -1],[ 5, 7, 0 ,1]])
m,n = A2.shape
B =np.eye(m)
X = solve_nsis(A2, B)
print("My inversa \n", X)
print("Inversa cn linalg \n ", np.linalg.inv(A2))








PT, L_1, U_1 = lu(A2)
P=PT.T.copy()
determinanteA2= np.prod(np.diag(U_1))*np.linalg.det(P)
#In realtà bisognerebbe risalire al numero di scambi effettuati s dall'algoritmo di Gauss con pivoting e calcolare det(P)=(-1)**s,
#ma mi interessa solo sapere il risultato teorico e quindi potete tranquillamente usare la funzione np.linalg.det per calcolare det(P)
print("determinante sfruttando fattorizzazione LU",determinanteA2,"determinante sfruttando la funzione np.linalg.det ", np.linalg.det(A2))








import scipy as sp
def Hankel(n):

    A=np.zeros((n,n),dtype=float)
    for i in range(0,n):
        for k in range(i+1-n,i+1):
            if k>0:
                A[i,n-1+k-i]=2.0**(k+1)
            else:
                A[i,n-1+k-i]=2.0**(1/(2-k-1))
    return A

indCond=[]
err_rel=[]
err_rel_qr=[]
for n in range(4,41,6):
    A = Hankel(n)
    indCond.append(np.linalg.cond(A,2))
    xesatta = np.ones((n,1))
    b=np.dot(A, xesatta)
    PT,L,U=lu(A)
    P=PT.T
    x,flag=LUsolve(P,A,L,U,b)

    err_rel.append(np.linalg.norm(x-xesatta,2)/np.linalg.norm(xesatta,2))

    Q,R =sp.linalg.qr(A)
    y=np.dot(Q.T,b)
    xqr, flag = Usolve(R,y)
    err_rel_qr.append(np.linalg.norm(xqr-xesatta,2)/np.linalg.norm(xesatta, 2))

plt.semilogy(range(4,41,6), err_rel, 'ro-', range(4,41,6), err_rel_qr, 'go-')
plt.show




