import numpy as np 
from SolveTriangular import *
A = np.array([[4.5,1,3,2],[1,-8,2,1], [-1,-2,-3,-1],[2,6,0,1]])
print(A)





import scipy as sp
PT,L,U=sp.linalg.lu(A)
P=PT.T
print(P)


detA=np.linalg.det(P)*np.prod(np.diag(U))
print("Determinante di A ", detA)
print("Determinante con np.linalg.det(A) = ", np.linalg.det(A))


n=4
I=np.eye(n)
X=np.zeros_like(A)


#calcolo della matrice inversa
for i in range(n):
    b=I[:,i]
    y,flag= Lsolve(L,P@b)#permutazione del termine noto b
    if flag==0:
        x,flag=Usolve(U,y)
    X[:,i]=x.reshape(n,)


print(X)
print("Inversa con np.linalg.inv(A) \n ", np.linalg.inv(A))





A1= np.array([[4.5,1,3,2],[1,-8,2,1],[-1,-2,-3,-1],[2,6,0,1]])
n1=4
for i in range(1,n1):
    print(np.linalg.det(A[:i,:i]))


A2=np.array([[21,37,57.5],[37,94,72.5],[57.5,72.5,186.25]])
print(A2)


n2=3
for i in range(1,n2+1):#se dico da 1 a n2 il range esclude l'ultima
    print(np.linalg.det(A2[:i,:i]))





def plagr(xnodi,j):
    
    xzeri=np.zeros_like(xnodi)
    n=xnodi.size
    if j==0:
       xzeri==xnodi[1:n]
    else:
       xzeri=np.append(xnodi[0:j],xnodi[j+1:n])
    
    num= np.poly(xzeri)#coefficient
    den= np.polyval(num,xnodi[j])
    
    p=num/den 
    
    return p



def InterpL(x, y, xx):
     
     n=x.size
     m=xx.size
     L=np.zeros((m,n))
     for j in range(n):
        p=plagr(x,j)
        L[:,j]=np.polyval(p,xx) 
    
    
     return L@y  


import matplotlib.pyplot as plt
n=4
x=np.linspace(-2,2,n+1)
f=lambda x: 5*x**4+2*x**2+2*x-1
y=f(x)
xv=np.linspace(-2,2,100)
polL=InterpL(x,y,xv)
plt.plot(xv,polL,'r-',x,y,'bo',xv,f(xv),'g-')








xc = np.array([0.0004, 0.2507, 0.5008, 2.0007, 8.0013])
yc = np.array([0.0007,0.0162, 0.0288, 0.0309, 0.0310])
#costruire la matrice di vandermont 
nc=1
Ac1=np.vander(xc,increasing=True)[:,:nc+1]
print(Ac1)
condAc1=np.linalg.cond(Ac1)
print("condizionamento ", condAc1)


#il condizionamneto è basso quindi
def eqnorm(A,b):
 
    G= A.T@A
    f=A.t@b
    
    L=sp.linalg.cholesky(G,lower=True)
    U=L.T
    y,flag =Lsolve(L,f)
    if flag == 0:
        x,flag=Usolve(U,y)
    return x










