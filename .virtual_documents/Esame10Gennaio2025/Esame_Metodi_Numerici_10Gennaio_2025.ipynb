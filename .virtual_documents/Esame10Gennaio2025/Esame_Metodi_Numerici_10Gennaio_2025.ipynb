


from scipy.io import loadmat
import numpy as np
import matplotlib.pyplot as plt
import scipy as sp
#from SolveTriangular import *

dati = loadmat('test')
A=dati["A"] 
A=A.astype(float)
b=dati["b"]
b=b.astype(float)
A1=dati["A1"] 
A1=A1.astype(float)
b1=dati["b1"]
b1=b1.astype(float)



m,n = A.shape
if n!=m:
    print("Matrice non quadrata n: ", n, "m: ", m)
else: 
    print("Matrice quadrata n: ", n, "m: ", m)
sp = np.count_nonzero(A)/(m*n)
print("Spacing: ", sp)
plt.spy(A)
condA= np.linalg.cond(A)
print("condizionamento della matrice A: ", condA)

#verifichiamo se la matrice è simmetrica
flagS = A.T==A
if np.all(flagS == True):
    print("Matrice simmetrica")
else:
    print("matrice non simmetrica")

#verifichiamo sia definita positiva
eigvals= np.linalg.eigvals(A)
if np.all(eigvals)>0:
    print("matrice def pos")
else:
    print("Matrice non def pos")


m,n = A.shape
if n!=m:
    print("Matrice non quadrata n: ", n, "m: ", m)
else: 
    print("Matrice quadrata n: ", n, "m: ", m)
sp = np.count_nonzero(A)/(m*n)
print("Spacing: ", sp)
plt.spy(A)
condA= np.linalg.cond(A)
print("condizionamento della matrice A: ", condA)

#verifichiamo se la matrice è simmetrica
flagS = A.T==A
if np.all(flagS == True):
    print("Matrice simmetrica")
else:
    print("matrice non simmetrica")

#verifichiamo sia definita positiva
eigvals= np.linalg.eigvals(A)
if np.all(eigvals)>0:
    print("matrice def pos")
else:
    print("Matrice non def pos")


#Per risolvere sistemi con matrici con piccole dimensioni, simmetriche e
#definite positive uso la fattorizzazione di cholesky
L=sp.linalg.cholesky(A, lower=True)
LT = L.T
y,flag= SolveTriangular.Lsolve(L,b)
x,flag = SolveTrinagular.Usolve(LT,y)
print("Soluzione x: ", x)


m1,n1 = A1.shape
if n1!=m1:
    print("Matrice non quadrata")
    if m1>n1:
        print("sistema lineare sovradeterminato")
else: 
    print("Matrice quadrata n: ", n1, "m: ", m1)

condA1=np.linalg.cond(A1)
print("condizionamento matrice A1: ", condA1)

rangoA1=np.linalg.matrix_rank(A1)
dimensione=np.min(A.shape)
if rangoA1==dimensione:
    print("matrice rango massimo")
else: 
    print("matrice non a rango massimo")


#essendo la matrice molto mal condizionata e non a
#a rango massimo uso SVDLS
import scipy.linalg as spLin
def SVDLS(A,b):
    m,n=A.shape  #numero di righe e  numero di colonne di A
    U,s,VT=spLin.svd(A)  
    
    V=VT.T
    thresh=np.spacing(1)*m*s[0] ##Calcolo del rango della matrice, numero dei valori singolari maggiori di una soglia
    k=np.count_nonzero(s>thresh)
    
    d=U.T@b 
    d1=d[:k].reshape(k,1)
    s1=s[:k].reshape(k,1)
    
    c=d1/s1
    x=V[:,:k]@c
    residuo=np.linalg.norm(d[k])**2 
    return x,residuo


x1, residuo1 = SVDLS(A1, b1)
print("X1: ", x1)
print("Residuo: ", residuo1)





A3=np.array([[8,0,1],[0,12,2],[1,2,-14.0]]) 
b3= np.array([9.0, 14.0, -11.0])
m3,n3 = A3.shape
if n3!=m3:
    print("Matrice non quadrata")
    if m3>n3:
        print("sistema lineare sovradeterminato")
else: 
    print("Matrice quadrata n: ", n3, "m: ", m3)
flagS3 = A.T==A
sim = False
defpos= False
if np.all(flagS3==True):
    simm = True
eigvals3= np.linalg.eigvals(A3)
if np.all(eigvals3)>0:
    defpos = True
if defpos and simm:
    print("Il metodo converge perchè A3 è simmetrice e definita positiva")
else:
    print("matrice non simm e def pos")






def gauss_seidel(A,b,x0,toll,it_max):
    errore=1000
    d=np.diag(A)
    D=np.diag(d)
    E=np.tril(A,-1)
    F=np.triu(A,1)
    M=D+E
    N=-F 
    T=np.linalg.inv(M)@N
    autovalori=np.linalg.eigvals(T)
    raggiospettrale=np.max(np.abs(autovalori))
    print("raggio spettrale Gauss-Seidel ",raggiospettrale)
    it=0
    er_vet=[]
    while it<=it_max and errore >= toll:
        x,flag=Lsolve(M, b-F@x0) 
        errore=np.linalg.norm(x-x0)/np.linalg.norm(x)
        er_vet.append(errore)
        x0=x.copy()
        it=it+1
    return x,it,er_vet





toll = 1e-6
it_max=1000
x0=np.zeros_like(b)

x3,it3, er_vet3 = gauss_seidel(A3, b3, x0, toll, it_max)
print("IT: ", it)
print(x.shape)

plt.semilogy(range(len(er_vet3)),er_vet3)








def plagr(xnodi,j):
    
    xzeri=np.zeros_like(xnodi)
    n=xnodi.size
    if j==0:
       xzeri=xnodi[1:n]
    else:
       xzeri=np.append(xnodi[1:j],xnodi[j+1:n])
    
    num = np.poly(xzeri)
    den = np.polyval(num,xnodi[j])
    
    p= num/den
    
    return p



def InterpL(x, y, xx):
     
     n=x.size
     m=xx.size 
     L=np.zeros((m,n))
     for j in range(n) :
        p=plagr(x,j) 
        L[:,j]=np.polyval(p,xx)
    
    
     return L@y 





f=lambda x: np.cos(np.pi*x)+np.sin(np.pi*x)
xx=np.linspace(0,2,200)
xnodi=np.array([1,1.5,1.75])
y=f(xnodi)
pol=InterpL(xnodi, y, xx)
plt.plot(xx,f(xx), 'r-', xnodi,f(xnodi),'*', xx, pol, 'b--')
plt.legend(['f(xx)', 'punti'])





x_star=0.75
px_star=InterpL(xnodi, y,np.array([x_star]))[0]
fx_star=f(x_star)
erroreS=np.abs(fx_star-px_star)
print("errore in 0.75: ", erroreS)










































