


from scipy.io import loadmat
import numpy as np
import matplotlib.pyplot as plt
import scipy as sp
#from SolveTriangular import *

dati = loadmat('test')
A=dati["A"] 
A=A.astype(float)
b=dati["b"]
b=b.astype(float)
A1=dati["A1"] 
A1=A1.astype(float)
b1=dati["b1"]
b1=b1.astype(float)



m,n = A.shape
if n!=m:
    print("Matrice non quadrata n: ", n, "m: ", m)
else: 
    print("Matrice quadrata n: ", n, "m: ", m)
sp = np.count_nonzero(A)/(m*n)
print("Spacing: ", sp)
plt.spy(A)
condA= np.linalg.cond(A)
print("condizionamento della matrice A: ", condA)

#verifichiamo se la matrice è simmetrica
flagS = A.T==A
if np.all(flagS == True):
    print("Matrice simmetrica")
else:
    print("matrice non simmetrica")

#verifichiamo sia definita positiva
eigvals= np.linalg.eigvals(A)
if np.all(eigvals)>0:
    print("matrice def pos")
else:
    print("Matrice non def pos")


m,n = A.shape
if n!=m:
    print("Matrice non quadrata n: ", n, "m: ", m)
else: 
    print("Matrice quadrata n: ", n, "m: ", m)
sp = np.count_nonzero(A)/(m*n)
print("Spacing: ", sp)
plt.spy(A)
condA= np.linalg.cond(A)
print("condizionamento della matrice A: ", condA)

#verifichiamo se la matrice è simmetrica
flagS = A.T==A
if np.all(flagS == True):
    print("Matrice simmetrica")
else:
    print("matrice non simmetrica")

#verifichiamo sia definita positiva
eigvals= np.linalg.eigvals(A)
if np.all(eigvals)>0:
    print("matrice def pos")
else:
    print("Matrice non def pos")


#Per risolvere sistemi con matrici con piccole dimensioni, simmetriche e
#definite positive uso la fattorizzazione di cholesky
L=sp.linalg.cholesky(A, lower=True)
LT = L.T
y,flag= SolveTriangular.Lsolve(L,b)
x,flag = SolveTrinagular.Usolve(LT,y)
print("Soluzione x: ", x)


m1,n1 = A1.shape
if n1!=m1:
    print("Matrice non quadrata")
    if m1>n1:
        print("sistema lineare sovradeterminato")
else: 
    print("Matrice quadrata n: ", n1, "m: ", m1)

condA1=np.linalg.cond(A1)
print("condizionamento matrice A1: ", condA1)

rangoA1=np.linalg.matrix_rank(A1)
dimensione=np.min(A.shape)
if rangoA1==dimensione:
    print("matrice rango massimo")
else: 
    print("matrice non a rango massimo")


#essendo la matrice molto mal condizionata e non a
#a rango massimo uso SVDLS
import scipy.linalg as spLin
def SVDLS(A,b):
    m,n=A.shape  #numero di righe e  numero di colonne di A
    U,s,VT=spLin.svd(A)  
    
    V=VT.T
    thresh=np.spacing(1)*m*s[0] ##Calcolo del rango della matrice, numero dei valori singolari maggiori di una soglia
    k=np.count_nonzero(s>thresh)
    
    d=U.T@b 
    d1=d[:k].reshape(k,1)
    s1=s[:k].reshape(k,1)
    
    c=d1/s1
    x=V[:,:k]@c
    residuo=np.linalg.norm(d[k])**2 
    return x,residuo


x1, residuo1 = SVDLS(A1, b1)
print("X1: ", x1)
print("Residuo: ", residuo1)





A3=np.array([[8,0,1],[0,12,2],[1,2,-14.0]]) 
b3= np.array([9.0, 14.0, -11.0])
m3,n3 = A3.shape
if n3!=m3:
    print("Matrice non quadrata")
    if m3>n3:
        print("sistema lineare sovradeterminato")
else: 
    print("Matrice quadrata n: ", n3, "m: ", m3)
flagS3 = A.T==A
sim = False
defpos= False
if np.all(flagS3==True):
    simm = True
eigvals3= np.linalg.eigvals(A3)
if np.all(eigavals3)>0:
    defpos = True
if defpos and simm:
    print("Il metodo converge perchè A3 è simmetrice e definita positiva")
else:
    print("matrice non simm e def pos")





def gauss_seidel(A,b,x0,toll,it_max):
    errore=1000
    d=np.diag(A)
    D=np.diag(d)
    E=np.tril(A,-1)
    F=np.triu(A,1)
    M=D+e
    N=-F 
    T=np.linalg.inv(M)@N
    autovalori=np.linalg.eigvals(T)
    raggiospettrale=np.max(np.abs(autovalori))
    print("raggio spettrale Gauss-Seidel ",raggiospettrale)
    it=0
    er_vet=[]
    while it<=it_max and errore >= toll:
        x,flag=Lsolve(M, b-F@x0) 
        errore=np.linalg.norm(x-x0)/np.linalg.norm(x)
        er_vet.append(errore)
        x0=x.copy()
        it=it+1
    return x,it,er_vet

























































