


from scipy.io import loadmat

import numpy as np

dati = loadmat('testII')
A=dati["A"] 
A=A.astype(float)
b=dati["b"]
b=b.astype(float)
A1=dati["A1"] 
A1=A1.astype(float)
b1=dati["b1"]
b1=b1.astype(float)


m1,n1 = A.shape
if m1==n1:
    print("matrice quadrata: ", m1)
else:
    print("matrice non quadrata")
































**
