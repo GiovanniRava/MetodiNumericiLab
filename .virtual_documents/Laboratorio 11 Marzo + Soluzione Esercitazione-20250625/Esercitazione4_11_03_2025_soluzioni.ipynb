





import numpy as np


import sys
print(sys.float_info)
 





p=52
t=53
beta=2
spacing=beta**(p+1-t)
print("Spacing ",spacing)
x=2.0**52   
y=x+spacing #Numero di macchina successivo a 2**52        
print("x=",x, "y=x+spacing=",y)
z= x+0.5  #Somma ad x (numero pari),  una quantità uguale alla metà dello spacing in 2**52,  z è un numero reale che si trova a metà
#tra due numeri di macchina successivi (2**52 e (2**52)+1 (essendo 1 lo spacing in questo intervallo dell'asse reale).
# Poichè x è pari, per la proprietà del rounding to even, z risulta uguale ad x)
q=y+0.5  #Somma ad y (numero dispari), una quantità uguale alla metà dello spacing in 2**52, per il rounding to even, essendo y dispari,
#z risulta uguale ad y+1
print("z=x+0.5-->",z)
print("q=y+0.5-->",q)





L=-1022
U=1023
t=53
beta=2.0
# la cardinalità dell'insieme dei numeri finiti di Python è $2 \cdot \beta(\beta^{t-1} (U-L+1) +1$
cardin=2*(beta-1)*beta**(t-1)*(U-L+1)+1
print("cardinalita'  dell'insieme dei numei finiti in Python {:10e}".format(cardin))





p=0
t=53

f=2.0**p  #numero floating point
s=2**(p+1-t) #spacing sul segmento [2^p, 2^(p+1)]=[1,2]
print("Spacing in [1,2]",s)
#..............................................
f1=f+s;     #numero floating point successivo a f
f2=f+s/2;   #risulta f
print("Valore di f ", f)
print("Valore successivo ad f, dato da f+s=",f1)
print("f+s/2=",f2)  #Ho sommato ad una quantità più piccola dello spacing in [1,2]








a=0.1234567890123400e+16  
b=-0.1234567890123401e+16
c=0.06
ris1=(a+b)+c
print('(a+b)+c=',ris1)
ris2=(a+c)+b
print('(a+c)+b=',ris2)
ris3=a+(b+c)
print('a+(b+c)=',ris2)
#Da questo esperimento di trova che non vale la proprietà associativa tra i numeri di macchina.
#Calcoliamo lo spacing del sottointervallo dell'asse reale a cui appartiengono a e b
s=np.spacing(a)
print("spacing ",s)
#Poichè lo spacing è 0.25 quando ad a (oppure b) andiamo a sommare c=0.06, (più piccolo dello spacing), si verifica il fenomeno di
# e di assorbimento (fl(a+c)=fl(a) e fl(b+c)=b)


a=0.23371258e-4
b=0.33678429e+2
c=-0.33677911e+2
ris1=(a+b)+c
print('(a+b)+c=',ris1)
ris2=(a+c)+b
print('(a+c)+b=',ris2)
ris3=a+(b+c)
print('a+(b+c)=',ris2)
print("a",a,"b=",b,"a+c",a+b)
print("Spacing di b", np.spacing(b)) #In questo caso non si verificano problemi di assorbimento perchè le quantità in gioco che sommiamo
#a b sono più grandi dello spacing.





n=10
x=np.ones((n,))*0.1
s=0.0
for i in range(n):
    s=s+x[i];

print(s)
print(np.sum(x))
#Ci aspetteremmo che sommamndo 10 valori uguali ad 0.1, la somma con il ciclo for restituisse il valore 1. Il valore approssimato 0.999999999999999 ottenuto è giustificato
#dal fatto che il numero decimale 0.1, che ha un numero di cifre finito per la mantissa, in base b2, che è quella con cui il calcolatore rappresenta i numeri, ha una rappresentazione
#periodica infinita, 0.1=0.0001100110011001100.......... per cui l'arrotondamento a 53 bit, provoca un errore
#La funzione np.sum usa un algortimo più stabile e fornisce il risultato esatto.





import math

#In aritmetica esatta, y1 e y2 sono equivalenti, ossia
#y1=sqrt(x^2+1)-x=(sqrt(x^2+1)-x)*(sqrt(x^2+1)+x)/(sqrt(x^2+1)+x)=1/(sqrt(x^2+1)+x)=y2

y1=lambda x: math.sqrt(x**2+1)-x
y2= lambda x: 1/(math.sqrt(x**2+1)+x)


#%%%%%%%%%%%%%%%%%%%%%%%%%%%%%%%%%%%%%%%%%%%%%%%%%%%%
#Valutando  y1 e y2 per x=7777, le due formule danno lo stesso risultato perchè 
#sqrt(x^2+1) è una "buona approssimazione" della radice quadrata, e quindi y1 non è affetto da cancellazione numerica
x=7777.0;
print("x**2=", x**2, "x**2+1=",x**2+1, "sqrt(x^2+1)=2,",math.sqrt(x**2+1))
print("x=",x,"y1(x)=",y1(x),"y2(x)=",y2(x))
print("Spacing in x**2 = ",x**2," dato da ",np.spacing(x**2))
err=abs((y1(x)-y2(x))/y2(x))
print("errore relativo caso 1 ",err)
print("-----------------------------------------")


#%%%%%%%%%%%%%%%%%%%%%%%%%%%%%%%%%%%%%%%%%%%%%%%%%%%%%
#Valutando  y1 e y2 per x=77777777, le due formule non danno lo stesso risultato perchè, nonostante
#lo spacing per il valore di x**2 per questo valore di x è uguale ad 1,
#l'algoritmo iterativo di estrazione della radice quadrata produce una perdita di cifre significative.

x=77777777.0

print("Spacing in  x**2=",x**2," dato da ",np.spacing(x**2))
print("x**2=", x**2, "x**2+1=",x**2+1, "sqrt(x^2+1)=2,",math.sqrt(x**2+1))
# Esempio di cancellazione numerica in y1:
print("x=",x,"y1(x)=",y1(x),"y2(x)=",y2(x))
#La cancellazione di cifre significative è dovuta all'estrazione della radice quadrata
err=abs((y1(x)-y2(x))/y2(x))
print("errore relativo caso 2 ",err)





import numpy as np
import matplotlib.pyplot as plt

'''
Utilizziamo il modulo numpy perche' lavorare con in numpy array ci permette di eseguire le operazioni su interi numpy array senza 
sviluppare i cicli
'''

#L'istruzione seguente calcola il numpy array [1,1e+1,1e+2,....,1e+20]
x=10.0**np.arange(21)    #utilizzo 10.0 per avere un numpy array x con dtype float.

#Valutiamo le espressioni A(x) e B(x) su tutto il numpay array x. Notare che A(x) e B(x) sono algebricamente equivalenti.

Ax=1/x-1/(x+1);
Bx=1/(x*(x+1));

#Calcoliamo sperimentalmente l'errore relativo di fl(A(x)) rispetto alla formula esatta B(x)
Erelx=np.abs(Ax-Bx)/np.abs(Bx)
# Calcoliamo lo spacing per ogni componennte del vettore x
print("x=",x)
print("spacing ",np.spacing(x))
print("Errore relativo ",Erelx)
#Notiamo che a partire da x= 1.e+16, lo spacing è maggiore di 1, quindi nella formula A(x)=1/x-1/(x+1), il valore 1/(x+1) 
#viene approssimato ad (1/x), quindi A(x) vale zero, e quindi, a partire da x=1.e+16, l'errore relativo rispetto al
# valore esatto dato da B(x) risulta #1 cioè pari al 100%)


plt.loglog(x,Erelx,'b-')





import math
import numpy as np
import matplotlib.pyplot as plt
#Approx di e=lim(1/n+1)^n, n->+infinito
e=math.exp(1) #Valore esatto

k1=np.arange(17)
n=10.0**k1
eapp1= (1+1/n)**n
err_rel=np.abs(e-eapp1)/e;

print("Spacing in [1,2] ",np.spacing(1))
#Lo spacing in [1,2] è 2.e-16
print("Valori di 1/n ",1/n)
#Si nota che quando n=10**16, 1/n=1e-16  risulta più piccolo dello spacing in [1,2], per cui (1+1/n) 
# vale ad 1, ed il valore approssimato di "e" vale 1.
#L'errore relativo cala per valori di k1 da 0 a 8 e quindi di n da 10**0 fino a 10**8.
#Per  valori di n maggiori di 10**8,  nella formula (1+1/n) si cominciano a verificare gli errori 
#dovuti al fatto che si sommano valori di ordine di grandezza molto diversi, 1 ed 1/n molto piccolo al crescere di n. 
#Quando n=10**16, (1+1/n) vale 1 poichè 1/n è più piccolo dello spacing in [1,2] #e quindi il valore approssimato di "e" vale 1.

plt.plot(k1 ,eapp1,'go-',k1,e*np.ones((17,1)),'r-')
plt.legend(['approssimazione di e','e'],loc='center')  #La proprietà loc, serve per specificare la posizione della legend
plt.show()

plt.plot(k1,err_rel)
plt.yscale('log')
plt.legend(["Errore relativo"],loc='center')
plt.show()











