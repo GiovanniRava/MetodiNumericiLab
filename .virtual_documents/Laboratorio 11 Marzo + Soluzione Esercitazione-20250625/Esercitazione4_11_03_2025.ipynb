





import sys
import numpy as np
print(sys.float_info)





p=52 
t=53 
beta=2
spacing = beta**(p+1-t)
print(spacing)
x=2.0**52
y = x+spacing
print("X: ", x, "\ny: ", y)
z = x + 0.5 #Somma ad x (numero pari),  una quantità uguale alla metà dello spacing in 2**52,  z è un numero reale che si trova a metà
#tra due numeri di macchina successivi (2**52 e (2**52)+1 (essendo 1 lo spacing in questo intervallo dell'asse reale).
# Poichè x è pari, per la proprietà del rounding to even, z risulta uguale ad x)
print ("z: ", z)
q = y+0.5 #Somma ad y (numero dispari), una quantità uguale alla metà dello spacing in 2**52, per il rounding to even, essendo y dispari,
#z risulta uguale ad y+1
print("q: ", q)





L=-1022
U = 1023
beta = 2.0
t = 53

cardinalità= 2*(beta-1)*beta**(t-1)*(U-L+1)+1
print("cardinalità: ",format(cardinalità))






p=0
t=53
f=2.0**p
spac= 2**(p+1-t)
print("Spacing in [1,2]: ", spac)
f1= f+spac
f2=f+spac/2
print("Valore di f ", f)
print("Valore successivo ad f, dato da f+s=",f1)
print("f+s/2=",f2)  #Ho sommato ad una quantità più piccola dello spacing in [1,2]






a=0.1234567890123400e+16
b=-0.1234567890123401e+16
c=0.06
print("(a+b)+c: ", (a+b)+c)
print("(a+c)+b: ", (a+c)+b)
print("a+(b+c): ", a+(b+c))
print("Spacing: ", np.spacing(a))


a1=0.23371258e-4
b1=0.33678429e+2
c1=-0.33677911e+2
print("(a+b)+c: ", (a1+b1)+c1)
print("(a+c)+b: ", (a1+c1)+b1)
print("a+(b+c): ", a1+(b1+c1))
print("Spacing: ", np.spacing(b))





n=10
somma = 0.0
arr=np.ones((n,))*0.1
for i in range(10):
    somma = somma + arr[i]

print("somma con for: ", somma)
print("Somma con np: ", np.sum(arr))





import math 
import matplotlib.pyplot as plt
y1 = lambda x: np.sqrt(x**2 + 1)-x
y2= lambda x: 1/(np.sqrt(x**2 +1)+x)
x=7777.0;
print("x**2=", x**2, "x**2+1=",x**2+1, "sqrt(x^2+1)=2,",math.sqrt(x**2+1))
print("x=",x,"y1(x)=",y1(x),"y2(x)=",y2(x))
print("Spacing in x**2 = ",x**2," dato da ",np.spacing(x**2))
err=abs((y1(x)-y2(x))/y2(x))
print("errore relativo caso 1 ",err)
print("-----------------------------------------")
x=77777777.0;
print("x**2=", x**2, "x**2+1=",x**2+1, "sqrt(x^2+1)=2,",math.sqrt(x**2+1))
print("x=",x,"y1(x)=",y1(x),"y2(x)=",y2(x))
print("Spacing in x**2 = ",x**2," dato da ",np.spacing(x**2))
err=abs((y1(x)-y2(x))/y2(x))
print("errore relativo caso 2 ",err)
print("-----------------------------------------")





x=10.0**np.arange(21)
A= 1/x - 1/(x+1)
B= 1/(x*(x+1))
err_rell=np.abs(A-B)/np.abs(B)
print("x: ", x)
print("Spacing: ", np.spacing(x))
print("Errore relativo: ", err_rell)
plt.loglog(x, err_rell, 'b-')





e=math.exp(1)
k=np.arange(17)
n=10**k
ef=(1+1/n)**n
err_rel= np.abs(e-ef)/e
print("Spacing in [1,2] ",np.spacing(1))
#Lo spacing in [1,2] è 2.e-16
print("Valori di 1/n ",1/n)
#Si nota che quando n=10**16, 1/n=1e-16  risulta più piccolo dello spacing in [1,2], per cui (1+1/n) 
# vale ad 1, ed il valore approssimato di "e" vale 1.
#L'errore relativo cala per valori di k1 da 0 a 8 e quindi di n da 10**0 fino a 10**8.
#Per  valori di n maggiori di 10**8,  nella formula (1+1/n) si cominciano a verificare gli errori 
#dovuti al fatto che si sommano valori di ordine di grandezza molto diversi, 1 ed 1/n molto piccolo al crescere di n. 
#Quando n=10**16, (1+1/n) vale 1 poichè 1/n è più piccolo dello spacing in [1,2] #e quindi il valore approssimato di "e" vale 1.

plt.plot(k ,ef,'go-',k,e*np.ones((17,1)),'r-')
plt.legend(['approssimazione di e','e'],loc='center')  #La proprietà loc, serve per specificare la posizione della legend
plt.show()

plt.plot(k,err_rel)
plt.yscale('log')
plt.legend(["Errore relativo"],loc='center')
plt.show()

