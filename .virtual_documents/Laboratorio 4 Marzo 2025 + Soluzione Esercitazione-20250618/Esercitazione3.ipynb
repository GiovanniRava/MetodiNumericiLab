





import numpy as np 
import time 


#Somma tra due matrici utilizzando le operazioni vettoriali
A=np.random.randn(5000,5000)
B=np.random.randn(5000,5000)
start=time.perf_counter()
C=A+B
end=time.perf_counter()
print("Tempo C=A+B: ", end-start)


#Somma tra due matrici considerando due cicli espliciti annidati su righe e colonne
start = time.perf_counter()
F=np.zeros_like(A)
for i in range(5000):
    for j in range (5000):
        F[i,j] = A[i,j]+B[i,j]

end = time.perf_counter()
print("Tempo con i cicli: ", end-start)





s = np.linspace(0,20,40)
b = s.reshape(4,-1)#il -1 serve per calcolare automaticamente questa dimensione in base al numero 
#totale di elementi
print("S:\n",s)
print("b:\n",b.base)
print(b.base is s)
#il metodo .reshape() restituisce una 
#vista dell'array originale con una nuova forma, 
#senza creare una copia dei dati dell'array, 
#ma condividendoli con l'array originale.(infatti l'attributo base punta ai valori di s)





arr = np.linspace(0,4, 100)
arr_reshaped = arr.reshape(-1,4)
print(arr_reshaped)





a = np.arange(15,42,2)
a.resize((7,2))
print(a.shape)





g= np.random.randint(1,100,10)
print(g)





arr_int=np.random.randint(100,200,30)
print(arr_int)
np.random.shuffle(arr_int)
print(arr_int)






arr_int=np.random.randint(100,200,30)
arr_perm= np.random.permutation(arr_int)
print(arr_int)
print(arr_perm)





A =np.array([[10,11,12],[13,14,15],[16,17,18]])
a=A.ravel()#crea una vista
print(A)
print(a)





A = np.array([[10,11,12],[13,14,15],[16,17,18]])
a = A.flatten()
print(A)
print(a)
print(a.base)#restituisce un puntatore al vettore





f1=np.arange(16)
f2=np.arange(16,32)
c=f1.reshape(4,4)@f2.reshape(4,4)
print(c)





A = np.random.randn(2,10)
B = np.arange(0,20)
C = A.ravel() + B
print("C: ",C)





f = np.linspace(0,1,10)
f1=f.reshape(10,1)
print(f1)





a= np.array([14,13,12,11])
b=np.array([[4,3,2,1],[9,10,11,12]])
c = np.concatenate((a.reshape(1,4),b), axis=0)#E' necessario aggiungere una dimensione ad a 
# deve essre un 2d array con 1 riga e 4 colonne
print(c)





a= np.array([14,13,12,11])
b=np.array([[4,3,2,1],[9,10,11,12],[4,3,2,1],[9,10,11,12]])
c = np.concatenate((a.reshape(4,1), b),axis=1)
print(c)





A=np.diag(np.ones((20,))*10)+np.diag(np.ones((19,))*(-12),-1)+np.diag(np.ones((19,))*(-2),1)
print(A)





Id = np.diag(np.ones((20,)))
print(Id)











A1=A[2:10:10,3:7:2]
print(A1)
print(A1.base)





AA= A[:,1:6:2]
print(AA)
print(AA.base)




















import matplotlib.pyplot as plt
x = np.linspace(0.1,2*np.pi, 100)
f = lambda x: np.sin(x)**2/x
plt.plot(x,f(x))









