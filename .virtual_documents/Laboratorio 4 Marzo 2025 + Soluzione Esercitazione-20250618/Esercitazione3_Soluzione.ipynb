





import numpy as np
import time
A=np.random.randn(5000,5000)
B=np.random.randn(5000,5000)
start=time.perf_counter()
C=A+B
end =time.perf_counter()
print("Tempo C=A+B ",end-start) 


start=time.perf_counter()
F=np.zeros_like(A)
for i in range(5000):
    for j in range(5000):
        F[i,j]=A[i,j]+B[i,j]
 
end =time.perf_counter()
print("Tempo sviluppando i cicli ",end-start)         
        





s=np.linspace(0,20,40)
b=s.reshape(4,-1)
print("s=",s)
print(b.base)
#il metodo .reshape() restituisce una 
#vista dell'array originale con una nuova forma, 
#senza creare una copia dei dati dell'array, 
#ma condividendoli con l'array originale.(infatti l'attributo base punta ai valori di s)





t=np.linspace(0,4,100)
q=t.reshape(-1,4)
print(q)





C=np.arange(15,42,2)
C.resize((7,2))
print(C.shape)





array_interi = np.random.randint(1, 100, 10)
print(array_interi)





array_shuffle = np.random.randint(100, 200, 30)
print(array_shuffle)
np.random.shuffle(array_shuffle)
print(array_shuffle)





array = np.random.randint(100, 200, 30)
array_perm=np.random.permutation(array)
print(array_perm)
print(array)





A=np.array([[10,11,12],[13,14,15],[16,17,18]])
a=A.ravel()  #ravel crea una vista
print(a)
print(a.base)            





B=np.array([[10,11,12],[13,14,15],[16,17,18]])
a=B.flatten()  #flatten crea una copia
print(a)
print(a.base)  #restituisce un puntatore ai valori di B





f1=np.arange(16)
f2=np.arange(16,32)
c=f1.reshape(4,4)@f2.reshape(4,4)
print(c)





A=np.random.randn(2,10)
B=np.arange(0,20)
C=A.ravel()+B  #.ravel() produce una vista, non occupa memoria
print("C",C)





f=np.linspace(0,1,10)
f1=f.reshape(10,1)
print(f1.shape)


#Altra possibilità
f=np.linspace(0,1,10)
print("Shape di f ",f.shape)
f2=f[:,np.newaxis]
print(f2)
print("Shape di f2 ",f2.shape)





a= np.array([14,13,12,11])
b=np.array([[4,3,2,1],[9,10,11,12]])
c=np.concatenate((a.reshape(1,4),b),axis=0) #E' necessario aggiungere una dimensione ad a 
# deve essre un 2d array con 1 riga e 4 colonne
print(c)





a= np.array([14,13,12,11])
b=np.array([[4,3,2,1],[9,10,11,12],[4,3,2,1],[9,10,11,12]])
print("a=",a)
print("b=",b)
c=np.concatenate((a.reshape(4,1),b),axis=1)
print(c)  #E' necessario aggiungere una dimensione ad a 
# deve essere un 2d array con 4 righe e 1 colonna





A=np.diag(np.ones((20,))*10)+np.diag(np.ones((19,))*(-12),-1)+np.diag(np.ones((19,))*(-2),1)
print(A)





I=np.eye(A.shape[0])
print("I=",I)





A1=A[2:10:2,3:7:2]
print(A1)
print(A1.base) #La matrice è una vista





A1=A[:,1:7:2].copy()
print(A1)
print(A1.base) #La matrice è una copia





A=np.random.randint(1,20,25).reshape(5,5)
B=np.random.randint(1,6,25).reshape(5,5)
C=A+B
D=A-B
E=A*B
F=A/B
print("A=\n",A)
print("B=\n",B)
print("C=\n",C)
print("D=\n",D)
print("E=\n",E)
print("F=\n",F)






vendite = np.random.randint(50, 200, 30)

# 1. Trova i giorni con vendite > 150
maschera_vendite_alte = vendite > 150
giorni_vendite_alte = vendite[maschera_vendite_alte]
print("Giorni con vendite > 150:", giorni_vendite_alte)

# 2. Calcola la media delle vendite per i giorni > 150
media_vendite_alte = np.mean(vendite[maschera_vendite_alte])
print("Media vendite > 150:", media_vendite_alte)

# 3. Imposta le vendite a 0 per i giorni < 100
maschera_vendite_basse = vendite < 100
vendite[maschera_vendite_basse] = 0
print("Vendite aggiornate:", vendite)






A = np.array([[1, 2, 3], [4, 5, 6], [7, 8, 9]])
b = np.array([10, 20, 30]).reshape(-1, 1)
C=A+b
print("A=\n",A)
print("b=\n",b)
print("C=\n",C)





G=np.linspace(0,10,20).reshape(-1,4)
print(G)
G[[2,4],:]=G[[4,2],:]
print(G)





x=np.linspace(0.1,2*np.pi,200)
f= lambda x: np.sin(x)**2/x
plt.plot(x,f(x))





A=np.linspace(0.0,4.0,16).reshape(4,4)
b=np.random.randint(10,60,4)
print("A=\n",A)
print("b=\n",b)
Ab=A@b
print("Prodotto A scalare A b \n",Ab)
righe = A.shape[0]
risultato = np.zeros(righe)

for i in range(righe):
    risultato[i] = np.dot(A[i, :], b) # Vettorizzazione del ciclo interno
print("Prodotto vettorizzando ciclo interno \n",risultato)





g=np.array([[4,5,6,7],[8,9,10,11],[12,13,14,14]])
print("g= \n",g)

gest_s=np.pad(g,(1,1),mode='reflect')
print("gest_s \n",gest_s)






image_file='cameraman.png'
image = plt.imread(image_file)
dim_filtro=7
padding=dim_filtro//2
 
righe,colonne=image.shape
image_bordered=np.pad(image, (padding, padding), mode='reflect')
 
filter_ = np.ones((dim_filtro,dim_filtro)) / 9  
filtered_image = np.zeros_like(image)
for i in range(padding, image.shape[0]+padding):
    for j in range(padding, image.shape[1]+padding):
        filtered_image[i-padding, j-padding] = np.sum(image_bordered[i - padding:i + padding+1, j - padding:j + padding+1] * filter_)

plt.imshow(filtered_image,cmap='gray') 

plt.colorbar()
plt.show()







