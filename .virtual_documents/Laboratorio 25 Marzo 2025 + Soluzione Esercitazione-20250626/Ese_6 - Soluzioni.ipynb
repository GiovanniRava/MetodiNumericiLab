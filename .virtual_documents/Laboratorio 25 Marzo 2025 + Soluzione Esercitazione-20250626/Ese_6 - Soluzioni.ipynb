





import math


def sign(x):
  """
  Funzione segno che restituisce 1 se x è positivo, 0 se x è zero e -1 se x è negativo.
  """
  return math.copysign(1, x)


def metodo_bisezione(fname, a, b, tolx):
 """
 Implementa il metodo di bisezione per il calcolo degli zeri di un'equazione non lineare.

 Parametri:
  f: La funzione da cui si vuole calcolare lo zero.
  a: L'estremo sinistro dell'intervallo di ricerca.
  b: L'estremo destro dell'intervallo di ricerca.
  tol: La tolleranza di errore.

 Restituisce:
  Lo zero approssimato della funzione, il numero di iterazioni e la lista di valori intermedi.
 """
 fa=fname(a)
 fb=fname(b)
 if sign(fa)*sign(fb)>=0:
     print("Non è possibile applicare il metodo di bisezione \n")
     return None, None,None

 it = 0
 v_xk = []

 
 while abs(b - a) > tolx:
    xk = a+(b-a)/2
    v_xk.append(xk)
    it += 1
    fxk=fname(xk)
    if fxk==0:
      return xk, it, v_xk

    if sign(fa)*sign(fxk)<0:  #la radice si trova nell'intervallo [a, xk].
      b = xk
      fb=fxk
    elif sign(fxk)*sign(fb)<0:   #la radice si trova nell'intervallo [xk, b].
      a = xk
      fa=fxk

 
 return xk, it, v_xk





def falsi(fname, a, b, maxit, tolx,tolf):
 """
 Implementa il metodo di falsa posizione per il calcolo degli zeri di un'equazione non lineare.

 Parametri:
  f: La funzione da cui si vuole calcolare lo zero.
  a: L'estremo sinistro dell'intervallo di ricerca.
  b: L'estremo destro dell'intervallo di ricerca.
  tol: La tolleranza di errore.

 Restituisce:
  Lo zero approssimato della funzione, il numero di iterazioni e la lista di valori intermedi.
 """
 fa=fname(a);
 fb=fname(b);
 if sign(fa)*sign(fb)>=0:
     print("Non è possibile applicare il metodo di falsa posizione \n")
     return None, None,None

 it = 0
 v_xk = []
 
 fxk=tolf+1

 errore=tolx+1
 xprec=a
 
 while it < maxit  and abs(fxk) > tolf and errore > tolx :
    xk = a-fa*(b-a)/(fb-fa)
    v_xk.append(xk)
    fxk=fname(xk)
    if fxk==0:
      return xk, it, v_xk

    if sign(fa)*sign(fxk)<0:  #la radice si trova nell'intervallo [a, xk].
      b = xk
      fb=fxk
    elif sign(fxk)*sign(fb)<0:   #la radice si trova nell'intervallo [xk, b].
      a = xk
      fa=fxk

    if xk!=0:
         errore=abs(xk-xprec)/abs(xk)
    else:
         errore=abs(xk-xprec)
    
    xprec=xk
    it += 1
 return xk, it, v_xk



# Esempio di utilizzo
import numpy as np
import matplotlib.pyplot as plt
 
 
scelta=int(input("Scegli funzione di cui calcolare lo zero"))

match scelta:
    
    case 1:
        f= lambda x:x**3-6*x**2-4*x+24
        #Intervallo di definizione
        a = -3
        b = 8
        alfa=-2  #Uno dei valori in cui si annulla la funzioe
        #Intervallo in cui è contenuta la prima soluzione
        a1=-3.0
        b1=0.0
    case 2:
        f= lambda x: np.exp(-x)-(x+1)
        alfa=0
        a1 = -1
        b1 = 2
        a=a1
        b=b1
    case 3:
        f=  lambda x: np.log2(x+3)-2 #log_b(a)=log(a)/log(b)
        alfa= 1
        a1 = -1
        b1 = 2
        a=a1
        b=b1

    case 4:
        f= lambda x: np.sqrt(x)-(x**2)/4 
        alfa=2.0**(4/3.0)
        a1 = 1
        b1 = 3
        a=a1
        b=b1

xx=np.linspace(a,b,100)
plt.plot(xx,f(xx),xx,np.zeros_like(xx))
 
plt.show()
tolx = 1e-12
tolf=1e-12
maxit=1000
zero,it,xk = metodo_bisezione(f, a1, b1, tolx)
 
zero_f,it_f,xk_f = falsi(f, a1, b1, maxit, tolx,tolf)
 
 
xk=np.array(xk)

if (zero!=None):
    print("Lo zero approssimato da bisezione è: ",zero, "Valore di f in ",zero, "--->", f(zero), "Numero di iterazioni ",it)
    ek=np.abs(xk-alfa)
    plt.semilogy(range(it),ek,'-s')

xk_f=np.array(xk_f)
if (zero_f!=None):
    print("Lo zero approssimato da falsa posizione è: ",zero_f, "Valore di f in ",zero_f, "--->", f(zero_f),"Numero di iterazioni ",it_f)
    ek_f=np.abs(xk_f-alfa)
    plt.semilogy(range(it_f),ek_f,'-s')

plt.legend(['Bisezione','Falsa Posizione'])


# Esempio di utilizzo
import numpy as np
import matplotlib.pyplot as plt
 
 
scelta=int(input("Scegli funzione di cui calcolare lo zero"))

match scelta:
    
    case 1:
        f= lambda x:x**3-6*x**2-4*x+24
        #Intervallo di definizione
        a = -3
        b = 8
        alfa=-2  #Uno dei valori in cui si annulla la funzioe
        #Intervallo in cui è contenuta la prima soluzione
        a1=-3.0
        b1=0.0
    case 2:
        f= lambda x: np.exp(-x)-(x+1)
        alfa=0
        a1 = -1
        b1 = 2
        a=a1
        b=b1
    case 3:
        f=  lambda x: np.log2(x+3)-2 #log_b(a)=log(a)/log(b)
        alfa= 1
        a1 = -1
        b1 = 2
        a=a1
        b=b1

    case 4:
        f= lambda x: np.sqrt(x)-(x**2)/4 
        alfa=2.0**(4/3.0)
        a1 = 1
        b1 = 3
        a=a1
        b=b1

xx=np.linspace(a,b,100)
plt.plot(xx,f(xx),xx,np.zeros_like(xx))
 
plt.show()
tolx = 1e-12
tolf=1e-12
maxit=1000
zero,it,xk = metodo_bisezione(f, a1, b1, tolx)
 
zero_f,it_f,xk_f = falsi(f, a1, b1, maxit, tolx,tolf)
 
 
xk=np.array(xk)

if (zero!=None):
    print("Lo zero approssimato da bisezione è: ",zero, "Valore di f in ",zero, "--->", f(zero), "Numero di iterazioni ",it)
    ek=np.abs(xk-alfa)
    plt.semilogy(range(it),ek,'-s')

xk_f=np.array(xk_f)
if (zero_f!=None):
    print("Lo zero approssimato da falsa posizione è: ",zero_f, "Valore di f in ",zero_f, "--->", f(zero_f),"Numero di iterazioni ",it_f)
    ek_f=np.abs(xk_f-alfa)
    plt.semilogy(range(it_f),ek_f,'-s')

plt.legend(['Bisezione','Falsa Posizione'])








#Calcolare il la radice quadrata di 2 equivale a calcolare lo zero della funzione x**2-2 nel semiasse positivo
f4= lambda x: x**2-2

a=1.0
b=2.0
xx=np.linspace(a,b,100)
plt.plot(xx,f4(xx),xx,np.zeros_like(xx))
plt.show()
tolx = 1e-12
tolf=1e-12
maxit=1000
zero_b_4,it_b_4,xk_b_4 = metodo_bisezione(f4, a, b, tolx)




alfa=np.sqrt(2)
err_rel_bis_4=np.abs(np.array(xk_b_4)-alfa)
print("zero =",zero_b_4," numero di iterazioni ",it_b_4)


plt.semilogy(range(it_b_4),err_rel_bis_4,'r-o')
plt.legend(['Bisezione'])





  
#Calcolo della norma 1
def mynorma1(B):
    c=np.sum(np.abs(B),axis=0)  #equivale a sommare gli elementi di tutte le colonne 
    n1=np.max(c)
    return n1


#Calcolo della norma infinito
def mynormainf(B):
    c=np.sum(np.abs(B),axis=1)  #equivale a sommare gli elementi di tutte le righe
    ninf=np.max(c)
    return ninf 


B=np.array([[2.0],[3],[4],[5]])
norma1=mynorma1(B)
normainf=mynormainf(B)
print("mynorma1=", norma1)
print("norma 1 con numpy.linalg.norm ", np.linalg.norm(B,1))#Calcolo della norma 1
print("mynormainf=", normainf)
print("norma inf con numpy.linalg.norm ", np.linalg.norm(B,np.inf))


x=np.array([[2.0],[-3.0],[7.0]])
print("my norma 1 -->",mynorma1(x))
print("norma 1 con numpy.linalg.norm ",np.linalg.norm(x,1))





 A=np.array([[4,-1,6],[2,3,-3],[1,-2,9/2]]) 



def mynorma2(A):
    M=A.T@A
    autovalori=np.linalg.eigvals(M)
    n2=np.sqrt(np.max(np.abs(autovalori)))
    return n2


A=np.array([[4,-1,6],[2,3,-3],[1,-2,9/2]])
norma2=mynorma2(A)
print("mynorma 2",norma2)
print("norma 2 con numpy.linalg.norm ", np.linalg.norm(A,2))






