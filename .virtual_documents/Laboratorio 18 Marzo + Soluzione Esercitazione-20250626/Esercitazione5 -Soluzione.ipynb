





#La funzione di cui calcolare il condizionamento è f(q)=-p+sqrt{p^2+q},
#al variare di q, con q che tende a zero.
#Si calcola l'indice di condizionamento K=|f'(q)*q/f(q)| 
#si verifica che quando q->0 K ->1. 
#Il problema è ben condizionato. (vedi pdf in allegato)
import numpy as np
import matplotlib.pyplot as plt
p=10.0**5
q=10.0**(-np.arange(11))
import numpy as np
x= -p+np.sqrt(p**2+q)
#La formula risolutiva non è numericamente stabile, perchè  quando q risulta più piccolo dello spacing in p**2, si ha il fenomeno della perdita di cifre significative
print('spacing per p**2 ', np.spacing(p**2),'\n valori di q=',q)
print(x)
#L'instabilità numerica si verifica per valori di q più piccoli dello spacing per 10**5 che è 
# da dato  1.9073486328125e-06 


#la formula stabile, si ottiene moltiplicando
#la formula di partenza per 
# (+p+sqrt{p^2+q})/(+p+sqrt{p^2+q})
x2= q/(p+np.sqrt(p**2+q))
print(x2)





i=np.arange(1,21)
x=10.0**(-i)
print(x)
f=lambda x: ((1+x)-1)/x


y=f(x)
print(f(x))
plt.semilogx(x,f(x),x,np.ones_like(x))











n=34
import math
import matplotlib.pyplot as plt
import numpy as np
b=np.zeros((n,))
s=np.zeros((n,))
p=np.zeros((n,))
b[0]=2
s[0]=1
print("spacing in [1,2]",np.spacing(1))
for i in range(1,n):
     p[i]=b[i-1]*s[i-1]
     b[i]=2*b[i-1]
     print(i,s[i-1]**2)
     s[i]=math.sqrt((1.0-math.sqrt(1-s[i-1]**2))/2.0)

#Si verifica che s[i-1]**2 dall'iterato 28 in avanti  assume un valore più piccolo
#dello spacing in [1,2], circa 2.e-16. Questo comporta dall'iterato 30 in avanti
#l' annullamento di s[i]  ed il conseguente annullamento di p[i]
# I problemi di instabilità si cominciano a vedere già prima di questo iterato in quanto s[i-1] tende a diminuire
# e quidni quando si sottrae da 1 un valore via via sempre più piccolo si ha una perdita di cifre significative,
#dovute al fatto che nelle operazioni di somma bisogna prima allineare gli esponenti e quindi scalare le mantisse,
#e questo quando i numeri sono molto piccoli può portare alla cancellazione di cifre significative
        
bs=np.zeros((n,))
ss=np.zeros((n,))
ps=np.zeros((n,))
bs[0]=2
ss[0]=1
for i in range(1,n):
     ps[i]=bs[i-1]*ss[i-1]
     bs[i]=2*bs[i-1]
     ss[i]=ss[i-1]/math.sqrt((2.0*(1.0+math.sqrt(1.0-ss[i-1]**2))))

plt.plot(np.arange(1,n),p[1:n],np.arange(1,n),ps[1:n])





def esp_taylor(x,N):
   
    r=x
    fattoriale=1
    esponential=1+r;
    for i in range(2,N+1):
        r=r*x
        fattoriale=fattoriale*i;
        esponential=esponential+r/fattoriale;
    return esponential


 
def esp_taylor_stabile(x,N):
    
    if x<0:
        x=abs(x)
        r=x
        fattoriale=1
        esponential=1+r;
        for i in range(2,N+1):
            r=r*x
            fattoriale=fattoriale*i;
            esponential=esponential+r/fattoriale;
    
        return 1/esponential
    
    else: 

        r=x
        fattoriale=1
        esponential=1+r;
        for i in range(2,N+1):
            r=r*x
            fattoriale=fattoriale*i;
            esponential=esponential+r/fattoriale;
        return esponential


import numpy as np
import matplotlib.pyplot as plt
 

a=-10.0             
b=10.0                
ncampio=21
N=100

xc= np.linspace(a,b,ncampio)
exp_es=np.exp(xc); #esponenziale esatto


exp_app=np.zeros((ncampio,)); 
exp_app=np.zeros((ncampio,)); 
nt=np.zeros((ncampio,));     #indice n della serie

for i in range(ncampio):
    exp_app[i]= esp_taylor(xc[i],N);

err_rel=np.abs(exp_app-exp_es)/np.abs(exp_es)


    
    


print(err_rel)
plt.plot(xc,exp_app,'b-',xc,exp_es,'r--')
plt.title('Approssimazione esponenziale con serie di Taylor troncata')
plt.legend(['exp_app_1','exp_esatta'])
plt.show()


plt.plot(xc,err_rel)
plt.yscale("log")
plt.title("Errore relativo scala semi-logaritimica")
plt.show()



#Si nota che l'errore relativo risulta più alto nel caso di esponente negativo, perchè lo sviluppo in serie
#presenta termini a segno alterno, e sappiamo che in situazioni particolari la somma tra numeri a segno alterno
#può provocare la cancellazione di cifre significative e produrre quindi un algoritmo instabile
'''
--------------------------------------------------------------------------
come migliorare andamento errore relativo
--------------------------------------------------------------------------
'''
#Pe realizzare un aglrotimo stabile si considera il fatto che exp(-x)= 1/exp(x).
#Si calcola quindi lo sviluppo in serie troncato ad n termini di exp(abs(x)) e poi se ne considera il reciproco.

for i in range(ncampio) :
       exp_app[i]= esp_taylor_stabile(xc[i],N)
   

err_rel_2=np.abs(exp_app-exp_es)/np.abs(exp_es)
print(err_rel_2)
plt.plot(xc,err_rel_2)
plt.yscale("log")
plt.title('Errore relativo Algoritmo Migliorato- scala semilogaritmica')
plt.show()










import numpy as np
import math
import matplotlib.pyplot as plt
k=np.arange(0,-21.0,-1)
h=10.0**k

des=math.cos(1);            #derivata esatta


x=1
rai=(np.sin(x+h)-np.sin(x))/h #rapporto incrementale
print("Spacing in [1,2] ",np.spacing(1))
print("incremento h",h)
print("Rapporto incrementale",rai)

err_rel=np.abs(rai-des)/np.abs(des); # errore relativo


plt.plot(h,err_rel,'b-',h,h,'r:')
plt.xscale("log")
plt.yscale("log")
plt.legend(['Errore relativo', 'Incremento'])

#Si osserva che quando il valore dell'incremento h, risulta più piccolo dello spacing 
#in [1,2], cioè a partire da h=1e-16, il numeratore si annulla a causa della
#cancellazione di cifre significative, e quindi il rapporto incrementale si 
#annulla.








import numpy as np
def valuta_horner(a,x):
    n=a.shape[0]

    p=a[n-1]*np.ones_like(x)
    for i in range(2,n+1):
         p=p*x+a[n-i] 
    return p




def valuta_alg1(a,x):
    n=a.shape[0]
    p=a[0]*np.ones_like(x)
    r=1
    for i in range(1,n):
        r=r*x
        p=p+a[i]*r
    return p




import matplotlib.pyplot as plt
import time
n=1000000 
x=np.linspace(1.8,2.2,n)
a=np.array([256, -1024, 1792, -1792, 1120, -448, 112, -16 ,1],dtype=float);
start_time=time.perf_counter()
pol1=valuta_alg1(a,x)
stop_time=time.perf_counter()
print("Tempo algoritmo 1 ",stop_time-start_time)
start_time=time.perf_counter()
polh=valuta_horner(a,x)
stop_time=time.perf_counter()
print("Tempo algoritmo horner ",stop_time-start_time)
plt.plot(x,pol1,x,polh,'r')
'''
Si conferma sperimentalmente che lo schema di Horner per
valutare un polinomio in un punto impiega un tempo che è circa la metà di
quello impiegato dall'algoritmo 1.
'''





n=1000
f= lambda x: (x-2.0)**8.0 
x1=np.linspace(1.8,2.2,n)
P_x1=f(x1)
P_1_x1=valuta_alg1(a,x1)
P_H_x1=valuta_horner(a,x1)

x2=np.linspace(1.9,2.1,n)
P_x2=f(x2)
P_1_x2=valuta_alg1(a,x2)
P_H_x2=valuta_horner(a,x2)

x3=np.linspace(1.92,2.08,n)
P_x3=f(x3)
P_1_x3=valuta_alg1(a,x3)
P_H_x3=valuta_horner(a,x3)

x4=np.linspace(1.93,2.07,n)
P_x4=f(x4)
P_1_x4=valuta_alg1(a,x4)
P_H_x4=valuta_horner(a,x4)

x5=np.linspace(1.94,2.06,n)
P_x5=f(x5)
P_1_x5=valuta_alg1(a,x5)
P_H_x5=valuta_horner(a,x5)

#plt.subplot(3,2,1)
plt.plot(x1,P_x1,x1,P_1_x1,x1,P_H_x1)
plt.legend(['P','P_1','P_H'])
plt.title(' Intervallo [1.8,2.2]')
plt.show()
#plt.subplot(3,2,2)
plt.plot(x2,P_x2,x2,P_1_x2,x2,P_H_x2)
plt.legend(['P','P_1','P_H'])
plt.title('Intervallo   [1.9, 2.1]') 
plt.show()
#plt.subplot(3,2,3)
plt.plot(x3,P_x3,x3,P_1_x3,x3,P_H_x3)
plt.legend(['P','P_1','P_H'])
plt.title('Intervallo ,  [1.92,2.08]')
plt.show()
#plt.subplot(3,2,4)
plt.plot(x4,P_x4,x4,P_1_x4,x4,P_H_x4)
plt.legend(['P','P_1','P_H'])
plt.title('Intervallo , [1.93,2.07]')
plt.show()
#plt.subplot(3,2,5)
plt.plot(x5,P_x5,x5,P_1_x5,x5,P_H_x5)
plt.legend(['P','P_1','P_H'])
plt.title('Intervallo  [1.94,2.06]')
plt.show()















