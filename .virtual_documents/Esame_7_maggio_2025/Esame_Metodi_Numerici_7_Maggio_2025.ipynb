








from scipy.io import loadmat

import numpy as np
import matplotlib.pyplot as plt

dati = loadmat('test_7_maggio_2025')

A=dati["A"] 

A=A.astype(float)

b=dati["b"]

b=b.astype(float)

A1=dati["A1"] 

A1=A1.astype(float)

b1=dati["b1"]

b1=b1.astype(float)
m,n = A.shape
print("M: ",m, "n: ",n)
if m==n:
    print("Matrice quadrata")
sp=np.count_nonzero(A)/(m*n)
print("Sparsità: ", sp)
plt.spy(A)


flagS= A==A.T
if np.all(flagS==True):
    print("Matrice simmetrica")
else: 
    print("Matrice non simmetrica")

eigvals = np.linalg.eigvals(A)
if np.all(eigvals)>0 :
    print("matrice def pos")
else:
    print("mantrice non def pos")

print("condA: ",np.linalg.cond(A))


def steepestdescent(A,b,x0,itmax,tol):
 
    n,m=A.shape
    if n!=m:
        print("Matrice non quadrata")
        return [],[]
    
    
   # inizializzare le variabili necessarie
    x = x0

     
    r = A@x -b  
    p = -r 
    it = 0
    nb=np.linalg.norm(b)
    errore=np.linalg.norm(r)/nb
    vec_sol=[]
    vec_sol.append(x.copy())
    vet_r=[]
    vet_r.append(errore)
     
# utilizzare il metodo del gradiente per trovare la soluzione
    while it<=itmax and errore>=tol: 
        it=it+1
        Ap=A@p 
       
        alpha = -(r.T@p)/(p.T@Ap)
                
        x = x+alpha*p

        vec_sol.append(x.copy())
        r=r+alpha*Ap
        errore=np.linalg.norm(r)/nb
        vet_r.append(errore)
        p = -r
        
    iterates_array = np.vstack([arr.T for arr in vec_sol])
    return x,vet_r,iterates_array,it



x0=np.zeros_like(b)
tol=1e-6
itmax=2000
x,vet_r,iterates_array,it=steepestdescent(A,b,x0, itmax,tol)
print("it: ", it)
print(x.shape)
plt.semilogy(range(len(vet_r)),vet_r)


print("Condizionamento A1: ", np.linalg.cond(A1))


x01=np.zeros_like(b1)
tol=1e-6
itmax=2000
x1,vet_r1,iterates_array1,it1=steepestdescent(A1,b1,x01, itmax,tol)
print("it: ", it1)
print(x1.shape)
plt.semilogy(range(len(vet_r1)),vet_r1)


def conjugate_gradient(A,b,x0,itmax,tol):
    n,m=A.shape
    if n!=m:
        print("Matrice non quadrata")
        return [],[]
    
    
   # inizializzare le variabili necessarie
    x = x0
    
    r = A@x-b
    p = -r 
    it = 0
    nb=np.linalg.norm(b)
    errore=np.linalg.norm(r)/nb
    vec_sol=[]
    vec_sol.append(x0.copy())
    vet_r=[]
    vet_r.append(errore)
# utilizzare il metodo del gradiente coniugato per calcolare la soluzione
    while errore>=tol and it<itmax:
        it=it+1
        Ap=A@p
        alpha = -(r.T@p)/(p.T@Ap)
        x = x+alpha*p
        vec_sol.append(x.copy())
        rtr_old=r.T@r
        r= r+alpha*Ap
        gamma=r.T@r/rtr_old
        errore=np.linalg.norm(r)/nb
        vet_r.append(errore)
        p = r+gamma*p
   
    iterates_array = np.vstack([arr.T for arr in vec_sol])
    return x,vet_r,iterates_array,it









x0=np.zeros_like(b)
tol=1e-6
itmax=2000
xCG,vet_rCG,iterates_arrayCG,itCG = conjugate_gradient(A,b,x0, itmax,tol)
print("it: ", itCG)
print(xCG.shape)
plt.semilogy(range(len(vet_rCG)),vet_rCG)





def gauss_seidel(A,b,x0,toll,it_max):
    errore=1000
    d=np.diag(A)
    D=np.diag(d)
    E=np.tril(A,-1)
    F=np.triu(A,1)
    M=D+E 
    N=-F 
    T=np.linalg.inv(M)@N 
    autovalori=np.linalg.eigvals(T)
    raggiospettrale=np.max(np.abs(autovalori))
    print("raggio spettrale Gauss-Seidel ",raggiospettrale)
    it=0
    er_vet=[]
    while it<it_max and errore >=toll:
        x,flag=Lsolve(M, b-F@x0)
        errore=np.linalg.norm(x-x0)/np.linalg.norm(x)
        er_vet.append(errore)
        x0=x.copy()
        it=it+1
    return x,it,er_vet


x0=np.zeros_like(b)
tol=1e-6
itmax=2000
x,it, er_vet = gauss_seidel(A,b,x0, itmax,tol)
print("it: ", it)
print(x.shape)
plt.semilogy(range(len(er_vet)),er_vet)











import scipy as sp
from SolveTriangular import *
import math
M=np.array([[1,1,1],[4,0,1],[0,4,1]])
b = np.array([[-2],[-16],[-16]])

condM= np.linalg.cond(M)
print("Cond: ", condM)
#fattorizzazione LU perchè è piccola e ben condizionata
PT,L, U = sp.linalg.lu(M)
t,flag=Lsolve(L,PT.T@b)
a,flag=Usolve(U,t)

cx=-a[0]/2
cy=-a[1]/2
r1=math.sqrt((a[0]**2)/4+(a[1]**2)/4-a[2])
t = np.linspace(0,2*np.pi,100)
x=cx+r1*np.cos(t)
y=cy+r1*np.sin(t)
plt.plot(x,y,'r-')




































