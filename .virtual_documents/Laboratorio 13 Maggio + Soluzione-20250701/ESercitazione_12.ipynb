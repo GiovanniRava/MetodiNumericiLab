


import numpy as np 
import scipy.linalg as splin
from SolveTriangular import *
import matplotlib.pyplot as plt






def eqnorm(A,b):
 
    G= A.T@A
    print(np.linalg.cond(G))
    f= A.T@b
    
    L=splin.cholesky(G, lower=True)
    U=L.T

    z,flag = Lsolve(L,f)
    if flag == 0:
        x,flag = SolveTriangular.Usolve(U,z)
        
        
    return x





def qrLS(A,b):
    n=A.shape[1]  # numero di colonne di A
    Q,R=splin.qr(A)
    h=Q.T@b
    x,flag = Usolve(R[0:n,:],h[0:n])
    residuo=np.linalg.norm(h[n:]**2)
    
    return x,residuo





def SVDLS(A,b):
    m,n=A.shape  #numero di righe e  numero di colonne di A
    U,s,VT=splin.svd(A)  
    
    V=VT.T
    thresh=np.spacing(1)*m*s[0] ##Calcolo del rango della matrice, numero dei valori singolari maggiori di una soglia
    k=np.count_nonzero(s>thresh)#rango
    
    d=U.T@b 
    d1=d[:k].reshape(k,1)
    s1=s[:k].reshape(k,1) 
    
    c=d1/s1
    x=V[:,:k]@c 
    residuo=np.linalg.norm(d[k:])**2
    return x,residuo
     








x=np.array([-3.5,-3,-2,-1.5,-0.5,0.5,1.7,2.5, 3])
y= np.array([-3.9,-4.8,-3.3,-2.5,0.3,1.8,4,6.9,7.1])
m=x.shape[0]
n=1
n1=n+1
A = np.vander(x, increasing=True)[:,:n1]
alpha_EQN=eqnorm(A,y)
residuo_eqn=np.linalg.norm(A@alpha_EQN-y.reshape(m,1))

alpha_Qr, residuo_QR = qrLS(A,y)
alpha_SVD, residuo_SVD = SVDLS(A,y)

print("Residuo EQN ",residuo_eqn)
print("residuo QR ",residuo_QR)
print("Residuo SVD ",residuo_SVD)
xv=np.linspace(np.min(x),np.max(x), 100)
pol_EQN=np.polyval(np.flip(alpha_EQN),xv)
pol_QR = np.polyval(np.flip(alpha_Qr), xv)
pol_SVD = np.polyval(np.flip(alpha_SVD),xv)
plt.plot(x,y,'ro',xv,pol_QR)#, xv, pol_SVD, xv,pol_EQN)
plt.legend(['punti','qr','svd','eqn'])
plt.show()









ciao 












x2=np.array([0.0004,0.2507,0.5008,2.0007,8.0013])
y2=np.array([0.0007,0.0162,0.0288,0.0309,0.0310])
m=x2.shape[0]
n = 1
n1=n+1
A2 = np.vander(x2, increasing=True)[:,:n1]
condA2 = np.linalg.cond(A2)
print("Condizionamneto A2: ", condA2)
alpha2=eqnorm(A2,y2)
xv=np.linspace(np.min(x2), np.max(x2), 100)
pol2=np.polyval(np.flip(alpha2),xv)
plt.plot(xv, pol2, x2, y2, 'ro')
plt.legend(['pol2','punti'])
plt.show()






n3=2
n4=n3+1
A2 = np.vander(x2, increasing=True)[:,:n4]

alpha2,residue_QR=qrLS(A2,y2)
xv=np.linspace(np.min(x2), np.max(x2), 100)
pol2=np.polyval(np.flip(alpha2),xv)
plt.plot(xv, pol2, x2, y2, 'ro')
plt.legend(['pol2','punti'])
plt.show()
























