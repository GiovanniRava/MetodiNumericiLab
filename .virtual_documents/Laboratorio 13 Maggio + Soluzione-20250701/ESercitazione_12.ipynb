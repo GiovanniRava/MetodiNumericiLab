


import numpy as np 
import scipy.linalg as splin
from SolveTriangular import *
import matplotlib.pyplot as plt






def eqnorm(A,b):
 
    G= A.T@A
    print(np.linalg.cond(G))
    f= A.T@b
    
    L=splin.cholesky(G, lower=True)
    U=L.T

    z,flag = Lsolve(L,f)
    if flag == 0:
        x,flag = SolveTriangular.Usolve(U,z)
        
        
    return x





def qrLS(A,b):
    n=A.shape[1]  # numero di colonne di A
    Q,R=splin.qr(A)
    h=Q.T@b
    x,flag = Usolve(R[0:n,:],h[0:n])
    residuo=np.linalg.norm(h[n:]**2)
    
    return x,residuo





def SVDLS(A,b):
    m,n=A.shape  #numero di righe e  numero di colonne di A
    U,s,VT=splin.svd(A)  
    
    V=VT.T
    thresh=np.spacing(1)*m*s[0] ##Calcolo del rango della matrice, numero dei valori singolari maggiori di una soglia
    k=np.count_nonzero(s>thresh)#rango
    
    d=U.T@b 
    d1=d[:k].reshape(k,1)
    s1=s[:k].reshape(k,1) 
    
    c=d1/s1
    x=V[:,:k]@c 
    residuo=np.linalg.norm(d[k:])**2
    return x,residuo
     








x=np.array([-3.5,-3,-2,-1.5,-0.5,0.5,1.7,2.5, 3])
y= np.array([-3.9,-4.8,-3.3,-2.5,0.3,1.8,4,6.9,7.1])
m=x.shape[0]
n=1
n1=n+1
A = np.vander(x, increasing=True)[:,:n1]
alpha_EQN=eqnorm(A,y)
residuo_eqn=np.linalg.norm(A@alpha_EQN-y.reshape(m,1))

alpha_Qr, residuo_QR = qrLS(A,y)
alpha_SVD, residuo_SVD = SVDLS(A,y)

print("Residuo EQN ",residuo_eqn)
print("residuo QR ",residuo_QR)
print("Residuo SVD ",residuo_SVD)
xv=np.linspace(np.min(x),np.max(x), 100)
pol_EQN=np.polyval(np.flip(alpha_EQN),xv)
pol_QR = np.polyval(np.flip(alpha_Qr), xv)
pol_SVD = np.polyval(np.flip(alpha_SVD),xv)
plt.plot(x,y,'ro',xv,pol_QR)#, xv, pol_SVD, xv,pol_EQN)
plt.legend(['punti','qr','svd','eqn'])
plt.show()









x2=np.array([0.0004,0.2507,0.5008,2.0007,8.0013])
y2=np.array([0.0007,0.0162,0.0288,0.0309,0.0310])
m=x2.shape[0]
n = 1
n1=n+1
A2 = np.vander(x2, increasing=True)[:,:n1]
condA2 = np.linalg.cond(A2)
print("Condizionamneto A2: ", condA2)
alpha2=eqnorm(A2,y2)
xv=np.linspace(np.min(x2), np.max(x2), 100)
pol2=np.polyval(np.flip(alpha2),xv)
plt.plot(xv, pol2, x2, y2, 'ro')
plt.legend(['pol2','punti'])
plt.show()



n3=2
n4=n3+1
A2 = np.vander(x2, increasing=True)[:,:n4]

alpha2,residue_QR=qrLS(A2,y2)
xv=np.linspace(np.min(x2), np.max(x2), 100)
pol2=np.polyval(np.flip(alpha2),xv)
plt.plot(xv, pol2, x2, y2, 'ro')
plt.legend(['pol2','punti'])
plt.show()





def plagr(xnodi,j):
    
    xzeri=np.zeros_like(xnodi)
    n=xnodi.size
    if j==0:
       xzeri=xnodi[1:n]
    else:
       xzeri=np.append(xnodi[0:j],xnodi[j+1:n])
    
    num= np.poly(xzeri)#Calcola i coefficienti del polinomio di grado n che si annulla nel vettore xzeri
    den= np.polyval(num,xnodi[j])#Lo valuta nel nodo escluso (-jesimo)
    
    p= num/den
    
    return p


def InterpL(x, y, xx):
    
    n=x.size
    m=xx.size 
    L=np.zeros((m,n))
    for j in range(n) :
        p=plagr(x,j) 
        L[:,j]=np.polyval(p,xx)
        
        
    return L@y






x=np.arange(0,2*np.pi+0.1,np.pi/2)
y1=np.sin(x)
xx = np.arange(0,2*np.pi+0.1,np.pi/40)
yy1=InterpL(x,y1,xx)

plt.plot(xx,yy1,'b--', x,y1,'*',xx,np.sin(xx),'g-')
plt.legend(['interpolante di Lagrnade', 'punti di interpolazione','y=sin(x)'])
plt.show()

y2=np.cos(x)

yy2=InterpL(x,y2,xx)

plt.plot(xx,yy2,'b--', x,y2,'*',xx,np.cos(xx),'g-')
plt.legend(['interpolante di Lagrnade', 'punti di interpolazione','y=cos(x)'])
plt.show()






x=np.linspace(-1,1,4)
f = lambda x: 3*x**3+ 2*x**2 + 2*x-1
y=f(x)
xx=np.linspace(-1,1,200)
polL=InterpL(x,y,xx)
plt.plot(xx, polL,'r--', x,y,'*', xx, f(xx), 'c-')
plt.legend(['interpolante di Lagrnage', 'punti di interpolazione', 'f(x)'])
plt.show()





L=np.array([-55, -45, -35, -25, -15, -5, 5, 15, 25, 35, 45, 55, 65])
T=np.array([3.7, 3.7,3.52,3.27, 3.2, 3.15, 3.15, 3.25, 3.47, 3.52, 3.65, 3.67, 3.52])

xx=np.linspace(np.min(L), np.max(L),200)
pol=InterpL(L,T,xx)

L1 = np.array([42])
pol42 = InterpL(L,T,L1)

L2= np.array([-42])
pol_42=InterpL(L,T,L2)

plt.plot(xx,pol, 'b--', L,T, 'r*', 42, pol42, 'og', -42, pol_42,'og')
plt.legend(['interpolante di Lagrange', 'punti di interpolazione', 'stima 1', 'stima 2'])
plt.show()



















xv=np.linspace(-1,1,200)
LLe=np.zeros((4,1))
LLc=np.zeros((4,1))

i=0
for n in range (5,25,5):
    xe =np.linspace(-1,1,n+1)

    xc = zeri_Cheb(-1,1,n)
    Le=np.zeros((200,1))
    Lc=np.zeros((200,1))
    for l in range(n+1):
        pe=plagr(xe,l)
        Le=Le+np.abs(np.polyval(pe,xv))
        pc=plagr(xc,l)
        Lc = Lc +np.abs(np.polyval(pc,xv))
    LLe[i] = np.max(Le)
    LLc[i] = np.max(Lc)
    i=i+1

print("Costante di lebesgue con nodi equispazioanti al variare di n: \n", LLe)
plt.semlogy(range(5,25,5),LLe, range(5,25,5),LLc)
plt.legend(['costante di leb per punti equispaziati','costante di leb per nodi cheb'])

print('Costante di Lebesgue con nodi di Chebyshev al variare di n: \n',LLc)









