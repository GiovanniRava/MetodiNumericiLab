





## Esercizio 1 

 Confrontare tutti i metodi implementati (bisezione, falsa posizione, corde, secanti, Newton) nei casi seguenti:
- f(x) = $x^3-6x^2-4x+24$ in [-3,8], tolx = 1.e − 12, tolf = 1.e − 12, (soluzione esatta alfa=-2,2,6);
- f(x) = exp(−x) − (x + 1) in [−1, 2]  tolx = 1.e − 12, tolf = 1.e − 12, (soluzione esatta alfa=0);
- f(x) = log2(x + 3) − 2 in [−1, 2]  tolx = 1.e − 12, tolf = 1.e − 12, (soluzione esatta alfa=1);
- f(x) =sqrt(x)-(x^2)/4 in [1, 3]  tolx = 1.e − 12, tolf =1.e − 12, (soluzione esatta alfa=2**(4/3))

Mostrare in un grafico in scala semilogaritmica sulle ordinate (comando semilogy) l’andamento di ek = |xk − α|, k = 1, ..., nit, sapendo che α = 0, 1, 2**(4/3) nei casi 2-4.

Calcolare l'ordine di ciascun metodo.






import sympy as sym
import numpy as np
import matplotlib.pyplot as plt


def corde (fname,coeff_ang, x0, tolx, tolf, nmax):
    xk=[]
    it = 0
    errorex = 1 + tolx
    erroref = 1 + tolf

    while it<nmax and erroref >= tolf and errorex >= tolx :
        fx0 = fname(x0)
        d = fx0/coeff_ang
        x1 = x0 - d
        fx1=fname(x1)
        erroref = abs(fx1)
        if x1 != 0:
            errorex = abs(d)/abs(x1)
        else: 
            errorex=abs(d)
        x0=x1
        it=it+1
        xk.append(x1)
    if it==nmax:
        print("Corde: raggiunto il numero massimo di iterazioni \n")
    return x1, it, xk


from sympy import lambdify
x= sym.symbols('x')
fs = sym.exp(-x) -(x+1)
dfs = sym.diff(fs, x, 1)
f_n = lambdify(x, fs,np)
df_n = lambdify(x,dfs,np)
a = -1.0
b = 2.0
tolx =1e-12
tolf=1e-12
nmax=100
alpha = 0.0
xx=np.linspace(a,b,100)
plt.plot(xx, f_n(xx), xx, np.zeros_like(xx))
plt.show()
x0 = -0.5
coeff_ang = (f_n(b) -f_n(a))/(b-a)
x1_c, it_c, xk_c = corde(f_n, coeff_ang, x0, tolx, tolf, nmax)
print("zero corde ", x1_c, "iterazioni corde" , it_c)
e_c=np.abs(np.array(xk_c)-alpha)
plt.semilogy(range(it_c), e_c, 'ro')


def Newton (fname,coeff_ang, x0, tolx, tolf, nmax):
    xk=[]
    it = 0
    errorex = 1 + tolx
    erroref = 1 + tolf

    while it<nmax and erroref >= tolf and errorex >= tolx :
        fx0 = fname(x0)
        d = fx0/fpname(x0)
        x1 = x0 - d
        erroref = abs(fx1)
        if x1 != 0:
            errorex = abs(d)/abs(x1)
        else: 
            errorex=abs(d)
        x0=x1
        it=it+1
        xk.append(x1)
    if it==nmax:
        print("Corde: raggiunto il numero massimo di iterazioni \n")
    return x1, it, xk


from sympy import lambdify
x= sym.symbols('x')
fs = sym.exp(-x) -(x+1)
dfs = sym.diff(fs, x, 1)
f_n = lambdify(x, fs,np)
df_n = lambdify(x,dfs,np)
a = -1.0
b = 2.0
tolx =1e-12
tolf=1e-12
nmax=100
alpha = 0.0
xx=np.linspace(a,b,100)
plt.plot(xx, f_n(xx), xx, np.zeros_like(xx))
plt.show()
x0 = -0.5
coeff_ang = (f_n(b) -f_n(a))/(b-a)
x1_c, it_c, xk_c = corde(f_n, coeff_ang, x0, tolx, tolf, nmax)
print("zero corde ", x1_c, "iterazioni corde" , it_c)
e_c=np.abs(np.array(xk_c)-alpha)
plt.semilogy(range(it_c), e_c, 'ro')








import numpy as np
import matplotlib.pyplot as plt
from mpl_toolkits.mplot3d import Axes3D
import sympy as sym


# Definizione variabili simboliche
x_sym, y_sym = symbols('x_sym y_sym')

# Definizione funzioni simboliche usando variabili simboliche 
       
f1_sym = lambda x_sym,y_sym: x_sym+y_sym-3   #[-1,1]
f2_sym= lambda x_sym,y_sym: x_sym**2+y_sym**2-9



def F_sym(f1_sym,f2_sym):
    return Matrix([[f1_sym(x_sym,y_sym)], [f2_sym(x_sym,y_sym)]])   

# Calcolo della matrice Jacobiana simbolicamente
J_sym = F_sym(f1_sym,f2_sym).jacobian(Matrix([x_sym, y_sym]))

# Converte la matrice jacobiana Simbolica in una funzione che può essere valutata numericamente mediante lambdify
J_numerical = lambdify([x_sym, y_sym], J_sym, np)

# Converte il vettore di funzioni Simbolico in una funzione che può essere valutata numericamente mediante lambdify
F_numerical = lambdify([x_sym, y_sym], F_sym(f1_sym,f2_sym), np)



print("ciao")



x = np.arange(-4, 4, 0.1)
y = np.arange(-4, 4, 0.1)
X, Y = np.meshgrid(x, y)
Z=np.zeros_like(X)
superfici=F_numerical(X,Y).squeeze()
 
# Plotta la superficie direttamente
fig = plt.figure()
ax = fig.add_subplot(111, projection='3d')
# Plotta la superficie
ax.plot_surface(X, Y, superfici[0,:,:], cmap='viridis',alpha=0.5)
# Plotta la superficie
ax.plot_surface(X, Y, superfici[1,:,:], cmap='Reds',alpha=0.5)
ax.plot_surface(X, Y, Z, cmap='gray',alpha=0.5)
plt.contour(X, Y,superfici[0,:,:], levels=[0], colors='black')
plt.contour(X, Y,superfici[1,:,:], levels=[0], colors='red')
 
plt.show()









x_sym , y_sym = simbols('x_sym y_sym')
F_sym =  100*(y_sym-x_sym**2)**2+(1-x_sym)**2
grad_f=sym.derive_by_array(F_sym, (x_sym,y_sym))
#Calcolo dell'Hessiana
H=sym.hessian(F_sym, (x_sym,y_sym))


print(grad_f)
print(H)


grad_f_num= sym.lambdify((x_sym, y_sym), grad_f,np)
H_num= sym.lambdify((x_sym, y_sym), H,np)
F_num= sym.lambdify((x_sym, y_sym), F_sym,np)


def newton_raphson_minimo(initial_guess, grad_f_num, H_num, tolx, tolf, max_iterazioni):
    X=np.array(initial_guess)
    it=0
    erroreF = 1+tolf
    erroreX = 1+tolx
    errore = []
    while it<max_iterazioni and erroreF>=tolf and erroreX >= tolx:
        Hx= H_num(X[0], X[1])
        if np.linalg.det(Hx) == 0:
            print("Hessiana non ha rango massimo")
            return None, None, None
        gfx=grad_f_num(X[0], X[1])
        gfx=gfx.squeeze()
        s=np.linalg.solve(Hx, -gfx)
        Xnew=X+s
        normaXnew = np.linalg.norm(Xnew, 1)
        if normaXnew == 0:
            erroreX=np.linalg.norm(s,1)
        else:
            erroreX=np.linalg.norm(s,1)/normaXnew
        errore.append(erroreX)
        gradf_xnew=grad_f_num(Xnew[0], Xnew[1])
        erroreF =np.linalg.norm(gradf_xnew.squeeze(),1)

        X=Xnew
        it=it+1
    return X, it, errore


initial_guess=[0.0, 2.0]
tolX=1e-10
tolF=1e-10
max_iterations=100
Xs_min,it,errore=newton_raphson_minimo(initial_guess, grad_f_num,Hnum, tolX, tolf, max_iteration)
pritn("Soluzione", Xs_min,"iterazioni",it)



x = np.arragne(-4,4,0.1)
y=np.arange(-4,4, 0.1)
X,Y=np.meshgrid(x, y)
Z=F_num(X,Y)


fig=plt.figure()
ax=fig.add_subplot(111, projection='3d')
ax.plot_surface(X,Y,Z,cmap='viridis', alpha=0.5)
plt.plot(Xs_min[0], Xs_min[1], 'ro')



