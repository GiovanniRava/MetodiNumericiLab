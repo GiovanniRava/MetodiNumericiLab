{
 "cells": [
  {
   "cell_type": "markdown",
   "id": "b97be3ab-d6dd-495f-a342-e5e837cfb8bc",
   "metadata": {},
   "source": [
    "# Esercitazione 4 - 11 Marzo 2025\n",
    " "
   ]
  },
  {
   "cell_type": "markdown",
   "id": "3f58ec10-478d-463a-9828-9f4d7fbd2f2c",
   "metadata": {},
   "source": [
    "Esplorate le caratteristiche dell'insieme dei numeri di macchina F($\\beta$,t,L,U) sul vostro calcolatore utilizzando il comando sys.float_info, dopo aver importato im modulo sys:\n",
    "\n",
    "import sys\n",
    "\n",
    "print(sys.float_info)"
   ]
  },
  {
   "cell_type": "code",
   "execution_count": 2,
   "id": "c538d943-4ab5-418e-91ca-0ecf7570922f",
   "metadata": {},
   "outputs": [
    {
     "name": "stdout",
     "output_type": "stream",
     "text": [
      "sys.float_info(max=1.7976931348623157e+308, max_exp=1024, max_10_exp=308, min=2.2250738585072014e-308, min_exp=-1021, min_10_exp=-307, dig=15, mant_dig=53, epsilon=2.220446049250313e-16, radix=2, rounds=1)\n"
     ]
    }
   ],
   "source": [
    "import sys\n",
    "import numpy as np\n",
    "print(sys.float_info)"
   ]
  },
  {
   "cell_type": "markdown",
   "id": "224ac7e6-31df-4f15-8ffc-9c82bd21c82e",
   "metadata": {},
   "source": [
    "- **1.**  Calcolare lo spacing in  $[2^{52}, 2^{53}]$.\n",
    "    - Sia $x=2^{52}$ individuare il numero successivo a $2^{52}$ ed assegnarlo ad una variabile  y.\n",
    "    - Cosa succede se consideriamo il valore z=x+0.5?\n",
    "    - Cosa succede se consideriamo il valore q=y+0.5?\n",
    "  "
   ]
  },
  {
   "cell_type": "code",
   "execution_count": 7,
   "id": "ff305c4e-5916-4af6-9d2d-063ca1441dd4",
   "metadata": {},
   "outputs": [
    {
     "name": "stdout",
     "output_type": "stream",
     "text": [
      "1\n",
      "X:  4503599627370496.0 \n",
      "y:  4503599627370497.0\n",
      "z:  4503599627370496.0\n",
      "q:  4503599627370498.0\n"
     ]
    }
   ],
   "source": [
    "p=52 \n",
    "t=53 \n",
    "beta=2\n",
    "spacing = beta**(p+1-t)\n",
    "print(spacing)\n",
    "x=2.0**52\n",
    "y = x+spacing\n",
    "print(\"X: \", x, \"\\ny: \", y)\n",
    "z = x + 0.5 #Somma ad x (numero pari),  una quantità uguale alla metà dello spacing in 2**52,  z è un numero reale che si trova a metà\n",
    "#tra due numeri di macchina successivi (2**52 e (2**52)+1 (essendo 1 lo spacing in questo intervallo dell'asse reale).\n",
    "# Poichè x è pari, per la proprietà del rounding to even, z risulta uguale ad x)\n",
    "print (\"z: \", z)\n",
    "q = y+0.5 #Somma ad y (numero dispari), una quantità uguale alla metà dello spacing in 2**52, per il rounding to even, essendo y dispari,\n",
    "#z risulta uguale ad y+1\n",
    "print(\"q: \", q)"
   ]
  },
  {
   "cell_type": "markdown",
   "id": "c73d1758-eb82-48af-8618-6dfb522dcdd6",
   "metadata": {},
   "source": [
    "- **2** Calcolare la cardinalità dell'insieme dei numeri finiti di Python"
   ]
  },
  {
   "cell_type": "code",
   "execution_count": 10,
   "id": "4937d465-b483-4dae-bf47-86a8413bf647",
   "metadata": {},
   "outputs": [
    {
     "name": "stdout",
     "output_type": "stream",
     "text": [
      "cardinalità:  1.842872967520007e+19\n"
     ]
    }
   ],
   "source": [
    "L=-1022\n",
    "U = 1023\n",
    "beta = 2.0\n",
    "t = 53\n",
    "\n",
    "cardinalità= 2*(beta-1)*beta**(t-1)*(U-L+1)+1\n",
    "print(\"cardinalità: \",format(cardinalità))\n"
   ]
  },
  {
   "cell_type": "markdown",
   "id": "cee853bd-aca6-47f4-980f-7e44473f7523",
   "metadata": {},
   "source": [
    "- **3**  Verificare numericamente che $\\texttt{eps} = 2^{-52}$, spacing nell'intervallo $[1, 2]$,\n",
    "è il piu' piccolo $x$ tale che $fl(1 + x)$ è  diverso da $1$."
   ]
  },
  {
   "cell_type": "code",
   "execution_count": 14,
   "id": "bb77df7c-516a-4770-ab69-3dd9fe3fac74",
   "metadata": {},
   "outputs": [
    {
     "name": "stdout",
     "output_type": "stream",
     "text": [
      "Spacing in [1,2]:  2.220446049250313e-16\n",
      "Valore di f  1.0\n",
      "Valore successivo ad f, dato da f+s= 1.0000000000000002\n",
      "f+s/2= 1.0\n"
     ]
    }
   ],
   "source": [
    "p=0\n",
    "t=53\n",
    "f=2.0**p\n",
    "spac= 2**(p+1-t)\n",
    "print(\"Spacing in [1,2]: \", spac)\n",
    "f1= f+spac\n",
    "f2=f+spac/2\n",
    "print(\"Valore di f \", f)\n",
    "print(\"Valore successivo ad f, dato da f+s=\",f1)\n",
    "print(\"f+s/2=\",f2)  #Ho sommato ad una quantità più piccola dello spacing in [1,2]\n"
   ]
  },
  {
   "cell_type": "markdown",
   "id": "576d203c-57b0-44c9-bdb9-d7d411c04a53",
   "metadata": {},
   "source": [
    "- **4.** Siano $a=0.1234567890123400 e+16$, $b=-0.1234567890123401 e+16$, $c=0.06$. \n",
    "  Calcolare $(a+b)+c$, $(a+c)+b$, $a+(b+c)$. Che cosa si osserva? Ripetere l'esercizio con $a=0.23371258 e-4$, $b=0.33678429 e+2$, $c=-0.33677911 e+2$."
   ]
  },
  {
   "cell_type": "code",
   "execution_count": 23,
   "id": "4917aa8a-3e37-49ca-a602-641d59bdc497",
   "metadata": {},
   "outputs": [
    {
     "name": "stdout",
     "output_type": "stream",
     "text": [
      "(a+b)+c:  -0.94\n",
      "(a+c)+b:  -1.0\n",
      "a+(b+c):  -1.0\n",
      "Spacing:  0.25\n"
     ]
    }
   ],
   "source": [
    "a=0.1234567890123400e+16\n",
    "b=-0.1234567890123401e+16\n",
    "c=0.06\n",
    "print(\"(a+b)+c: \", (a+b)+c)\n",
    "print(\"(a+c)+b: \", (a+c)+b)\n",
    "print(\"a+(b+c): \", a+(b+c))\n",
    "print(\"Spacing: \", np.spacing(a))"
   ]
  },
  {
   "cell_type": "code",
   "execution_count": 24,
   "id": "1c33e5d1-e3f8-4264-ba1b-2e44cf275e9f",
   "metadata": {},
   "outputs": [
    {
     "name": "stdout",
     "output_type": "stream",
     "text": [
      "(a+b)+c:  0.0005413712580022434\n",
      "(a+c)+b:  0.0005413712580022434\n",
      "a+(b+c):  0.0005413712579995743\n",
      "Spacing:  -0.25\n"
     ]
    }
   ],
   "source": [
    "a1=0.23371258e-4\n",
    "b1=0.33678429e+2\n",
    "c1=-0.33677911e+2\n",
    "print(\"(a+b)+c: \", (a1+b1)+c1)\n",
    "print(\"(a+c)+b: \", (a1+c1)+b1)\n",
    "print(\"a+(b+c): \", a1+(b1+c1))\n",
    "print(\"Spacing: \", np.spacing(b))"
   ]
  },
  {
   "cell_type": "markdown",
   "id": "269a23ac-daeb-49f4-b1f1-26a3b5cd8300",
   "metadata": {},
   "source": [
    "- **5** Costruire un numpy array costituito da n=10 valori tutti uguali a 0.1\n",
    "-     Effettuate la somma utilizzando un ciclo for.\n",
    "-     Effettuate la somma effettuando la somma con la funzione sum del modulo numpy.\n",
    "  Cosa osservate? Cercate di giustificare i risultati "
   ]
  },
  {
   "cell_type": "code",
   "execution_count": 29,
   "id": "49b19ef6-4ce5-44f3-8b1a-57c1fb64c691",
   "metadata": {},
   "outputs": [
    {
     "name": "stdout",
     "output_type": "stream",
     "text": [
      "somma con for:  0.9999999999999999\n",
      "Somma con np:  1.0\n"
     ]
    }
   ],
   "source": [
    "n=10\n",
    "somma = 0.0\n",
    "arr=np.ones((n,))*0.1\n",
    "for i in range(10):\n",
    "    somma = somma + arr[i]\n",
    "\n",
    "print(\"somma con for: \", somma)\n",
    "print(\"Somma con np: \", np.sum(arr))"
   ]
  },
  {
   "cell_type": "markdown",
   "id": "9471f698-220d-4e29-90c9-cf5ca9cc0f64",
   "metadata": {},
   "source": [
    "- **6.** Si considerino le espressioni $y_1=\\sqrt{x^2+1}-x$ e $y_2=\\frac{1}{\\sqrt{x^2+1}+x}$. Calcolare il valore di $y_1$ e $y_2$ per $x=7777$ e $x=77777777$. Che cosa si osserva? Commentare i risultati ottenuti."
   ]
  },
  {
   "cell_type": "code",
   "execution_count": 3,
   "id": "4e27588c-4fa6-450b-a83e-685f27073717",
   "metadata": {},
   "outputs": [
    {
     "name": "stdout",
     "output_type": "stream",
     "text": [
      "x**2= 60481729.0 x**2+1= 60481730.0 sqrt(x^2+1)=2, 7777.000064292143\n",
      "x= 7777.0 y1(x)= 6.429214317904552e-05 y2(x)= 6.429214323431402e-05\n",
      "Spacing in x**2 =  60481729.0  dato da  7.450580596923828e-09\n",
      "errore relativo caso 1  8.59646147292077e-10\n",
      "-----------------------------------------\n",
      "x**2= 6049382595061729.0 x**2+1= 6049382595061730.0 sqrt(x^2+1)=2, 77777777.0\n",
      "x= 77777777.0 y1(x)= 0.0 y2(x)= 6.428571492857143e-09\n",
      "Spacing in x**2 =  6049382595061729.0  dato da  1.0\n",
      "errore relativo caso 2  1.0\n",
      "-----------------------------------------\n"
     ]
    }
   ],
   "source": [
    "import math \n",
    "import matplotlib.pyplot as plt\n",
    "y1 = lambda x: np.sqrt(x**2 + 1)-x\n",
    "y2= lambda x: 1/(np.sqrt(x**2 +1)+x)\n",
    "x=7777.0;\n",
    "print(\"x**2=\", x**2, \"x**2+1=\",x**2+1, \"sqrt(x^2+1)=2,\",math.sqrt(x**2+1))\n",
    "print(\"x=\",x,\"y1(x)=\",y1(x),\"y2(x)=\",y2(x))\n",
    "print(\"Spacing in x**2 = \",x**2,\" dato da \",np.spacing(x**2))\n",
    "err=abs((y1(x)-y2(x))/y2(x))\n",
    "print(\"errore relativo caso 1 \",err)\n",
    "print(\"-----------------------------------------\")\n",
    "x=77777777.0;\n",
    "print(\"x**2=\", x**2, \"x**2+1=\",x**2+1, \"sqrt(x^2+1)=2,\",math.sqrt(x**2+1))\n",
    "print(\"x=\",x,\"y1(x)=\",y1(x),\"y2(x)=\",y2(x))\n",
    "print(\"Spacing in x**2 = \",x**2,\" dato da \",np.spacing(x**2))\n",
    "err=abs((y1(x)-y2(x))/y2(x))\n",
    "print(\"errore relativo caso 2 \",err)\n",
    "print(\"-----------------------------------------\")"
   ]
  },
  {
   "cell_type": "markdown",
   "id": "e3d8c3b3-d514-41ec-a6f2-eb22311ab157",
   "metadata": {},
   "source": [
    "- **7.** Valutare in aritmetica floating point l'espressione\n",
    "$$A(x)=\\frac{1}{x}-\\frac{1}{(x+1)}$$  nel vettore   $x=[10^0, 10^1,... ,10^{20}]$ contenente potenze successive  di $10$,  Si calcoli per ogni elemento di x l'errore relativo considerando come valore esatto quello calcolato usando  l'espressione algebricamente equivalente\n",
    "$$\n",
    "B(x)=\\frac{1}{x (x+1)}.\n",
    "$$ Si visualizzi l'errore relativo in un grafico in scala logaritmica su $x$ e $y$"
   ]
  },
  {
   "cell_type": "code",
   "execution_count": 8,
   "id": "9334ef38-557b-4330-9848-ea42cd096e6c",
   "metadata": {},
   "outputs": [
    {
     "name": "stdout",
     "output_type": "stream",
     "text": [
      "x:  [1.e+00 1.e+01 1.e+02 1.e+03 1.e+04 1.e+05 1.e+06 1.e+07 1.e+08 1.e+09\n",
      " 1.e+10 1.e+11 1.e+12 1.e+13 1.e+14 1.e+15 1.e+16 1.e+17 1.e+18 1.e+19\n",
      " 1.e+20]\n",
      "Spacing:  [2.22044605e-16 1.77635684e-15 1.42108547e-14 1.13686838e-13\n",
      " 1.81898940e-12 1.45519152e-11 1.16415322e-10 1.86264515e-09\n",
      " 1.49011612e-08 1.19209290e-07 1.90734863e-06 1.52587891e-05\n",
      " 1.22070312e-04 1.95312500e-03 1.56250000e-02 1.25000000e-01\n",
      " 2.00000000e+00 1.60000000e+01 1.28000000e+02 2.04800000e+03\n",
      " 1.63840000e+04]\n",
      "Errore relativo:  [0.00000000e+00 3.81639165e-16 8.21283146e-16 2.16209395e-14\n",
      " 6.38647291e-14 6.25044601e-13 1.07548935e-10 9.28145750e-10\n",
      " 1.03187712e-08 1.50211282e-07 6.14600376e-07 3.17244773e-08\n",
      " 4.84358805e-05 9.06716545e-04 6.03525942e-03 1.39238685e-02\n",
      " 1.00000000e+00 1.00000000e+00 1.00000000e+00 1.00000000e+00\n",
      " 1.00000000e+00]\n"
     ]
    },
    {
     "data": {
      "text/plain": [
       "[<matplotlib.lines.Line2D at 0x168069640>]"
      ]
     },
     "execution_count": 8,
     "metadata": {},
     "output_type": "execute_result"
    },
    {
     "data": {
      "image/png": "[encoded data removed]",
      "text/plain": [
       "<Figure size 640x480 with 1 Axes>"
      ]
     },
     "metadata": {},
     "output_type": "display_data"
    }
   ],
   "source": [
    "x=10.0**np.arange(21)\n",
    "A= 1/x - 1/(x+1)\n",
    "B= 1/(x*(x+1))\n",
    "err_rell=np.abs(A-B)/np.abs(B)\n",
    "print(\"x: \", x)\n",
    "print(\"Spacing: \", np.spacing(x))\n",
    "print(\"Errore relativo: \", err_rell)\n",
    "plt.loglog(x, err_rell, 'b-')"
   ]
  },
  {
   "cell_type": "markdown",
   "id": "9f6294cc-b0df-40b8-a1f5-450f4e756ffa",
   "metadata": {},
   "source": [
    "- **8.** Scrivere uno script Matlab che fornisca le approssimazioni di $e=\\exp(1)$ ottenute con la formula\n",
    "$f(n)=(1/n+1)^n$ per $n=10^k$ e  $k=0, ..., 16$. Visualizzare: un grafico con i valori di $f(n)$ al variare di n ed un grafico con i valori dell'errore relativo (considerando come valore esatto il valore math.exp(1)).  Cosa si osserva? Commentare i risultati ottenuti."
   ]
  },
  {
   "cell_type": "code",
   "execution_count": 10,
   "id": "d6b2c038-6861-40a4-9fcf-7ca753e49201",
   "metadata": {},
   "outputs": [
    {
     "name": "stdout",
     "output_type": "stream",
     "text": [
      "Spacing in [1,2]  2.220446049250313e-16\n",
      "Valori di 1/n  [1.e+00 1.e-01 1.e-02 1.e-03 1.e-04 1.e-05 1.e-06 1.e-07 1.e-08 1.e-09\n",
      " 1.e-10 1.e-11 1.e-12 1.e-13 1.e-14 1.e-15 1.e-16]\n"
     ]
    },
    {
     "data": {
      "image/png": "[encoded data removed]",
      "text/plain": [
       "<Figure size 640x480 with 1 Axes>"
      ]
     },
     "metadata": {},
     "output_type": "display_data"
    },
    {
     "data": {
      "image/png": "[encoded data removed]",
      "text/plain": [
       "<Figure size 640x480 with 1 Axes>"
      ]
     },
     "metadata": {},
     "output_type": "display_data"
    }
   ],
   "source": [
    "e=math.exp(1)\n",
    "k=np.arange(17)\n",
    "n=10**k\n",
    "ef=(1+1/n)**n\n",
    "err_rel= np.abs(e-ef)/e\n",
    "print(\"Spacing in [1,2] \",np.spacing(1))\n",
    "#Lo spacing in [1,2] è 2.e-16\n",
    "print(\"Valori di 1/n \",1/n)\n",
    "#Si nota che quando n=10**16, 1/n=1e-16  risulta più piccolo dello spacing in [1,2], per cui (1+1/n) \n",
    "# vale ad 1, ed il valore approssimato di \"e\" vale 1.\n",
    "#L'errore relativo cala per valori di k1 da 0 a 8 e quindi di n da 10**0 fino a 10**8.\n",
    "#Per  valori di n maggiori di 10**8,  nella formula (1+1/n) si cominciano a verificare gli errori \n",
    "#dovuti al fatto che si sommano valori di ordine di grandezza molto diversi, 1 ed 1/n molto piccolo al crescere di n. \n",
    "#Quando n=10**16, (1+1/n) vale 1 poichè 1/n è più piccolo dello spacing in [1,2] #e quindi il valore approssimato di \"e\" vale 1.\n",
    "\n",
    "plt.plot(k ,ef,'go-',k,e*np.ones((17,1)),'r-')\n",
    "plt.legend(['approssimazione di e','e'],loc='center')  #La proprietà loc, serve per specificare la posizione della legend\n",
    "plt.show()\n",
    "\n",
    "plt.plot(k,err_rel)\n",
    "plt.yscale('log')\n",
    "plt.legend([\"Errore relativo\"],loc='center')\n",
    "plt.show()\n"
   ]
  }
 ],
 "metadata": {
  "kernelspec": {
   "display_name": "Python 3 (ipykernel)",
   "language": "python",
   "name": "python3"
  },
  "language_info": {
   "codemirror_mode": {
    "name": "ipython",
    "version": 3
   },
   "file_extension": ".py",
   "mimetype": "text/x-python",
   "name": "python",
   "nbconvert_exporter": "python",
   "pygments_lexer": "ipython3",
   "version": "3.12.7"
  }
 },
 "nbformat": 4,
 "nbformat_minor": 5
}
