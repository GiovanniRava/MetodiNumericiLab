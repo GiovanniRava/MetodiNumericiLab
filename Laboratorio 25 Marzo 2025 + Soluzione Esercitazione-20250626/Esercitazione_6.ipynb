{
 "cells": [
  {
   "cell_type": "markdown",
   "id": "bf169812-94dc-4b34-83ff-c84a3e29571a",
   "metadata": {},
   "source": [
    "## Esercitazione 6 - 25 Marzo 2024"
   ]
  },
  {
   "cell_type": "markdown",
   "id": "6776a84b-7a0a-4001-bb1c-2316249e1bb4",
   "metadata": {},
   "source": [
    "Scrivere le funzioni python `bisezione.py`, `falsi.py`,  che implementino rispettivamente il metodo di bisezione, di falsa posizione, delle corde, delle secanti e di Newton.\n",
    "\n",
    "Le funzioni `bisezione.py`, `falsi.py` devono assumere come input:\n",
    "\n",
    "-  gli estremi dell'intervallo [a,b], dominio di f.\n",
    "-  il nome `fname` della funzione di cui calcolare lo zero\n",
    "-  tolx: tolleranza per il testi di arresto per l'errore relativo tra due iterati successivi\n",
    "-  tolf: tolleranza per il test di arresto sul valore della funzione\n",
    "-  nmax= numero massimo di iterazioni\n",
    "    \n",
    "In output:\n",
    "-      lo zero della funzione\n",
    "-      il numero di iterazioni effettuate\n",
    "-      una lista contenente tutti gli iterati xk\n",
    "\n"
   ]
  },
  {
   "cell_type": "code",
   "execution_count": 10,
   "id": "57ea8a62-21a4-484d-b2eb-1ea876f7f552",
   "metadata": {},
   "outputs": [],
   "source": [
    "import math \n",
    "def sign(x):\n",
    "  \"\"\"\n",
    "  Funzione segno che restituisce 1 se x è positivo, 0 se x è zero e -1 se x è negativo.\n",
    "  \"\"\"\n",
    "  return math.copysign(1, x)"
   ]
  },
  {
   "cell_type": "code",
   "execution_count": 11,
   "id": "79569a40-9478-4ae8-968d-39baa099f7bf",
   "metadata": {},
   "outputs": [],
   "source": [
    "def metodo_bisezione(fname, a, b, tolx):\n",
    " \n",
    " fa=fname(a)\n",
    " fb=fname(b)\n",
    " if sign(fa)*sign(fb)>=0:\n",
    "     print(\"Non è possibile applicare il metodo di bisezione \\n\")\n",
    "     return None, None,None\n",
    "\n",
    " it = 0\n",
    " v_xk = []\n",
    "\n",
    " while abs(b-a)>tolx:\n",
    "    xk = a+(b-a)/2\n",
    "    v_xk.append(xk)\n",
    "    it += 1\n",
    "    fxk=fname(xk)\n",
    "    if fxk==0:\n",
    "      return xk, it, v_xk\n",
    "\n",
    "    if sign(fxk)*sign(fb)<0:\n",
    "      a = xk \n",
    "      fa= fxk\n",
    "    elif sign(fxk)*sign(fa)<0:\n",
    "      b = xk\n",
    "      fb= fxk\n",
    "\n",
    " \n",
    " return xk, it, v_xk"
   ]
  },
  {
   "cell_type": "code",
   "execution_count": 5,
   "id": "177cfb71-8496-4d3c-89c7-dfd1f5e2182d",
   "metadata": {},
   "outputs": [],
   "source": [
    "def falsa_posizione(fname,a,b,tolx,tolf,maxit):\n",
    "    fa=fname(a)\n",
    "    fb=fname(b)\n",
    "    if sign(fa)*sign(fb)>=0:\n",
    "       print(\"Metodo di bisezione non applicabile\")\n",
    "       return None,None,None\n",
    "\n",
    "    it=0\n",
    "    v_xk=[]\n",
    "    fxk=1+tolf\n",
    "    errore=1+tolx\n",
    "    xprec=a\n",
    "    while it<maxit and abs(fxk)>tolf and errore>tolx :\n",
    "        xk= a-fa*((b-a)/(fb-fa))\n",
    "        v_xk.append(xk)\n",
    "        it+=1\n",
    "        fxk=fname(xk)\n",
    "        if fxk==0:\n",
    "            return xk,it,v_xk\n",
    "\n",
    "        if sign(fxk)*sign(fa)<0:\n",
    "           b= xk\n",
    "           fb= fxk\n",
    "        elif sign(fxk)*sign(fb)<0:\n",
    "           a=xk\n",
    "           fa=fxk\n",
    "        if xk!=0:\n",
    "            errore= abs(xk-xprec)/abs(xk)\n",
    "        else:\n",
    "            errore=abs(xk-xprec)\n",
    "        xprec=xk\n",
    "    \n",
    "    return xk,it,v_xk"
   ]
  },
  {
   "cell_type": "code",
   "execution_count": 6,
   "id": "2ffb1690-efb9-428f-9c69-6fa55951542d",
   "metadata": {},
   "outputs": [],
   "source": [
    "def corde(fname,coeff_ang,x0,tolx,tolf,nmax):\n",
    "    \n",
    "     # coeff_ang è il coefficiente angolare della retta che rimane fisso per tutte le iterazioni\n",
    "        xk=[]\n",
    "        \n",
    "        it=0\n",
    "        errorex=1+tolx\n",
    "        erroref=1+tolf\n",
    "        while it<nmax and errorex >tolx and erroref>tolf:\n",
    "           \n",
    "           fx0=fname(x0)\n",
    "           d=coeff_ang\n",
    "          \n",
    "           x1=x0-fx0/d\n",
    "           fx1=fname(x1)\n",
    "           if x1!=0:\n",
    "                errorex=abs(x1-x0)/abs(x1)\n",
    "           else:\n",
    "                errorex=abs(x1-x0)\n",
    "           \n",
    "           erroref=abs(fx1)\n",
    "           \n",
    "           x0=x1\n",
    "           it=it+1\n",
    "           xk.append(x1)\n",
    "          \n",
    "        if it==nmax:\n",
    "            print('Corde : raggiunto massimo numero di iterazioni \\n')\n",
    "            \n",
    "        \n",
    "        return x1,it,xk"
   ]
  },
  {
   "cell_type": "code",
   "execution_count": 7,
   "id": "18f25450-6bae-44a1-8a13-3ccafb110aca",
   "metadata": {},
   "outputs": [],
   "source": [
    "def secanti(fname,xm1,x0,tolx,tolf,nmax):\n",
    "        xk=[]\n",
    "        \n",
    "        it=0\n",
    "        errorex=1+tolx\n",
    "        erroref=1+tolf\n",
    "        while errorex>tolx and erroref > tolf and it < nmax:\n",
    "            \n",
    "            fxm1=fname(xm1)\n",
    "            fx0=fname(x0)\n",
    "            d=(fx0-fxm1)/(x0-xm1)\n",
    "\n",
    "            x1=x0-fx0/d \n",
    "          \n",
    "            \n",
    "            fx1=fname(x1)\n",
    "            xk.append(x1);\n",
    "            if x1!=0:\n",
    "                errorex=abs(x1-x0)/abs(x1) \n",
    "            else:\n",
    "                errorex=abs(x1-x0)\n",
    "                \n",
    "            erroref=abs(fx1) \n",
    "            xm1=abs(x0)\n",
    "            x0=abs(x1)\n",
    "            \n",
    "            it=it+1;\n",
    "           \n",
    "       \n",
    "        if it==nmax:\n",
    "           print('Secanti: raggiunto massimo numero di iterazioni \\n')\n",
    "        \n",
    "        return x1,it,xk\n",
    " "
   ]
  },
  {
   "cell_type": "code",
   "execution_count": 8,
   "id": "5e9dbe4b-cf01-47e6-a9a5-521574e65fe5",
   "metadata": {},
   "outputs": [],
   "source": [
    "def newton(fname,fpname,x0,tolx,tolf,nmax):\n",
    "  \n",
    "        xk=[]\n",
    "       \n",
    "        it=0\n",
    "        errorex=1+tolx\n",
    "        erroref=1+tolf\n",
    "        while errorex>tolx and erroref > tolf and it<nmax:\n",
    "           \n",
    "           fx0=fname(x0)\n",
    "           if fpname(x0)==0:\n",
    "                print(\" derivata prima nulla in x0\")\n",
    "                return None, None,None\n",
    "           d=fx0-fpname(x0)\n",
    "\n",
    "           x1=x0-d\n",
    "\n",
    "           fx1=fname(x1)\n",
    "           erroref=np.abs(fx1)\n",
    "           if x1!=0:\n",
    "                errorex=abs(x1-x0)/abs(x1)\n",
    "           else:\n",
    "                errorex=abs(x1-x0)\n",
    "\n",
    "           it=it+1\n",
    "           x0=x1\n",
    "           xk.append(x1)\n",
    "          \n",
    "        if it==nmax:\n",
    "            print('Newton: raggiunto massimo numero di iterazioni \\n')\n",
    "            \n",
    "        \n",
    "        return x1,it,xk\n"
   ]
  },
  {
   "cell_type": "markdown",
   "id": "20bbe42c-264f-40aa-887c-1505be3c0d50",
   "metadata": {},
   "source": [
    "**Sperimentazione numerica**"
   ]
  },
  {
   "cell_type": "markdown",
   "id": "22339d84-a5cc-4950-a537-104611a315f8",
   "metadata": {},
   "source": [
    "## Esercizio 1 \n",
    "\n",
    " Confrontare i metodi sopra implementati nei casi seguenti:\n",
    "- f(x) = $x^3-6x^2-4x+24$ in [-3,8], tolx = 1.e − 12, tolf = 1.e − 12, (soluzione esatta alfa=-2,2,6);\n",
    "- f(x) = exp(−x) − (x + 1) in [−1, 2]  tolx = 1.e − 12, tolf = 1.e − 12, (soluzione esatta alfa=0);\n",
    "- f(x) = log2(x + 3) − 2 in [−1, 2]  tolx = 1.e − 12, tolf = 1.e − 12, (soluzione esatta alfa=1);\n",
    "- f(x) =sqrt(x)-(x^2)/4 in [1, 3]  tolx = 1.e − 12, tolf =1.e − 12, (soluzione esatta alfa=2**(4/3))\n",
    "\n",
    "Mostrare in un grafico in scala semilogaritmica sulle ordinate (comando semilogy) l’andamento di ek = |xk − α|, k = 1, ..., nit, sapendo che α = 0, 1, 2**(4/3) nei casi 2-4.\n"
   ]
  },
  {
   "cell_type": "code",
   "execution_count": 24,
   "id": "2872c712-67d6-4a03-9ec6-656bfd681b17",
   "metadata": {},
   "outputs": [
    {
     "name": "stdin",
     "output_type": "stream",
     "text": [
      "Scegli funzione di cui calcolare lo zero 1\n"
     ]
    },
    {
     "data": {
      "image/png": "[encoded data removed]",
      "text/plain": [
       "<Figure size 640x480 with 1 Axes>"
      ]
     },
     "metadata": {},
     "output_type": "display_data"
    },
    {
     "ename": "NameError",
     "evalue": "name 'falsi' is not defined",
     "output_type": "error",
     "traceback": [
      "\u001b[0;31m---------------------------------------------------------------------------\u001b[0m",
      "\u001b[0;31mNameError\u001b[0m                                 Traceback (most recent call last)",
      "Cell \u001b[0;32mIn[24], line 51\u001b[0m\n\u001b[1;32m     48\u001b[0m maxit\u001b[38;5;241m=\u001b[39m\u001b[38;5;241m1000\u001b[39m\n\u001b[1;32m     49\u001b[0m zero,it,xk \u001b[38;5;241m=\u001b[39m metodo_bisezione(f, a1, b1, tolx)\n\u001b[0;32m---> 51\u001b[0m zero_f,it_f,xk_f \u001b[38;5;241m=\u001b[39m falsi(f, a1, b1, maxit, tolx,tolf)\n\u001b[1;32m     54\u001b[0m xk\u001b[38;5;241m=\u001b[39mnp\u001b[38;5;241m.\u001b[39marray(xk)\n\u001b[1;32m     56\u001b[0m \u001b[38;5;28;01mif\u001b[39;00m (zero\u001b[38;5;241m!=\u001b[39m\u001b[38;5;28;01mNone\u001b[39;00m):\n",
      "\u001b[0;31mNameError\u001b[0m: name 'falsi' is not defined"
     ]
    }
   ],
   "source": [
    "# Esempio di utilizzo\n",
    "import numpy as np\n",
    "import matplotlib.pyplot as plt\n",
    " \n",
    " \n",
    "scelta=int(input(\"Scegli funzione di cui calcolare lo zero\"))\n",
    "\n",
    "match scelta:\n",
    "    \n",
    "    case 1:\n",
    "        f= lambda x:x**3-6*x**2-4*x+24\n",
    "        #Intervallo di definizione\n",
    "        a = -3\n",
    "        b = 8\n",
    "        alfa=-2  #Uno dei valori in cui si annulla la funzioe\n",
    "        #Intervallo in cui è contenuta la prima soluzione\n",
    "        a1=-3.0\n",
    "        b1=0.0\n",
    "    case 2:\n",
    "        f= lambda x: np.exp(-x)-(x+1)\n",
    "        alfa=0\n",
    "        a1 = -1\n",
    "        b1 = 2\n",
    "        a=a1\n",
    "        b=b1\n",
    "    case 3:\n",
    "        f=  lambda x: np.log2(x+3)-2 #log_b(a)=log(a)/log(b)\n",
    "        alfa= 1\n",
    "        a1 = -1\n",
    "        b1 = 2\n",
    "        a=a1\n",
    "        b=b1\n",
    "\n",
    "    case 4:\n",
    "        f= lambda x: np.sqrt(x)-(x**2)/4 \n",
    "        alfa=2.0**(4/3.0)\n",
    "        a1 = 1\n",
    "        b1 = 3\n",
    "        a=a1\n",
    "        b=b1\n",
    "\n",
    "xx=np.linspace(a,b,100)\n",
    "plt.plot(xx,f(xx),xx,np.zeros_like(xx))\n",
    " \n",
    "plt.show()\n",
    "tolx = 1e-12\n",
    "tolf=1e-12\n",
    "maxit=1000\n",
    "zero,it,xk = metodo_bisezione(f, a1, b1, tolx)\n",
    " \n",
    "zero_f,it_f,xk_f = falsi(f, a1, b1, maxit, tolx,tolf)\n",
    " \n",
    " \n",
    "xk=np.array(xk)\n",
    "\n",
    "if (zero!=None):\n",
    "    print(\"Lo zero approssimato da bisezione è: \",zero, \"Valore di f in \",zero, \"--->\", f(zero), \"Numero di iterazioni \",it)\n",
    "    ek=np.abs(xk-alfa)\n",
    "    plt.semilogy(range(it),ek,'-s')\n",
    "\n",
    "xk_f=np.array(xk_f)\n",
    "if (zero_f!=None):\n",
    "    print(\"Lo zero approssimato da falsa posizione è: \",zero_f, \"Valore di f in \",zero_f, \"--->\", f(zero_f),\"Numero di iterazioni \",it_f)\n",
    "    ek_f=np.abs(xk_f-alfa)\n",
    "    plt.semilogy(range(it_f),ek_f,'-s')\n",
    "\n",
    "plt.legend(['Bisezione','Falsa Posizione'])"
   ]
  },
  {
   "cell_type": "code",
   "execution_count": null,
   "id": "e8dbbd6f-c8c0-4603-b6d8-f9fadc3124aa",
   "metadata": {},
   "outputs": [],
   "source": [
    "fname= lambda x: x**3-6*x**2-4*x+24\n",
    "a =-3\n",
    "b=8\n",
    "tolx=1e-12\n",
    "tolf=1e-12\n",
    "maxit= 100\n",
    "coeff_ang = (fname(b) - fname(a)) / (b - a)\n",
    "x0=a\n",
    "xk, it, v_xk = metodo_bisezione(fname, a, b, tolx)\n",
    "print(\"metodo di bisezione xk: \", xk)\n",
    "xk_f, it_f, v_xk_f = falsa_posizione(fname,a,b,tolx,tolf,maxit)\n",
    "print(\"metodo regula falsi xk: \", xk_f)\n",
    "xk_c, it_c, v_xk_c = corde(fname,coeff_ang,x0,tolx,tolf,maxit)\n",
    "print(\"metodo delle corde xk: \", xk_c)"
   ]
  },
  {
   "cell_type": "code",
   "execution_count": null,
   "id": "383fa765-ecc1-4705-9392-2361d7b2b02c",
   "metadata": {},
   "outputs": [],
   "source": []
  },
  {
   "cell_type": "code",
   "execution_count": null,
   "id": "62213b91-afd1-488d-879d-88851ddcda1b",
   "metadata": {},
   "outputs": [],
   "source": []
  },
  {
   "cell_type": "markdown",
   "id": "d9787fdd-725e-4803-b148-8a137e4335c8",
   "metadata": {},
   "source": [
    "## Esercizio 2\n",
    "\n",
    "- Utilizzare il metodo di bisezione per calcolare la radice quadrata di 2. Analizzate i risultati."
   ]
  },
  {
   "cell_type": "code",
   "execution_count": 16,
   "id": "90b2d41e-13ad-4f64-944c-917edeb99993",
   "metadata": {},
   "outputs": [
    {
     "data": {
      "image/png": "[encoded data removed]",
      "text/plain": [
       "<Figure size 640x480 with 1 Axes>"
      ]
     },
     "metadata": {},
     "output_type": "display_data"
    },
    {
     "name": "stdout",
     "output_type": "stream",
     "text": [
      "zero = 1.4142135623724243  numero di iterazioni  40\n"
     ]
    },
    {
     "data": {
      "text/plain": [
       "<matplotlib.legend.Legend at 0x14844f1d0>"
      ]
     },
     "execution_count": 16,
     "metadata": {},
     "output_type": "execute_result"
    },
    {
     "data": {
      "image/png": "[encoded data removed]",
      "text/plain": [
       "<Figure size 640x480 with 1 Axes>"
      ]
     },
     "metadata": {},
     "output_type": "display_data"
    }
   ],
   "source": [
    "import matplotlib.pyplot as plt\n",
    "import numpy as np\n",
    "f4=lambda x: x**2-2\n",
    "\n",
    "a=1.0\n",
    "b=2.0\n",
    "xx=np.linspace(a,b,100)\n",
    "plt.plot(xx,f4(xx),xx,np.zeros_like(xx))\n",
    "plt.show()\n",
    "tolx=1e-12\n",
    "tolf=1e-12\n",
    "maxit= 1000\n",
    "\n",
    "zero_b_4,it_b_4,xk_b_4 = metodo_bisezione(f4, a, b, tolx)\n",
    "\n",
    "alfa=np.sqrt(2)\n",
    "err_rel_bis_4=np.abs(np.array(xk_b_4)-alfa)\n",
    "print(\"zero =\",zero_b_4,\" numero di iterazioni \",it_b_4)\n",
    "plt.semilogy(range(it_b_4),err_rel_bis_4,'r-o')\n",
    "plt.legend(['Bisezione'])"
   ]
  },
  {
   "cell_type": "markdown",
   "id": "b83adaa1-7bed-4e12-9c11-4b0cd149a541",
   "metadata": {},
   "source": [
    "## Esercizio 3\n",
    "Scrivere una funzione numpy che calcola la norma infinito e la norma 1 di un vettore ed una matrice  e testarla su vettori e matrici  a propria scelta. Confrontarne i risultati con quelli ottenuti utilizzando la funzione norm di numpy.linalg\n",
    "\n",
    "(Ricorda la formula della norma infinito e della norma 1 di una matrice\n",
    "$||A||_\\infty= \\max_{j=1,n} \\sum_{i} |a_{ij}| $\n",
    "$\\quad ||A||_1= \\max_{i=1,n} \\sum_{j} |a_{ij}| $)"
   ]
  },
  {
   "cell_type": "code",
   "execution_count": 19,
   "id": "59f82746-cd8a-4559-ba59-ffb9da2dc265",
   "metadata": {},
   "outputs": [
    {
     "name": "stdout",
     "output_type": "stream",
     "text": [
      "Norma infinto:  14.0\n",
      "Norma infinito con np.linalg.norm:  5.0\n",
      "Norma1:  5.0\n",
      "Norma 1 con np.linalg.norm:  14.0\n"
     ]
    }
   ],
   "source": [
    "def norma_infinito(A):\n",
    "    c=np.sum(np.abs(A), axis=0)\n",
    "    return np.max(c)\n",
    "\n",
    "def norma1(A):\n",
    "    return np.max(np.sum(np.abs(A),axis=1))\n",
    "\n",
    "A=np.array([[2.0],[3],[4],[5]])\n",
    "print(\"Norma infinto: \", norma_infinito(A))\n",
    "print(\"Norma infinito con np.linalg.norm: \", np.linalg.norm(A, np.inf))\n",
    "print(\"Norma1: \", norma1(A))\n",
    "print(\"Norma 1 con np.linalg.norm: \", np.linalg.norm(A, 1))"
   ]
  },
  {
   "cell_type": "markdown",
   "id": "1529f44f-dd62-4109-b9da-edd840811f55",
   "metadata": {},
   "source": [
    "## Esercizio 4\n",
    "Implementare una funzione che calcola la norma 2 di una  matrice facendo uso della funzione eigvals del pacchetto numpy.linalg, (np.linalg.eigvals(A)). Testarla sulla matrice A=np.array([[4,-1,6],[2,3,-3],[1,-2,9/2]])   e confrontarne i risultati con quelli ottenuti utilizzando la funzione norm di numpy.linalg"
   ]
  },
  {
   "cell_type": "code",
   "execution_count": 23,
   "id": "f47d3949-1858-473f-8b16-04dc87829070",
   "metadata": {},
   "outputs": [
    {
     "name": "stdout",
     "output_type": "stream",
     "text": [
      "Norma 2:  9.056251013341882\n",
      "Norma 2 con np:  9.056251013341878\n"
     ]
    }
   ],
   "source": [
    "A = np.array([[4,-1,6],[2,3,-3],[1,-2,9/2]])\n",
    "def norma2(A):\n",
    "    return np.sqrt(np.max(np.abs(np.linalg.eigvals(A.T@A))))\n",
    "print(\"Norma 2: \", norma2(A))\n",
    "print(\"Norma 2 con np: \", np.linalg.norm(A,2))"
   ]
  },
  {
   "cell_type": "code",
   "execution_count": null,
   "id": "fb413c7f-c212-4f28-b0ec-b30e2ac3857c",
   "metadata": {},
   "outputs": [],
   "source": []
  }
 ],
 "metadata": {
  "kernelspec": {
   "display_name": "Python 3 (ipykernel)",
   "language": "python",
   "name": "python3"
  },
  "language_info": {
   "codemirror_mode": {
    "name": "ipython",
    "version": 3
   },
   "file_extension": ".py",
   "mimetype": "text/x-python",
   "name": "python",
   "nbconvert_exporter": "python",
   "pygments_lexer": "ipython3",
   "version": "3.12.7"
  }
 },
 "nbformat": 4,
 "nbformat_minor": 5
}
