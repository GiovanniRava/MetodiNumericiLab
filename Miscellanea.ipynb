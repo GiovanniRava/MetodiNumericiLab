{
 "cells": [
  {
   "cell_type": "code",
   "execution_count": 12,
   "id": "a370c244-90c4-4484-95c7-016f1685578c",
   "metadata": {},
   "outputs": [
    {
     "name": "stdout",
     "output_type": "stream",
     "text": [
      "[[ 4.5  1.   3.   2. ]\n",
      " [ 1.  -8.   2.   1. ]\n",
      " [-1.  -2.  -3.  -1. ]\n",
      " [ 2.   6.   0.   1. ]]\n"
     ]
    }
   ],
   "source": [
    "import numpy as np \n",
    "from SolveTriangular import *\n",
    "A = np.array([[4.5,1,3,2],[1,-8,2,1], [-1,-2,-3,-1],[2,6,0,1]])\n",
    "print(A)"
   ]
  },
  {
   "cell_type": "markdown",
   "id": "d61ce31a-8456-40a9-b628-b79364742ff7",
   "metadata": {},
   "source": [
    "## Esercizio A\n",
    "\n",
    "Data la matrice\n",
    "$$\n",
    "\\left[\n",
    "\\begin{array}{cccc}\n",
    "4.5 & 1 & 3 & 2\\\\\n",
    "1 & -8 & 2 & 1\\\\\n",
    "-1 & -2 & -3 & -1\\\\\n",
    "2 & 6 & 0 & 1\n",
    "\\end{array}\n",
    "\\right ],\n",
    "$$\n",
    "\n",
    "calcolarne la fattorizzazione lu di Gauss  facendo uso della funzione scipy.linalg.lu  e sfruttarla per il calcolo del suo determinante e della sua inversa."
   ]
  },
  {
   "cell_type": "code",
   "execution_count": 5,
   "id": "83673f32-aaf2-4e18-8a9d-e2c2417e773a",
   "metadata": {},
   "outputs": [
    {
     "name": "stdout",
     "output_type": "stream",
     "text": [
      "[[1. 0. 0. 0.]\n",
      " [0. 1. 0. 0.]\n",
      " [0. 0. 1. 0.]\n",
      " [0. 0. 0. 1.]]\n"
     ]
    }
   ],
   "source": [
    "import scipy as sp\n",
    "PT,L,U=sp.linalg.lu(A)\n",
    "P=PT.T\n",
    "print(P)"
   ]
  },
  {
   "cell_type": "code",
   "execution_count": 7,
   "id": "e00d3348-8ed4-4156-8e40-31117a77482b",
   "metadata": {},
   "outputs": [
    {
     "name": "stdout",
     "output_type": "stream",
     "text": [
      "Determinante di A  58.00000000000001\n",
      "Determinante con np.linalg.det(A) =  57.999999999999986\n"
     ]
    }
   ],
   "source": [
    "detA=np.linalg.det(P)*np.prod(np.diag(U))\n",
    "print(\"Determinante di A \", detA)\n",
    "print(\"Determinante con np.linalg.det(A) = \", np.linalg.det(A))"
   ]
  },
  {
   "cell_type": "code",
   "execution_count": 15,
   "id": "f47e3d8e-af3b-4d92-a4ee-e1a884b99ec8",
   "metadata": {},
   "outputs": [],
   "source": [
    "n=4\n",
    "I=np.eye(n)\n",
    "X=np.zeros_like(A)"
   ]
  },
  {
   "cell_type": "code",
   "execution_count": 16,
   "id": "5c0b0fcc-9cb6-4e1e-bd72-854dcb79f5b0",
   "metadata": {},
   "outputs": [],
   "source": [
    "#calcolo della matrice inversa\n",
    "for i in range(n):\n",
    "    b=I[:,i]\n",
    "    y,flag= Lsolve(L,P@b)#permutazione del termine noto b\n",
    "    if flag==0:\n",
    "        x,flag=Usolve(U,y)\n",
    "    X[:,i]=x.reshape(n,)"
   ]
  },
  {
   "cell_type": "code",
   "execution_count": 19,
   "id": "0772c7c2-8251-4203-9b9c-27680a24b42f",
   "metadata": {},
   "outputs": [
    {
     "name": "stdout",
     "output_type": "stream",
     "text": [
      "[[ 0.5862069  -0.36206897  0.34482759 -0.46551724]\n",
      " [-0.01724138 -0.07758621 -0.06896552  0.04310345]\n",
      " [ 0.17241379 -0.22413793 -0.31034483 -0.43103448]\n",
      " [-1.06896552  1.18965517 -0.27586207  1.67241379]]\n",
      "Inversa con np.linalg.inv(A) \n",
      "  [[ 0.5862069  -0.36206897  0.34482759 -0.46551724]\n",
      " [-0.01724138 -0.07758621 -0.06896552  0.04310345]\n",
      " [ 0.17241379 -0.22413793 -0.31034483 -0.43103448]\n",
      " [-1.06896552  1.18965517 -0.27586207  1.67241379]]\n"
     ]
    }
   ],
   "source": [
    "print(X)\n",
    "print(\"Inversa con np.linalg.inv(A) \\n \", np.linalg.inv(A))"
   ]
  },
  {
   "cell_type": "markdown",
   "id": "ef4cc6d5-a4a1-4a11-a0d3-f7a1e1a2e68c",
   "metadata": {},
   "source": [
    "## Esercizio A1\n",
    "\n",
    "Data La matrice \n",
    "\n",
    "$$\n",
    "\\left[\n",
    "\\begin{array}{cccc}\n",
    "4.5 & 1 & 3 & 2\\\\\n",
    "1 & -8 & 2 & 1\\\\\n",
    "-1 & -2 & -3 & -1\\\\\n",
    "2 & 6 & 0 & 1\n",
    "\\end{array}\n",
    "\\right ],\n",
    "$$\n",
    "dire se esiste la fattorizzaione LU senza pivotaggio a perno massimo, verificando le ipotesi del teorema di esistenza della fattorizzazione LU"
   ]
  },
  {
   "cell_type": "code",
   "execution_count": 21,
   "id": "774cb7b2-4ce8-4635-ac6c-9833b2275641",
   "metadata": {},
   "outputs": [
    {
     "name": "stdout",
     "output_type": "stream",
     "text": [
      "4.5\n",
      "-37.0\n",
      "97.0\n"
     ]
    }
   ],
   "source": [
    "A1= np.array([[4.5,1,3,2],[1,-8,2,1],[-1,-2,-3,-1],[2,6,0,1]])\n",
    "n1=4\n",
    "for i in range(1,n1):\n",
    "    print(np.linalg.det(A[:i,:i]))"
   ]
  },
  {
   "cell_type": "code",
   "execution_count": 22,
   "id": "7193fcf2-8b9a-4606-abfb-4630de316afe",
   "metadata": {},
   "outputs": [
    {
     "name": "stdout",
     "output_type": "stream",
     "text": [
      "[[ 21.    37.    57.5 ]\n",
      " [ 37.    94.    72.5 ]\n",
      " [ 57.5   72.5  186.25]]\n"
     ]
    }
   ],
   "source": [
    "A2=np.array([[21,37,57.5],[37,94,72.5],[57.5,72.5,186.25]])\n",
    "print(A2)"
   ]
  },
  {
   "cell_type": "code",
   "execution_count": 24,
   "id": "d2bdf58a-fc1f-4cf8-999a-aeaf7508d28a",
   "metadata": {},
   "outputs": [
    {
     "name": "stdout",
     "output_type": "stream",
     "text": [
      "21.0\n",
      "604.9999999999997\n",
      "-9.326929325488851e-12\n"
     ]
    }
   ],
   "source": [
    "n2=3\n",
    "for i in range(1,n2+1):#se dico da 1 a n2 il range esclude l'ultima\n",
    "    print(np.linalg.det(A2[:i,:i]))"
   ]
  },
  {
   "cell_type": "markdown",
   "id": "bf9eaf45-e9ab-4bfb-b294-6ccd148279e2",
   "metadata": {},
   "source": [
    "## Esercizio B\n",
    "- Implementare la function  per il calcolo del polinomio interpolatore di Lagrange\n",
    "\n",
    "- Realizzare uno script python che interpola le coppie $x_i,y_i$, $i=0,\\cdots,3$\n",
    "dove $x_i,i=0,4$ sono punti equidistanti nell' intervallo [-2,2] e $y_i=f(x_i)$ dove $f(x)=5x^4+2x^2+2x-1$ \n",
    "\n",
    "- Visualizzare il polinomio interpolatore, i nodi dell'interpolazione\n",
    "\n",
    "- Visualizzare l'errore assoluto tra il polinomio interpolatore e la funzione che ha generato i dati\n",
    "\n",
    "- Commentare i risultati alla luce della teoria.\n"
   ]
  },
  {
   "cell_type": "code",
   "execution_count": 33,
   "id": "e688f13a-ecba-439d-a7b8-dd7f84b00d10",
   "metadata": {},
   "outputs": [],
   "source": [
    "def plagr(xnodi,j):\n",
    "    \n",
    "    xzeri=np.zeros_like(xnodi)\n",
    "    n=xnodi.size\n",
    "    if j==0:\n",
    "       xzeri==xnodi[1:n]\n",
    "    else:\n",
    "       xzeri=np.append(xnodi[0:j],xnodi[j+1:n])\n",
    "    \n",
    "    num= np.poly(xzeri)#coefficient\n",
    "    den= np.polyval(num,xnodi[j])\n",
    "    \n",
    "    p=num/den \n",
    "    \n",
    "    return p\n",
    "\n",
    "\n",
    "\n",
    "def InterpL(x, y, xx):\n",
    "     \n",
    "     n=x.size\n",
    "     m=xx.size\n",
    "     L=np.zeros((m,n))\n",
    "     for j in range(n):\n",
    "        p=plagr(x,j)\n",
    "        L[:,j]=np.polyval(p,xx) \n",
    "    \n",
    "    \n",
    "     return L@y  "
   ]
  },
  {
   "cell_type": "code",
   "execution_count": 34,
   "id": "7feb1177-0d78-42fe-8158-1f79a511beef",
   "metadata": {},
   "outputs": [
    {
     "ename": "ValueError",
     "evalue": "operands could not be broadcast together with shapes (5,) (4,) ",
     "output_type": "error",
     "traceback": [
      "\u001b[0;31m---------------------------------------------------------------------------\u001b[0m",
      "\u001b[0;31mValueError\u001b[0m                                Traceback (most recent call last)",
      "Cell \u001b[0;32mIn[34], line 7\u001b[0m\n\u001b[1;32m      5\u001b[0m y\u001b[38;5;241m=\u001b[39mf(x)\n\u001b[1;32m      6\u001b[0m xv\u001b[38;5;241m=\u001b[39mnp\u001b[38;5;241m.\u001b[39mlinspace(\u001b[38;5;241m-\u001b[39m\u001b[38;5;241m2\u001b[39m,\u001b[38;5;241m2\u001b[39m,\u001b[38;5;241m100\u001b[39m)\n\u001b[0;32m----> 7\u001b[0m polL\u001b[38;5;241m=\u001b[39mInterpL(x,y,xv)\n\u001b[1;32m      8\u001b[0m plt\u001b[38;5;241m.\u001b[39mplot(xv,polL,\u001b[38;5;124m'\u001b[39m\u001b[38;5;124mr-\u001b[39m\u001b[38;5;124m'\u001b[39m,x,y,\u001b[38;5;124m'\u001b[39m\u001b[38;5;124mbo\u001b[39m\u001b[38;5;124m'\u001b[39m,xv,f(xv),\u001b[38;5;124m'\u001b[39m\u001b[38;5;124mg-\u001b[39m\u001b[38;5;124m'\u001b[39m)\n",
      "Cell \u001b[0;32mIn[33], line 25\u001b[0m, in \u001b[0;36mInterpL\u001b[0;34m(x, y, xx)\u001b[0m\n\u001b[1;32m     23\u001b[0m L\u001b[38;5;241m=\u001b[39mnp\u001b[38;5;241m.\u001b[39mzeros((m,n))\n\u001b[1;32m     24\u001b[0m \u001b[38;5;28;01mfor\u001b[39;00m j \u001b[38;5;129;01min\u001b[39;00m \u001b[38;5;28mrange\u001b[39m(n):\n\u001b[0;32m---> 25\u001b[0m    p\u001b[38;5;241m=\u001b[39mplagr(x,j)\n\u001b[1;32m     26\u001b[0m    L[:,j]\u001b[38;5;241m=\u001b[39mnp\u001b[38;5;241m.\u001b[39mpolyval(p,xx) \n\u001b[1;32m     29\u001b[0m \u001b[38;5;28;01mreturn\u001b[39;00m L\u001b[38;5;129m@y\u001b[39m\n",
      "Cell \u001b[0;32mIn[33], line 6\u001b[0m, in \u001b[0;36mplagr\u001b[0;34m(xnodi, j)\u001b[0m\n\u001b[1;32m      4\u001b[0m n\u001b[38;5;241m=\u001b[39mxnodi\u001b[38;5;241m.\u001b[39msize\n\u001b[1;32m      5\u001b[0m \u001b[38;5;28;01mif\u001b[39;00m j\u001b[38;5;241m==\u001b[39m\u001b[38;5;241m0\u001b[39m:\n\u001b[0;32m----> 6\u001b[0m    xzeri\u001b[38;5;241m==\u001b[39mxnodi[\u001b[38;5;241m1\u001b[39m:n]\n\u001b[1;32m      7\u001b[0m \u001b[38;5;28;01melse\u001b[39;00m:\n\u001b[1;32m      8\u001b[0m    xzeri\u001b[38;5;241m=\u001b[39mnp\u001b[38;5;241m.\u001b[39mappend(xnodi[\u001b[38;5;241m0\u001b[39m:j],xnodi[j\u001b[38;5;241m+\u001b[39m\u001b[38;5;241m1\u001b[39m:n])\n",
      "\u001b[0;31mValueError\u001b[0m: operands could not be broadcast together with shapes (5,) (4,) "
     ]
    }
   ],
   "source": [
    "import matplotlib.pyplot as plt\n",
    "n=4\n",
    "x=np.linspace(-2,2,n+1)\n",
    "f=lambda x: 5*x**4+2*x**2+2*x-1\n",
    "y=f(x)\n",
    "xv=np.linspace(-2,2,100)\n",
    "polL=InterpL(x,y,xv)\n",
    "plt.plot(xv,polL,'r-',x,y,'bo',xv,f(xv),'g-')"
   ]
  },
  {
   "cell_type": "code",
   "execution_count": 29,
   "id": "255740e7-ce34-4be4-8c84-8c68cae6aaec",
   "metadata": {},
   "outputs": [],
   "source": []
  },
  {
   "cell_type": "markdown",
   "id": "ee97d047-97be-43c7-a721-fe588e6a2c4c",
   "metadata": {},
   "source": [
    "## Esercizio C\n",
    "Per i dati $(x_i, y_i)$ riportati nei seguenti array\n",
    "\n",
    "x = np.array([0.0004, 0.2507, 0.5008, 2.0007, 8.0013]) \n",
    "\n",
    "y = np.array([0.0007,0.0162, 0.0288, 0.0309, 0.0310])\n",
    "\n",
    "- costruire la retta di regressione;\n",
    "- costruire la parabola approssimante i dati nel senso dei minimi quadrati;\n",
    "- determinare l'approssimazione ai minimi quadrati espressa in termini di\n",
    "basi esponenziali: $y = a + b e^{-x}+ c e^{-2x}$\n",
    "\n",
    "Quale tra le tre approssimazioni risulta la migliore? (Confrontare i grafici e la norma euclidea al quadrato del vettore dei residui)."
   ]
  },
  {
   "cell_type": "code",
   "execution_count": 38,
   "id": "321106b4-db8b-4975-97ab-cba9d658a6b9",
   "metadata": {},
   "outputs": [
    {
     "name": "stdout",
     "output_type": "stream",
     "text": [
      "[[1.0000e+00 4.0000e-04]\n",
      " [1.0000e+00 2.5070e-01]\n",
      " [1.0000e+00 5.0080e-01]\n",
      " [1.0000e+00 2.0007e+00]\n",
      " [1.0000e+00 8.0013e+00]]\n",
      "condizionamento  4.663457775986457\n"
     ]
    }
   ],
   "source": [
    "xc = np.array([0.0004, 0.2507, 0.5008, 2.0007, 8.0013])\n",
    "yc = np.array([0.0007,0.0162, 0.0288, 0.0309, 0.0310])\n",
    "#costruire la matrice di vandermont \n",
    "nc=1\n",
    "Ac1=np.vander(xc,increasing=True)[:,:nc+1]\n",
    "print(Ac1)\n",
    "condAc1=np.linalg.cond(Ac1)\n",
    "print(\"condizionamento \", condAc1)"
   ]
  },
  {
   "cell_type": "code",
   "execution_count": 42,
   "id": "4cf9db13-6d44-4644-8d07-4079a684dd53",
   "metadata": {},
   "outputs": [],
   "source": [
    "#il condizionamneto è basso quindi\n",
    "def eqnorm(A,b):\n",
    " \n",
    "    G= A.T@A\n",
    "    f=A.T@b\n",
    "    \n",
    "    L=sp.linalg.cholesky(G,lower=True)\n",
    "    U=L.T\n",
    "    y,flag =Lsolve(L,f)\n",
    "    if flag == 0:\n",
    "        x,flag=Usolve(U,y)\n",
    "    return x\n"
   ]
  },
  {
   "cell_type": "code",
   "execution_count": 54,
   "id": "0a02c39c-7f0a-4bf7-8a85-a8eb17a51d57",
   "metadata": {},
   "outputs": [
    {
     "name": "stdout",
     "output_type": "stream",
     "text": [
      "[[1.00000000e+00 4.00000000e-04 1.60000000e-07]\n",
      " [1.00000000e+00 2.50700000e-01 6.28504900e-02]\n",
      " [1.00000000e+00 5.00800000e-01 2.50800640e-01]\n",
      " [1.00000000e+00 2.00070000e+00 4.00280049e+00]\n",
      " [1.00000000e+00 8.00130000e+00 6.40208017e+01]]\n",
      "condizionamento  65.67493525624798\n",
      "Matrice M  [[1.00000000e+00 9.99600080e-01 9.99200320e-01]\n",
      " [1.00000000e+00 7.78255813e-01 6.05682111e-01]\n",
      " [1.00000000e+00 6.06045629e-01 3.67291305e-01]\n",
      " [1.00000000e+00 1.35240582e-01 1.82900149e-02]\n",
      " [1.00000000e+00 3.35026810e-04 1.12242963e-07]]\n",
      "condizionamento M  18.45808953019451\n"
     ]
    },
    {
     "data": {
      "text/plain": [
       "[<matplotlib.lines.Line2D at 0x135dd4080>,\n",
       " <matplotlib.lines.Line2D at 0x135d9b020>,\n",
       " <matplotlib.lines.Line2D at 0x135c9d010>,\n",
       " <matplotlib.lines.Line2D at 0x135dd4050>]"
      ]
     },
     "execution_count": 54,
     "metadata": {},
     "output_type": "execute_result"
    },
    {
     "data": {
      "image/png": "[encoded data removed]",
      "text/plain": [
       "<Figure size 640x480 with 1 Axes>"
      ]
     },
     "metadata": {},
     "output_type": "display_data"
    }
   ],
   "source": [
    "a1=eqnorm(Ac1,yc)\n",
    "xvc=np.linspace(np.min(xc),np.max(xc))\n",
    "pol1=np.polyval(np.flip(a1),xvc)\n",
    "\n",
    "nc=2\n",
    "Ac2=np.vander(xc,increasing=True)[:,:nc+1]\n",
    "print(Ac2)\n",
    "condAc2=np.linalg.cond(Ac2)\n",
    "print(\"condizionamento \", condAc2)\n",
    "a2=eqnorm(Ac2,yc)\n",
    "pol2=np.polyval(np.flip(a2),xvc)\n",
    "\n",
    "M=np.zeros((5,3))\n",
    "M[:,0]=np.ones((5,))\n",
    "M[:,1]=np.exp(-xc)\n",
    "M[:,2]=np.exp(-2*xc)\n",
    "print(\"Matrice M \",M)\n",
    "condM=np.linalg.cond(M)\n",
    "print(\"condizionamento M \",condM)\n",
    "aexp=eqnorm(M,yc)\n",
    "polexp=aexp[0]+aexp[1]*np.exp(-xvc)+aexp[2]*np.exp(-2*xvc)\n",
    "plt.plot(xc,yc,'ro',xvc,pol1,xvc,pol2,xvc,polexp)"
   ]
  },
  {
   "cell_type": "markdown",
   "id": "d3626136-ea3b-47bb-861c-4e5de4a8baaf",
   "metadata": {},
   "source": [
    "# Esercizio D\n",
    "\n",
    "La temperatura T in prossimita' del suolo varia al variare della concentrazione k dell'acido carbonico e della latitudine L. Per k=1.5 la temperatura al suolo subisce una variazione dipendente dalla temperatura secondo la seguente tabella \n",
    "\n",
    "L\t[-55\t-45\t-35\t-25\t-15\t-5\t5\t15\t25\t35\t45\t55\t65]\n",
    "\n",
    "T\t[3.7\t3.7\t3.52\t3.27\t3.2\t3.15\t3.15\t3.25\t3.47\t3.52\t3.65\t3.67\t3.52]\n",
    "\n",
    "Si vuole costruire un MODELLO che descriva la legge T=T(L) anche per latitudini non misurate. \n",
    "Ad esempio si vuole valutare la variazione di temperatura a Londra ( L=51°).\n",
    "mediante interpolazione con un polinomio di grado 12.\n",
    "Valutare e disegnare, inoltre, il polinomio interpolatore di Lagrange in un set di 100 dati equidistanti nell’intervallo min(L), max(L).\n",
    "Descrivere i risultati alla luce della teoria."
   ]
  },
  {
   "cell_type": "markdown",
   "id": "d449c9cc-71ed-4c53-a20e-76c6ee75952b",
   "metadata": {},
   "source": [
    "## Esercizio E\n",
    "\n",
    "-  Implementare il  metodo di Newton Raphson, la variante delle corde e la variante di Shamanskii per la soluzione di un sistema non lineare\n",
    "\n",
    "Risolvere il sistema di equazioni non lineare \n",
    "\n",
    "$$\n",
    "\\left[\n",
    "\\begin{array}{c}\n",
    "x_0^2+x_0x_1=10 \\\\\n",
    " x_1+3x_0x_1^2=57\n",
    "\\end{array}\n",
    "\\right.\n",
    "$$\n",
    "con ciascuno dei tre metodi e confrontare per ciascun metodo il grafico dell'errore relativo tra due iterati successivi, giustificando i risultati alla luce della teoria.\n",
    "\n",
    "- Descrivi la variante del Metodod di Newton-Raphson per calcolare il minimo di una funzione non lineare in più variabili\n",
    "\n",
    " \n",
    "\n",
    "**Nota Bene**: Servirsi del metodo grafico per individuare un \n",
    "iterato iniziale  $X_0$ nell'intorno della soluzione che si vuole approssimare. Visualizzare le \n",
    "curve di livello corrisponenti a z=O delle due superfici z = f1 (x1 ,x2 ) e z = f2(x1 , x 2 ) e \n",
    "definire come iterato iniziale un vettore $X_0$ oppurtuno le cui componenti stanno in un \n",
    "intorno della soluzione (punti di intersezione tra le curve di livello delle due superfici) \\]"
   ]
  }
 ],
 "metadata": {
  "kernelspec": {
   "display_name": "Python 3 (ipykernel)",
   "language": "python",
   "name": "python3"
  },
  "language_info": {
   "codemirror_mode": {
    "name": "ipython",
    "version": 3
   },
   "file_extension": ".py",
   "mimetype": "text/x-python",
   "name": "python",
   "nbconvert_exporter": "python",
   "pygments_lexer": "ipython3",
   "version": "3.12.7"
  }
 },
 "nbformat": 4,
 "nbformat_minor": 5
}
