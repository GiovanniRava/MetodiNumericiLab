{
 "cells": [
  {
   "cell_type": "markdown",
   "id": "c33c02f5-a85e-4689-bcba-9a00a03dab3c",
   "metadata": {},
   "source": [
    "# Esercitazione 12\n",
    "**13  Maggio 2025**"
   ]
  },
  {
   "cell_type": "code",
   "execution_count": 3,
   "id": "d5adb01c-9f1b-461f-83d7-a36f78e72bb4",
   "metadata": {},
   "outputs": [],
   "source": [
    "import numpy as np \n",
    "import scipy.linalg as splin\n",
    "from SolveTriangular import *\n",
    "import matplotlib.pyplot as plt"
   ]
  },
  {
   "cell_type": "markdown",
   "id": "f6b59003-c255-41cb-b711-67609181c39e",
   "metadata": {},
   "source": [
    "### Codice EquazioniNormali\n",
    "Implementare la function  **eqnorm(A,b)** che implementa il metodo delle equazioni normali per la soluzione del sistema sovradeterminato Ax=b e che prende in input:\n",
    "- la matrice A di dimensione $m \\times n$ , $m>n$\n",
    "- il termine noto b di ordine m\n",
    "restituisce in output\n",
    "- la soluzione del sistema lineare "
   ]
  },
  {
   "cell_type": "code",
   "execution_count": 21,
   "id": "9c7559da-ec31-408d-bfce-fbc7e16d6bb6",
   "metadata": {},
   "outputs": [],
   "source": [
    "\n",
    "def eqnorm(A,b):\n",
    " \n",
    "    G= A.T@A\n",
    "    print(np.linalg.cond(G))\n",
    "    f= A.T@b\n",
    "    \n",
    "    L=splin.cholesky(G, lower=True)\n",
    "    U=L.T\n",
    "\n",
    "    z,flag = Lsolve(L,f)\n",
    "    if flag == 0:\n",
    "        x,flag = SolveTriangular.Usolve(U,z)\n",
    "        \n",
    "        \n",
    "    return x"
   ]
  },
  {
   "cell_type": "markdown",
   "id": "cdd19909-e613-455a-a98e-dd5e8175a835",
   "metadata": {},
   "source": [
    "### Codice QRLS\n",
    "Implementare la function  **qrLS(A,b)** che utilizza il metodo QR per la soluzione del sistema sovradeterminato Ax=b e che prende in input:\n",
    "- la matrice A di dimensione $m \\times n$ , $m>n$\n",
    "- il termine noto b di ordine m\n",
    "restituisce in output\n",
    "- la soluzione del sistema lineare e la norma 2 al quadrato del residuo."
   ]
  },
  {
   "cell_type": "code",
   "execution_count": 13,
   "id": "b5170152-8da1-42dc-929f-9cd9466d0023",
   "metadata": {},
   "outputs": [],
   "source": [
    "def qrLS(A,b):\n",
    "    n=A.shape[1]  # numero di colonne di A\n",
    "    Q,R=splin.qr(A)\n",
    "    h=Q.T@b\n",
    "    x,flag = Usolve(R[0:n,:],h[0:n])\n",
    "    residuo=np.linalg.norm(h[n:]**2)\n",
    "    \n",
    "    return x,residuo"
   ]
  },
  {
   "cell_type": "markdown",
   "id": "5efe494f-3f53-4dfb-8601-fcee7f691691",
   "metadata": {},
   "source": [
    "### Codice SVDLS\n",
    "Implementare la function  **svdLS(A,b)** che utilizza  il metodo SVD per la soluzione del sistema sovradeterminato Ax=b e che prende in input:\n",
    "- la matrice A di dimensione $m \\times n$ , $m>n$\n",
    "- il termine noto b di ordine m\n",
    "restituisce in output\n",
    "- la soluzione del sistema lineare e la norma 2 al quadrato del residuo."
   ]
  },
  {
   "cell_type": "code",
   "execution_count": 17,
   "id": "7ed586cc-5fb8-40f2-af5d-31100d08976c",
   "metadata": {},
   "outputs": [],
   "source": [
    "def SVDLS(A,b):\n",
    "    m,n=A.shape  #numero di righe e  numero di colonne di A\n",
    "    U,s,VT=splin.svd(A)  \n",
    "    \n",
    "    V=VT.T\n",
    "    thresh=np.spacing(1)*m*s[0] ##Calcolo del rango della matrice, numero dei valori singolari maggiori di una soglia\n",
    "    k=np.count_nonzero(s>thresh)#rango\n",
    "    \n",
    "    d=U.T@b \n",
    "    d1=d[:k].reshape(k,1)\n",
    "    s1=s[:k].reshape(k,1) \n",
    "    \n",
    "    c=d1/s1\n",
    "    x=V[:,:k]@c \n",
    "    residuo=np.linalg.norm(d[k:])**2\n",
    "    return x,residuo\n",
    "     "
   ]
  },
  {
   "cell_type": "code",
   "execution_count": null,
   "id": "1bac28e8-52cc-48b4-89b4-caefc41d951c",
   "metadata": {},
   "outputs": [],
   "source": []
  },
  {
   "cell_type": "markdown",
   "id": "12228038-aafe-45b0-803b-8ad5d3a2925c",
   "metadata": {},
   "source": [
    "## Esercizio 1\n",
    "- Si utilizzino i tre metodi implementati  per l'approssimazione ai minimi quadrati delle seguenti configurazioni di dati:\n",
    "\n",
    "$$\n",
    "\\begin{array}{l}\n",
    "x_1 = [-3.5, \\, -3, \\, -2, \\, -1.5, \\, -0.5, \\, 0.5, \\, 1.7, \\, 2.5, \\, 3] ;\\\\\n",
    "y_1 = [-3.9, \\, -4.8, \\, -3.3, \\, -2.5, \\, 0.3, \\, 1.8, \\, 4, \\, 6.9, \\, 7.1] ;\\\\\n",
    "x_2 = [-3.14, \\, -2.4, \\, -1.57, \\, -0.7, \\, -0.3, \\, 0, \\, 0.4, \\, 0.7, \\, 1.57] ;\\\\\n",
    "y_2 = [0.02, \\, -1, \\, -0.9, \\, -0.72, \\, -0.2, \\, -0.04, \\, 0.65, \\, 0.67, \\, 1.1] ;\\\\\n",
    "x_3 = [[1.001,\\, 1.004,\\, 1.005,\\,1.0012, \\,1.0013,  \\, 1.0014,  \\, 1.0015, \\, 1.0016] ;\\\\\n",
    "y_3 = [-1.2, \\, -0.95, \\, -0.9, \\, -1.15, \\, -1.1, \\, -1] ;\\\\\n",
    "\\end{array}\n",
    "$$\n",
    "\n",
    "al variare del grado $n$ tra 1 e 4.\n",
    "\n"
   ]
  },
  {
   "cell_type": "code",
   "execution_count": 26,
   "id": "9cecff46-9c1b-49d2-8e26-e10eb69dc8d1",
   "metadata": {},
   "outputs": [
    {
     "name": "stdout",
     "output_type": "stream",
     "text": [
      "5.27297104169736\n",
      "Residuo EQN  2.2258970863642764\n",
      "residuo QR  2.2986728920572452\n",
      "Residuo SVD  4.954617839084979\n"
     ]
    },
    {
     "data": {
      "image/png": "[encoded data removed]",
      "text/plain": [
       "<Figure size 640x480 with 1 Axes>"
      ]
     },
     "metadata": {},
     "output_type": "display_data"
    }
   ],
   "source": [
    "x=np.array([-3.5,-3,-2,-1.5,-0.5,0.5,1.7,2.5, 3])\n",
    "y= np.array([-3.9,-4.8,-3.3,-2.5,0.3,1.8,4,6.9,7.1])\n",
    "m=x.shape[0]\n",
    "n=1\n",
    "n1=n+1\n",
    "A = np.vander(x, increasing=True)[:,:n1]\n",
    "alpha_EQN=eqnorm(A,y)\n",
    "residuo_eqn=np.linalg.norm(A@alpha_EQN-y.reshape(m,1))\n",
    "\n",
    "alpha_Qr, residuo_QR = qrLS(A,y)\n",
    "alpha_SVD, residuo_SVD = SVDLS(A,y)\n",
    "\n",
    "print(\"Residuo EQN \",residuo_eqn)\n",
    "print(\"residuo QR \",residuo_QR)\n",
    "print(\"Residuo SVD \",residuo_SVD)\n",
    "xv=np.linspace(np.min(x),np.max(x), 100)\n",
    "pol_EQN=np.polyval(np.flip(alpha_EQN),xv)\n",
    "pol_QR = np.polyval(np.flip(alpha_Qr), xv)\n",
    "pol_SVD = np.polyval(np.flip(alpha_SVD),xv)\n",
    "plt.plot(x,y,'ro',xv,pol_QR)#, xv, pol_SVD, xv,pol_EQN)\n",
    "plt.legend(['punti','qr','svd','eqn'])\n",
    "plt.show()\n",
    "\n",
    "\n",
    "\n"
   ]
  },
  {
   "cell_type": "markdown",
   "id": "a2b6044f-2076-4979-be19-4584ae4857c6",
   "metadata": {},
   "source": [
    "## Esercizio 2: \n",
    "Per i dati $(x_i, y_i)$ riportati nei seguenti array\n",
    "\n",
    "$$\n",
    "\\begin{array}{l}\n",
    "x = [0.0004, \\, 0.2507, \\, 0.5008, \\, 2.0007, \\, 8.0013]  ;\\\\\n",
    "y = [0.0007, \\, 0.0162, \\, 0.0288, \\, 0.0309, \\, 0.0310] ;\n",
    "\\end{array}\n",
    "$$\n",
    "\n",
    "- costruire la retta di regressione;\n",
    "- costruire la parabola approssimante i dati nel senso dei minimi quadrati;\n",
    "\n",
    "Quale tra le due approssimazioni risulta la migliore? (Confrontare i grafici e la norma euclidea al quadrato del vettore dei residui).\n",
    "\n"
   ]
  },
  {
   "cell_type": "code",
   "execution_count": null,
   "id": "87f67c06-0a14-4301-9fbc-666a7017a6f1",
   "metadata": {},
   "outputs": [],
   "source": [
    "ciao \n"
   ]
  },
  {
   "cell_type": "code",
   "execution_count": null,
   "id": "d12a9deb-3805-4614-802e-d3b023cc14d1",
   "metadata": {},
   "outputs": [],
   "source": []
  },
  {
   "cell_type": "markdown",
   "id": "449db6e6-0c16-4adb-aa2c-5dba3524ba34",
   "metadata": {},
   "source": [
    "### Codici per l'interpolazione polinomiale nella forma di Lagrange \n",
    "\n",
    "Scrivere la function **interpL** che calcoli\n",
    "il polinomio interpolante in forma di Lagrange  \n",
    "Tale function deve assumere come dati in input:\n",
    " \n",
    " - x vettore dei nodi di interpolazione,\n",
    "- y vettore dei valori della funzione nei nodi di interpolazione,\n",
    "- xx vettore dei punti in cui si vuole valutare il polinomio interpolante.\n",
    " \n",
    "In output deve essere restituito yy vettore contenente i valori assunti dal polinomio interpolante.\n",
    "\n",
    " \n",
    "Funzioni Python  utili:\n",
    " \n",
    "-  numpy.poly() restituisce i coefficienti di un polinomio di zeri assegnati,\n",
    " - numpy.polyval(p, x)  valuta un polinomio in un punto assegnato.\n",
    " "
   ]
  },
  {
   "cell_type": "code",
   "execution_count": null,
   "id": "556ecb77-6a45-453e-8c36-7dbda424b057",
   "metadata": {},
   "outputs": [],
   "source": []
  },
  {
   "cell_type": "code",
   "execution_count": 40,
   "id": "acd40b17-2220-4b66-8a92-780c2d34786b",
   "metadata": {},
   "outputs": [
    {
     "name": "stdout",
     "output_type": "stream",
     "text": [
      "Condizionamneto A2:  4.663457775986457\n",
      "21.747838428408542\n"
     ]
    },
    {
     "data": {
      "image/png": "[encoded data removed]",
      "text/plain": [
       "<Figure size 640x480 with 1 Axes>"
      ]
     },
     "metadata": {},
     "output_type": "display_data"
    }
   ],
   "source": [
    "x2=np.array([0.0004,0.2507,0.5008,2.0007,8.0013])\n",
    "y2=np.array([0.0007,0.0162,0.0288,0.0309,0.0310])\n",
    "m=x2.shape[0]\n",
    "n = 1\n",
    "n1=n+1\n",
    "A2 = np.vander(x2, increasing=True)[:,:n1]\n",
    "condA2 = np.linalg.cond(A2)\n",
    "print(\"Condizionamneto A2: \", condA2)\n",
    "alpha2=eqnorm(A2,y2)\n",
    "xv=np.linspace(np.min(x2), np.max(x2), 100)\n",
    "pol2=np.polyval(np.flip(alpha2),xv)\n",
    "plt.plot(xv, pol2, x2, y2, 'ro')\n",
    "plt.legend(['pol2','punti'])\n",
    "plt.show()\n"
   ]
  },
  {
   "cell_type": "markdown",
   "id": "f7d15360-78df-45b5-96a7-4e7204dd7370",
   "metadata": {},
   "source": [
    "## Esercizio 1\n",
    "\n",
    "Realizzare uno script che calcoli nella forma di Lagrange i polinomi che\n",
    "interpolano le funzioni test $\\sin(x)$ e $\\cos(x)$ nei punti $x_k = k \\pi/2$, con\n",
    "$k = 0, 1, 2, 3, 4$. Visualizzare graficamente i polinomi ottenuti insieme\n",
    "alle funzioni assegnate."
   ]
  },
  {
   "cell_type": "code",
   "execution_count": 43,
   "id": "4094c1bc-bc9e-4952-a46f-07ebaa8c7ed9",
   "metadata": {},
   "outputs": [
    {
     "data": {
      "image/png": "[encoded data removed]",
      "text/plain": [
       "<Figure size 640x480 with 1 Axes>"
      ]
     },
     "metadata": {},
     "output_type": "display_data"
    }
   ],
   "source": [
    "n3=2\n",
    "n4=n3+1\n",
    "A2 = np.vander(x2, increasing=True)[:,:n4]\n",
    "\n",
    "alpha2,residue_QR=qrLS(A2,y2)\n",
    "xv=np.linspace(np.min(x2), np.max(x2), 100)\n",
    "pol2=np.polyval(np.flip(alpha2),xv)\n",
    "plt.plot(xv, pol2, x2, y2, 'ro')\n",
    "plt.legend(['pol2','punti'])\n",
    "plt.show()"
   ]
  },
  {
   "cell_type": "markdown",
   "id": "f877f517-524c-4f81-9310-3fd5d4833983",
   "metadata": {},
   "source": [
    "## Esercizio 2\n",
    "Realizzare uno script python che interpola le coppie $x_i,y_i$, $i=0,\\cdots,3$\n",
    "dove $x_i,i=0,3$ sono punti equidistanti nell' intervallo [-1,1] e $y_i=f(x_i)$ dove $f(x)=3x^3+2x^2+2x-1$ "
   ]
  },
  {
   "cell_type": "markdown",
   "id": "972b7453-92d5-41a5-bde1-89c38c04ed69",
   "metadata": {},
   "source": [
    "## Esercizio 3\n",
    "\n",
    "La temperatura $T$ in  prossimità  del suolo  subisce una variazione dipendente dalla latitudine $L$ nel seguente modo\n",
    "\n",
    "L=np.array([-55, -45, -35, -25, -15, -5, 5, 15, 25, 35, 45, 55, 65])\n",
    "\n",
    "T=np.array([3.7, 3.7,3.52,3.27, 3.2, 3.15, 3.15, 3.25, 3.47, 3.52, 3.65, 3.67, 3.52])\n",
    "\n",
    "\n",
    " \n",
    "- Si vuole costruire un modello che descriva la legge $T = T(L)$ anche per latitudini non misurate. A tal fine si scriva uno script che fornisca la variazione di temperatura alle latitudini $L = \\pm 42$ utilizzando il polinomio interpolante. Visualizzare in un grafico i dati assegnati, il polinomio interpolante e le stime di $T$ ottenute per $L = \\pm 42$.\n"
   ]
  },
  {
   "cell_type": "markdown",
   "id": "6d77f81a-8fe4-4643-9eeb-8a4569f12cc8",
   "metadata": {},
   "source": [
    "## Esercizio 4 \n",
    "\n",
    "Scrivere uno script che calcoli il polinomio interpolante un insieme di punti $P_i =(x_i, y_i)$ $i = 0, ..., n $ nella forma di Lagrange con $x_i$ scelti dall'utente come:\n",
    "    - punti equidistanti in un intervallo $[a, b]$,\n",
    "    - punti definiti dai nodi di Chebyshev nell'intervallo $[a, b]$, ossia\n",
    "$$\n",
    "x_i = \\frac{(a + b)}{2}+\\frac{(b-a)}{2} \\, \\cos \\left(\n",
    "\\frac{(2i+1)\\pi}{2(n + 1)}\n",
    "\\right), \\quad  i =0, ..., n \n",
    "$$\n",
    " \n",
    "  e $y_i = f(x_i)$ ottenuti dalla valutazione nei punti $x_i$ di una funzione test   $f: \\ [a, b] \\rightarrow {\\mathbb R}$. Testare lo script sulle funzioni\n",
    " \n",
    "  - $f(x) = \\sin(x)-2 \\sin(2x)$,   $ \\quad x \\in [-\\pi,\\pi]$,\n",
    "  -  $f(x) = \\sinh(x)$, $ \\quad  x \\in [-2, 2]$,\n",
    "  - $f(x) = |x|$,  $ \\quad x \\in [-1, 1]$,\n",
    "  - $f(x) = 1/(1+25*x^2)$,  $ \\quad x \\in [-1, 1]$ (funzione di Runge).\n",
    "\n",
    "Calcolare l'errore di interpolazione $r(x) = f(x)-p(x)$,\n",
    "tra la funzione test $f(x)$ e il polinomio di interpolazione $p(x)$.\n",
    "Visualizzare il grafico di $f(x)$ e $p(x)$, ed il grafico di\n",
    "$|r(x)|$. Cosa si osserva? Cosa accade all'aumentare del grado $n$ di $p(x)$?\n",
    "(Si costruisca una tabella che riporti i valori di $\\|r(x)\\|_{\\infty}$ al variare di $n$)."
   ]
  },
  {
   "cell_type": "markdown",
   "id": "d35dfb04-023a-4ccd-803a-caffd3d1e38c",
   "metadata": {},
   "source": [
    "## Esercizio 5\n",
    "\n",
    "Per $n = 5, 10, 15, 20$ fornire un'approssimazione della costante di Lebesgue\n",
    "scegliendo $x_1, x_2, ..., x_{n+1}$ equispaziati in $[-1, 1]$ oppure coincidenti con\n",
    "i nodi di Chebyshev $x_i = \\cos \\left(\\frac{(2i-1)\\pi}{2(n + 1)}  \\right)$, $i =1, ..., n + 1$."
   ]
  },
  {
   "cell_type": "markdown",
   "id": "6c9c9adf-ba6e-4c00-9ee5-d835c83abe01",
   "metadata": {},
   "source": [
    "## Esercizio 6\n",
    "\n",
    "Si interpolino mediante il polinomio $p_{21}(x)$ i 22 punti $(x_i, y_i)$ con $x_i$ equispaziati in $[-1, 1]$ e $y_i = \\sin(2 \\pi x_i)$. Si considerino poi le ordinate $\\tilde{y}_i = y_i + \\varepsilon_i$, dove $\\varepsilon_i$ denota l'$i$-esima componente del vettore $0.0002*np.random.random(22,)$, e si calcoli il corrispondente\n",
    "polinomio interpolante $\\tilde{p}_{21}(x)$. Si visualizzino e si commentino\n",
    "i risultati ottenuti, calcolando anche l'errore relativo sul polinomio interpolante\n",
    "e sui dati.\n"
   ]
  },
  {
   "cell_type": "code",
   "execution_count": null,
   "id": "1dd70f25-a335-4755-9d5f-50d1707ad4bd",
   "metadata": {},
   "outputs": [],
   "source": []
  },
  {
   "cell_type": "code",
   "execution_count": null,
   "id": "2eb5bc62-89b0-4edb-8393-77c84a90fb88",
   "metadata": {},
   "outputs": [],
   "source": []
  },
  {
   "cell_type": "code",
   "execution_count": null,
   "id": "bdb75431-4e50-411f-b8b4-fded6787eb4a",
   "metadata": {},
   "outputs": [],
   "source": []
  }
 ],
 "metadata": {
  "kernelspec": {
   "display_name": "Python 3 (ipykernel)",
   "language": "python",
   "name": "python3"
  },
  "language_info": {
   "codemirror_mode": {
    "name": "ipython",
    "version": 3
   },
   "file_extension": ".py",
   "mimetype": "text/x-python",
   "name": "python",
   "nbconvert_exporter": "python",
   "pygments_lexer": "ipython3",
   "version": "3.12.7"
  }
 },
 "nbformat": 4,
 "nbformat_minor": 5
}
