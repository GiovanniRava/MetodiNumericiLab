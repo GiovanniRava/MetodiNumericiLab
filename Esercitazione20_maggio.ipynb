{
 "cells": [
  {
   "cell_type": "markdown",
   "id": "6fe14f5e-f4e8-45db-a61f-be34bc5ebee8",
   "metadata": {},
   "source": [
    "## Esercitazione del 20 Maggio 2025"
   ]
  },
  {
   "cell_type": "markdown",
   "id": "e0b4ad6e-adec-42e2-8470-e17c17f7ec4b",
   "metadata": {},
   "source": [
    "# Esercizio 1\n",
    "\n",
    "Scrivere un codice Python per l'addestramento di una rete MLP  per risolvere un problema di regressione. La rete ha la seguente architettura: un layer di input formato da un solo neurone e un layer di output formato da un solo neurone.\n",
    "\n",
    "**Algoritmo di addestramento:**\n",
    "\n",
    "Utilizzeremo l'algoritmo di ottimizzazione Batch Gradient Descent con passo di apprendimento learning_rate per aggiornare i pesi della rete durante l'addestramento."
   ]
  },
  {
   "cell_type": "markdown",
   "id": "7102b93e-2eee-4ebb-9de9-8e16da345326",
   "metadata": {},
   "source": [
    "## Descrizione del problema:\n",
    "\n",
    "Consideriamo un dataset di coppie (x, y), dove x è un valore di input scalare e y è il valore di output desiderato. La rete MLP deve apprendere la relazione tra x e y in modo da poter prevedere y per nuovi valori di x."
   ]
  },
  {
   "cell_type": "markdown",
   "id": "17175e12-bfc0-4d34-a0b1-55b381e86080",
   "metadata": {},
   "source": [
    "-   Implementare la  funzione forward_propagation che calcola    l'output della rete per un dato input x.\n",
    "-   Implementare la  funzione backward_propagation per calcolare il gradiente della funzione di perdita rispetto ai pesi della rete ed aggiornare i pesi con il metodo del  Gradient Descent.\n",
    "       \n",
    "\n",
    "    "
   ]
  },
  {
   "cell_type": "markdown",
   "id": "0b4225d6-47c5-406f-bf9c-2eac836e1a99",
   "metadata": {},
   "source": [
    "Addestrare la rete:\n",
    "\n",
    "-     Caricare un dataset di coppie (x, y).\n",
    "-     Inizializzare i pesi della rete con valori casuali.\n",
    "-     Iterare su un numero definito di epoche:\n",
    "        Per ogni campione di training (x, y):\n",
    "          -  Calcolare l'output previsto y_pred\n",
    "             (forward_propagation).\n",
    "        Calcolare l'errore MSE (np.mean(0.5*(y_pred - y)**2)\n",
    "         -Calcolare il gradiente della funzione Costo\n",
    "           rispetto ai pesi (backward_propagation).\n",
    "         -Aggiornare i pesi della rete utilizzando\n",
    "          l'algoritmo di Batch Gradient Descent.\n",
    "\n",
    "   \n",
    "-    Sperimentare con diversi valori di learning rate e numero di\n",
    "     epoche per ottimizzare le prestazioni della rete.\n",
    "\n",
    "-    Visualizzare il grafico della Cost-Function in funzione delle epoche\n",
    "\n",
    "-    Usa la funzione di attivazione RELU."
   ]
  },
  {
   "cell_type": "markdown",
   "id": "cea306b4-e61e-474a-b24b-dd56bd797aa6",
   "metadata": {},
   "source": [
    "Valutare le prestazioni della rete:\n",
    "-    Su un set di dati di test e  Visualizzare i risultati ottenuti."
   ]
  },
  {
   "cell_type": "code",
   "execution_count": 1,
   "id": "06a4caa3-3dbc-4f6d-a4db-038e0659f994",
   "metadata": {
    "tags": []
   },
   "outputs": [],
   "source": [
    "import numpy as np\n",
    "import matplotlib.pyplot as plt\n",
    "import random\n",
    "seed=11\n",
    "random.seed(seed)\n",
    "np.random.seed(seed)\n",
    "\n",
    "def relu(x):\n",
    "  \"\"\"\n",
    "\n",
    "  Argomenti:\n",
    "    x: Valore di input.\n",
    "\n",
    "  Restituisce:\n",
    "    Valore di output della funzione ReLU.\n",
    "  \"\"\"\n",
    "  return np.where(x >= 0, x, 0)\n",
    "\n",
    "def relu_derivative(x):\n",
    "  \"\"\"\n",
    "  Funzione per calcolare la derivata vettoriale della funzione ReLU.\n",
    "\n",
    "  Argomenti:\n",
    "    x: Array di input.\n",
    "\n",
    "  Restituisce:\n",
    "    Array contenente la derivata della funzione ReLU per ogni elemento in x.\n",
    "  \"\"\"\n",
    "  return np.where(x >= 0, 1, 0)\n"
   ]
  },
  {
   "cell_type": "code",
   "execution_count": 25,
   "id": "1862e5ea-e9d2-4fac-9361-d0e0421bfb76",
   "metadata": {},
   "outputs": [],
   "source": [
    "def forward_propagation(x,w,b):\n",
    "    a=w*x+b\n",
    "    z=relu(a)\n",
    "    return z,a\n"
   ]
  },
  {
   "cell_type": "code",
   "execution_count": 43,
   "id": "1d496514-b11a-4dbb-a8a6-f3c7aa4adc6a",
   "metadata": {},
   "outputs": [],
   "source": [
    "def backward_propagation(y_pred, y, x, a, w, b, learing_rate):\n",
    "    delta_1=(y_pred -y)-relu_derivative(a)\n",
    "    w=w-learing_rate*np.sum(delta_1*x)/x.shape[0]\n",
    "    b=b-learing_rate*np.sum(delta_1)/x1.shape[0]\n",
    "\n",
    "    return w,b"
   ]
  },
  {
   "cell_type": "code",
   "execution_count": 45,
   "id": "53d681c7-fcb6-4111-9ce5-fe2d46a706c1",
   "metadata": {},
   "outputs": [],
   "source": [
    "#funzione costo\n",
    "def mse(y_pred, y_true):\n",
    "    return np.mean(0.5*(y_pred -y_true)**2)"
   ]
  },
  {
   "cell_type": "code",
   "execution_count": 47,
   "id": "16ec9654-14e2-42d9-83cd-ab88bb609636",
   "metadata": {},
   "outputs": [],
   "source": [
    "#Dati di esempio\n",
    "x=np.linspace(0.0,10, 50)\n",
    "y=2*x+5+0.4*np.random.normal(0,2,50)\n",
    "#Iniziallizzo i pesi \n",
    "w=np.random.rand()\n",
    "b=np.random.rand()"
   ]
  },
  {
   "cell_type": "code",
   "execution_count": 51,
   "id": "52b620ff-e4c6-4fbf-9431-21d9b53b5f81",
   "metadata": {},
   "outputs": [
    {
     "ename": "NameError",
     "evalue": "name 'x1' is not defined",
     "output_type": "error",
     "traceback": [
      "\u001b[1;31m---------------------------------------------------------------------------\u001b[0m",
      "\u001b[1;31mNameError\u001b[0m                                 Traceback (most recent call last)",
      "Cell \u001b[1;32mIn[51], line 14\u001b[0m\n\u001b[0;32m     11\u001b[0m     v_loss\u001b[38;5;241m.\u001b[39mappend(loss)\n\u001b[0;32m     13\u001b[0m     \u001b[38;5;66;03m#Aggiornamento dei pesi e del bias con il metodo del batch grandient descent\u001b[39;00m\n\u001b[1;32m---> 14\u001b[0m     w,b \u001b[38;5;241m=\u001b[39mbackward_propagation(y_pred, y, x, a, w, b, learning_rate)\n\u001b[0;32m     16\u001b[0m \u001b[38;5;66;03m#predizione su nuovi dati \u001b[39;00m\n\u001b[0;32m     17\u001b[0m xnew \u001b[38;5;241m=\u001b[39m np\u001b[38;5;241m.\u001b[39mlinspace(\u001b[38;5;241m0.0\u001b[39m,\u001b[38;5;241m10\u001b[39m,\u001b[38;5;241m100\u001b[39m)\n",
      "Cell \u001b[1;32mIn[43], line 4\u001b[0m, in \u001b[0;36mbackward_propagation\u001b[1;34m(y_pred, y, x, a, w, b, learing_rate)\u001b[0m\n\u001b[0;32m      2\u001b[0m delta_1\u001b[38;5;241m=\u001b[39m(y_pred \u001b[38;5;241m-\u001b[39my)\u001b[38;5;241m-\u001b[39mrelu_derivative(a)\n\u001b[0;32m      3\u001b[0m w\u001b[38;5;241m=\u001b[39mw\u001b[38;5;241m-\u001b[39mlearing_rate\u001b[38;5;241m*\u001b[39mnp\u001b[38;5;241m.\u001b[39msum(delta_1\u001b[38;5;241m*\u001b[39mx)\u001b[38;5;241m/\u001b[39mx\u001b[38;5;241m.\u001b[39mshape[\u001b[38;5;241m0\u001b[39m]\n\u001b[1;32m----> 4\u001b[0m b\u001b[38;5;241m=\u001b[39mb\u001b[38;5;241m-\u001b[39mlearing_rate\u001b[38;5;241m*\u001b[39mnp\u001b[38;5;241m.\u001b[39msum(delta_1)\u001b[38;5;241m/\u001b[39mx1\u001b[38;5;241m.\u001b[39mshape[\u001b[38;5;241m0\u001b[39m]\n\u001b[0;32m      6\u001b[0m \u001b[38;5;28;01mreturn\u001b[39;00m w,b\n",
      "\u001b[1;31mNameError\u001b[0m: name 'x1' is not defined"
     ]
    }
   ],
   "source": [
    "#iperparametri\n",
    "epochs=5000\n",
    "learning_rate = 0.0005\n",
    "v_loss=[]\n",
    "\n",
    "for epoch in range(epochs):\n",
    "    #FORWWARD PROPAGATION\n",
    "    y_pred,a=forward_propagation(x,w,b)\n",
    "    #calcolo funzione costo \n",
    "    loss=mse(y_pred,y)\n",
    "    v_loss.append(loss)\n",
    "\n",
    "    #Aggiornamento dei pesi e del bias con il metodo del batch grandient descent\n",
    "    w,b =backward_propagation(y_pred, y, x, a, w, b, learning_rate)\n",
    "\n",
    "#predizione su nuovi dati \n",
    "xnew = np.linspace(0.0,10,100)\n",
    "y_pred,a=forward_propagation(xnew,w,b)\n",
    "\n",
    "plt.plot(x,y,'o')"
   ]
  },
  {
   "cell_type": "markdown",
   "id": "306bdd8d-cef3-4852-ac79-c11993fa2637",
   "metadata": {},
   "source": [
    "# Esercizio 2\n",
    "\n",
    "Risolvere lo stesso problema cambiando l'architettura della rete:\n",
    "\n",
    "La rete MLP avrà la seguente struttura:\n",
    "\n",
    "    1 layer di input formato da un solo neurone che riceve il valore di x\n",
    "    2 hidden layers ognuno formato da un solo neurone con funzione di attivazione ReLU\n",
    "    1 layer di output formato da un solo neurone che produce il valore previsto di y"
   ]
  },
  {
   "cell_type": "code",
   "execution_count": null,
   "id": "c2ec1855-2a0a-4c78-a1d2-97d92f44a12a",
   "metadata": {},
   "outputs": [],
   "source": []
  },
  {
   "cell_type": "code",
   "execution_count": null,
   "id": "93b67121-5da0-4124-af6d-2f9a258970f6",
   "metadata": {},
   "outputs": [],
   "source": []
  },
  {
   "cell_type": "code",
   "execution_count": null,
   "id": "47fd0032-6356-4b53-9791-12154584c069",
   "metadata": {},
   "outputs": [],
   "source": []
  },
  {
   "cell_type": "code",
   "execution_count": null,
   "id": "b855c50f-13de-45a7-91ff-021a7c76fce8",
   "metadata": {},
   "outputs": [],
   "source": []
  },
  {
   "cell_type": "code",
   "execution_count": null,
   "id": "ed50d613-2d33-4cae-b20d-470d6fbc7545",
   "metadata": {},
   "outputs": [],
   "source": []
  },
  {
   "cell_type": "code",
   "execution_count": null,
   "id": "1987a4d2-3fc2-4df5-93e7-df689a66073c",
   "metadata": {},
   "outputs": [],
   "source": []
  },
  {
   "cell_type": "code",
   "execution_count": null,
   "id": "f6a56d6e-3173-4580-8d22-0d540955d3ca",
   "metadata": {},
   "outputs": [],
   "source": []
  },
  {
   "cell_type": "code",
   "execution_count": null,
   "id": "3af197a6-8eb3-4cbf-abd2-50000edc86b3",
   "metadata": {},
   "outputs": [],
   "source": []
  }
 ],
 "metadata": {
  "kernelspec": {
   "display_name": "Python [conda env:base] *",
   "language": "python",
   "name": "conda-base-py"
  },
  "language_info": {
   "codemirror_mode": {
    "name": "ipython",
    "version": 3
   },
   "file_extension": ".py",
   "mimetype": "text/x-python",
   "name": "python",
   "nbconvert_exporter": "python",
   "pygments_lexer": "ipython3",
   "version": "3.12.4"
  }
 },
 "nbformat": 4,
 "nbformat_minor": 5
}
